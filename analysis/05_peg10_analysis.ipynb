{
 "cells": [
  {
   "cell_type": "markdown",
   "id": "39042945",
   "metadata": {},
   "source": [
    "### Modules"
   ]
  },
  {
   "cell_type": "code",
   "execution_count": null,
   "id": "721c7baf",
   "metadata": {
    "tags": []
   },
   "outputs": [],
   "source": [
    "# basic\n",
    "import os, sys, glob, pybedtools\n",
    "import numpy as np, pandas as pd\n",
    "from Bio import SeqIO\n",
    "import matplotlib.pyplot as plt, seaborn as sns\n",
    "from matplotlib.cm import ScalarMappable\n",
    "from matplotlib.ticker import FormatStrFormatter\n",
    "from scipy.stats import fisher_exact"
   ]
  },
  {
   "cell_type": "markdown",
   "id": "8df79d86",
   "metadata": {},
   "source": [
    "### Figure 6A"
   ]
  },
  {
   "cell_type": "code",
   "execution_count": null,
   "id": "5a948877-6dee-4fc8-b7e0-6bd2b413066c",
   "metadata": {
    "tags": []
   },
   "outputs": [],
   "source": [
    "### m6A peaks \n",
    "pred = pd.read_csv('../data/hepg2_m6atm.csv')\n",
    "pred_m6a = pred[pred['m6a'].str.contains('yes')]\n",
    "m6a_sites = pred_m6a.gn_site.tolist()\n",
    "\n",
    "peg10_df = pred.loc[pred['name2'] == 'PEG10',['chrom', 'gn_site', 'gn_pos', 'gn_pos_1', 'name2', 'probability', 'strand']]\n",
    "peg10_df['m6a'] = peg10_df.gn_site.isin(m6a_sites)\n",
    "peg10_df = peg10_df.loc[:,['chrom', 'gn_pos', 'gn_pos_1', 'name2', 'probability', 'strand', 'm6a']]\n",
    "peg10_bedtools = pybedtools.BedTool.from_dataframe(df = peg10_df)"
   ]
  },
  {
   "cell_type": "code",
   "execution_count": null,
   "id": "ea3b25f8",
   "metadata": {
    "tags": []
   },
   "outputs": [],
   "source": [
    "### eCLIP data\n",
    "rbp_bed_hepg2_encode = pd.read_csv('../data/rbp_hepg2.bed')\n",
    "rbp_list = sorted(list(set(rbp_bed_hepg2_encode.name)))\n",
    "\n",
    "pval_list = []\n",
    "or_list = []\n",
    "val_list = []\n",
    "for i in rbp_list:\n",
    "    \n",
    "    # eCLIP data\n",
    "    eclip_bed = rbp_bed_hepg2_encode[rbp_bed_hepg2_encode['name'].isin([i])]\n",
    "    eclip_bed = eclip_bed.loc[:,['chrom', 'chromStart', 'chromEnd', 'name']]\n",
    "    eclip_bedtools = pybedtools.BedTool.from_dataframe(df = eclip_bed)\n",
    "    \n",
    "    # overlapping\n",
    "    overlapping = peg10_bedtools.intersect(eclip_bedtools, wao = True)\n",
    "    overlapping = overlapping.to_dataframe()\n",
    "    overlapping = overlapping[~overlapping.loc[:,['chrom', 'start', 'end']].duplicated()]\n",
    "    \n",
    "    # frequency table\n",
    "    val1 = overlapping[(overlapping['thickStart'] == True) & (overlapping['blockSizes'] == i)].shape[0]\n",
    "    val2 = overlapping[(overlapping['thickStart'] == True) & (overlapping['blockSizes'] == '.')].shape[0]\n",
    "    val3 = overlapping[(overlapping['thickStart'] == False) & (overlapping['blockSizes'] == i)].shape[0]\n",
    "    val4 = overlapping[(overlapping['thickStart'] == False) & (overlapping['blockSizes'] == '.')].shape[0]\n",
    "    \n",
    "    # fisher test\n",
    "    table = np.array([[val1, val2], [val3, val4]])\n",
    "    res = fisher_exact(table, alternative = 'greater')\n",
    "    \n",
    "    pval_list.append(res[1])\n",
    "    or_list.append(res[0])\n",
    "    val_list.append([val1, val2, val3, val4])"
   ]
  },
  {
   "cell_type": "code",
   "execution_count": null,
   "id": "625c0b9e",
   "metadata": {
    "tags": []
   },
   "outputs": [],
   "source": [
    "val_list_zip = list(zip(*val_list))\n",
    "result_table = pd.DataFrame({'rbp': rbp_list,\n",
    "                             'odds': or_list,\n",
    "                             'p_val': pval_list,\n",
    "                             'val1': val_list_zip[0],\n",
    "                             'val2': val_list_zip[1],\n",
    "                             'val3': val_list_zip[2],\n",
    "                             'val4': val_list_zip[3]})"
   ]
  },
  {
   "cell_type": "code",
   "execution_count": null,
   "id": "fd903ce0-49be-4e8b-b127-a6b76252ddc2",
   "metadata": {
    "tags": []
   },
   "outputs": [],
   "source": [
    "##### main\n",
    "sns.set_theme(style = 'whitegrid') # theme\n",
    "tab_color = sns.color_palette() # color palette\n",
    "fig, ax = plt.subplots(figsize = (12, 4)) # figure size\n",
    "\n",
    "### plot\n",
    "scatter_table = result_table.dropna()\n",
    "scatter = plt.scatter(scatter_table['odds'], scatter_table['val1'], c = scatter_table['p_val'], s = 80, cmap = 'viridis_r', alpha = 0.8, \n",
    "                      linewidth = 1, edgecolors = 'black')\n",
    "\n",
    "# cmap\n",
    "pval = scatter_table['p_val']\n",
    "data_color = [x/max(pval) for x in pval]\n",
    "my_cmap = plt.cm.get_cmap('viridis_r')\n",
    "colors = my_cmap(data_color)\n",
    "\n",
    "sm = ScalarMappable(cmap = my_cmap, norm = plt.Normalize(vmin = min(pval), vmax = max(pval)))\n",
    "sm.set_array([])\n",
    "\n",
    "cbar = plt.colorbar(sm, pad = 0.01, format = FormatStrFormatter('%g'))\n",
    "cbar.ax.tick_params(labelsize = 12)\n",
    "cbar.set_label('$\\\\mathit{P}$ value', rotation = 270, labelpad = 30, fontsize = 20)\n",
    "cbar.set_ticks(ticks = [0.05, 0.1, 0.2, 0.5])\n",
    "\n",
    "# axis\n",
    "ax.set_xlabel('Odds ratio', fontsize = 16)\n",
    "ax.set_ylabel('Number of overlapping', fontsize = 16)\n",
    "ax.tick_params(labelsize = 14)"
   ]
  },
  {
   "cell_type": "markdown",
   "id": "2b0d2afc-f165-41a7-8528-dbffd5c3530b",
   "metadata": {},
   "source": [
    "### Figure S7"
   ]
  },
  {
   "cell_type": "code",
   "execution_count": null,
   "id": "b67b4e10-84fb-4a23-a0ac-2bc68aed1886",
   "metadata": {},
   "outputs": [],
   "source": [
    "### pie chart\n",
    "sns.set_theme(style = 'white') # theme\n",
    "tab_color = sns.color_palette('Set2') # color palette\n",
    "fig, ax = plt.subplots(figsize = (8, 8)) # figure size\n",
    "\n",
    "y1 = result_table[result_table.isna().any(axis=1)].shape[0]\n",
    "y2 = scatter_table.shape[0]\n",
    "\n",
    "labels = ['No overlap', '≥1 overlap']\n",
    "sizes = [y1, y2]\n",
    "\n",
    "ax.pie(sizes, labels = labels, explode = [0, 0.05], autopct = lambda x: int(np.round(x/100*sum(sizes), 0)),\n",
    "       shadow = False, startangle = 80, labeldistance = None, colors = [tab_color[0], tab_color[6]], \n",
    "       textprops={'fontsize': 26, 'weight': 'bold'},\n",
    "       wedgeprops={'linewidth': 0.5})\n",
    "\n",
    "fig.legend(labels, loc = 'upper right', fontsize = 20)"
   ]
  },
  {
   "cell_type": "code",
   "execution_count": null,
   "id": "a939f56f",
   "metadata": {},
   "outputs": [],
   "source": []
  }
 ],
 "metadata": {
  "kernelspec": {
   "display_name": "Python 3 (ipykernel)",
   "language": "python",
   "name": "python3"
  },
  "language_info": {
   "codemirror_mode": {
    "name": "ipython",
    "version": 3
   },
   "file_extension": ".py",
   "mimetype": "text/x-python",
   "name": "python",
   "nbconvert_exporter": "python",
   "pygments_lexer": "ipython3",
   "version": "3.7.16"
  }
 },
 "nbformat": 4,
 "nbformat_minor": 5
}
