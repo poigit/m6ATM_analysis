{
 "cells": [
  {
   "cell_type": "markdown",
   "id": "39042945",
   "metadata": {},
   "source": [
    "### Modules"
   ]
  },
  {
   "cell_type": "code",
   "execution_count": null,
   "id": "721c7baf",
   "metadata": {
    "tags": []
   },
   "outputs": [],
   "source": [
    "# basic\n",
    "import os, sys, glob, pybedtools\n",
    "import numpy as np, pandas as pd\n",
    "from Bio import SeqIO\n",
    "import matplotlib.pyplot as plt, seaborn as sns\n",
    "from matplotlib.cm import ScalarMappable\n",
    "from matplotlib.ticker import FormatStrFormatter\n",
    "from scipy.stats import fisher_exact"
   ]
  },
  {
   "cell_type": "markdown",
   "id": "4a4dbc90",
   "metadata": {},
   "source": [
    "### Figure 5A"
   ]
  },
  {
   "cell_type": "code",
   "execution_count": null,
   "id": "71cf0044-a513-416f-b980-5966491a3602",
   "metadata": {
    "tags": []
   },
   "outputs": [],
   "source": [
    "### 'hepg2tx_m6atm_biotype.csv' contains trasncript-level m6A prediction labeled by biotype \n",
    "### reference transcript file: GRCh38_rna_ensembl.fa'"
   ]
  },
  {
   "cell_type": "code",
   "execution_count": null,
   "id": "67e4edc8-5386-4b04-90b7-aea3f996c6a1",
   "metadata": {
    "tags": []
   },
   "outputs": [],
   "source": [
    "pred_type = pd.read_csv('../data/hepg2tx_m6atm_biotype.csv')\n",
    "type_table = pred_type.groupby(by = 'type')['transcript'].count().reset_index(name = 'site')\n",
    "type_table = type_table.sort_values(by = 'site', ascending = False)\n",
    "others = pd.DataFrame({'type': 'others', 'site': type_table.iloc[4:,:].site.sum()}, index=[0])\n",
    "type_table = pd.concat([type_table.iloc[:4,:], others])\n",
    "values = type_table.site.tolist()"
   ]
  },
  {
   "cell_type": "code",
   "execution_count": null,
   "id": "cc979c90-e1e6-4106-9214-2d37195b44eb",
   "metadata": {
    "tags": []
   },
   "outputs": [],
   "source": [
    "### pie chart\n",
    "sns.set_theme() # theme\n",
    "fig, ax = plt.subplots(figsize = (8, 8)) # figure size\n",
    "\n",
    "labels = type_table.type.tolist()\n",
    "sizes = values\n",
    "explode = [0, 0.1, 0.1, 0.1, 0]\n",
    "\n",
    "ax.pie(sizes, labels = labels, autopct = '%1.1f%%', shadow = False, startangle = 30, explode = explode, pctdistance = 1.2, labeldistance = None, \n",
    "       colors = sns.color_palette('Set2')[0:5], wedgeprops={'linewidth': 0.5})\n",
    "\n",
    "fig.legend(labels, loc = 'upper right')"
   ]
  },
  {
   "cell_type": "markdown",
   "id": "98f89d38-5f19-4eba-946a-670f511156cc",
   "metadata": {
    "tags": []
   },
   "source": [
    "### Figure 5B"
   ]
  },
  {
   "cell_type": "code",
   "execution_count": null,
   "id": "cabcd40c-bce2-472a-b59a-93a1238a6c29",
   "metadata": {
    "tags": []
   },
   "outputs": [],
   "source": [
    "### 'hepg2_m6atm_region.csv' contains m6A prediction labeled by regions \n",
    "### ensembl-annotated reference region files(3'UTR, Exons, 5'UTR) were downloaded from UCSC table browser"
   ]
  },
  {
   "cell_type": "code",
   "execution_count": null,
   "id": "666b5433-dd07-4a2f-b2be-83db2b7f11ec",
   "metadata": {
    "tags": []
   },
   "outputs": [],
   "source": [
    "pred_region = pd.read_csv('../data/hepg2_m6atm_region.csv')\n",
    "region_table = pred_region.groupby(by = 'region')['region'].count().reset_index(name = 'count')\n",
    "region_table = region_table.sort_values(by = 'count', ascending = False)\n",
    "values = region_table['count'].tolist()"
   ]
  },
  {
   "cell_type": "code",
   "execution_count": null,
   "id": "2e5080cc-65aa-4725-8926-5890cff8f8b7",
   "metadata": {
    "tags": []
   },
   "outputs": [],
   "source": [
    "### pie chart\n",
    "sns.set_theme() # theme\n",
    "fig, ax = plt.subplots(figsize = (8, 8)) # figure size\n",
    "\n",
    "labels = region_table.region.tolist()\n",
    "sizes = values\n",
    "\n",
    "ax.pie(sizes, labels = labels, autopct = '%1.1f%%', shadow = False, startangle = 30, pctdistance = 1.2, labeldistance = None, \n",
    "       colors = sns.color_palette()[0:3], wedgeprops={'linewidth': 0.5})\n",
    "\n",
    "fig.legend(labels, loc = 'upper right')"
   ]
  },
  {
   "cell_type": "markdown",
   "id": "31b24d3d",
   "metadata": {},
   "source": [
    "### Figure 5E"
   ]
  },
  {
   "cell_type": "code",
   "execution_count": null,
   "id": "6b9ca3eb-0215-42aa-9d65-8485f41560ab",
   "metadata": {
    "tags": []
   },
   "outputs": [],
   "source": [
    "pred = pd.read_csv('../data/hepg2_m6atm.csv')\n",
    "pred_m6a = pred[(pred['m6a'].str.contains('yes')) & (pred.coverage>=100)]"
   ]
  },
  {
   "cell_type": "code",
   "execution_count": null,
   "id": "c7bba560",
   "metadata": {},
   "outputs": [],
   "source": [
    "### gene list \n",
    "file = open('../data/GOgene_hepg2.csv', 'w')\n",
    "for gene in list(set(pred_m6a.name2)):\n",
    "    \n",
    "\tfile.write(gene + '\\n')\n",
    "    \n",
    "file.close()"
   ]
  },
  {
   "cell_type": "code",
   "execution_count": null,
   "id": "378afa25",
   "metadata": {},
   "outputs": [],
   "source": [
    "### bar plot \n",
    "sns.set_theme(style = 'white') # theme\n",
    "tab_color = sns.color_palette() # color palette\n",
    "fig, ax = plt.subplots(figsize = (25, 6)) # figure size\n",
    "\n",
    "### data\n",
    "GO_table = pd.read_csv('../data/GOtable_hepg2.txt', sep = '\\t')\n",
    "pval = GO_table.PValue[0:10]\n",
    "terms = [i.split('~')[1] for i in GO_table.Term][0:10]\n",
    "counts = GO_table['Count'][0:10]\n",
    "\n",
    "### cmap\n",
    "data_color = [x/max(pval) for x in pval]\n",
    "my_cmap = plt.cm.get_cmap('viridis_r')\n",
    "colors = my_cmap(data_color)\n",
    "\n",
    "x = np.arange(len(terms))  # the label locations\n",
    "width = 0.5  # the width of the bars\n",
    "\n",
    "rects = ax.barh(x, counts, color = colors)\n",
    "sm = ScalarMappable(cmap = my_cmap, norm = plt.Normalize(vmin = min(pval), vmax = max(pval)))\n",
    "sm.set_array([])\n",
    "\n",
    "cbar = plt.colorbar(sm)\n",
    "cbar.ax.tick_params(labelsize = 20)\n",
    "cbar.set_label('p-value ($10^{-5}$)', rotation = 270, labelpad = 40, fontsize = 28)\n",
    "\n",
    "ax.set_xlabel('Counts', fontsize = 36)\n",
    "ax.set_yticks(x)\n",
    "ax.set_yticklabels(terms)\n",
    "ax.invert_yaxis()  # labels read top-to-bottom\n",
    "ax.tick_params(labelsize = 25)"
   ]
  },
  {
   "cell_type": "markdown",
   "id": "fe35be62",
   "metadata": {},
   "source": [
    "### Figure 5E"
   ]
  },
  {
   "cell_type": "code",
   "execution_count": null,
   "id": "0c205131-41e2-493f-8cfa-72c043536d85",
   "metadata": {
    "tags": []
   },
   "outputs": [],
   "source": [
    "pred = pd.read_csv('../data/hepg2_m6atm.csv')\n",
    "pred_m6a = pred[pred['m6a'].str.contains('yes')]"
   ]
  },
  {
   "cell_type": "code",
   "execution_count": null,
   "id": "590230f2-6bc1-4021-b5c6-518abbed1bcc",
   "metadata": {
    "tags": []
   },
   "outputs": [],
   "source": [
    "with open('../data/motif_hepg2.csv', 'w') as f:\n",
    "    for motif in pred_m6a['motif']:\n",
    "        f.write(motif.replace('T', 'U')+'\\n')"
   ]
  },
  {
   "cell_type": "markdown",
   "id": "d0281d2e",
   "metadata": {},
   "source": [
    "### Figure 5F"
   ]
  },
  {
   "cell_type": "code",
   "execution_count": null,
   "id": "95fb7ad7-e11d-4ed4-87f1-6e80abf81583",
   "metadata": {
    "tags": []
   },
   "outputs": [],
   "source": [
    "pred = pd.read_csv('../data/hepg2_m6atm.csv')\n",
    "pred_m6a = pred[pred['m6a'].str.contains('yes')]"
   ]
  },
  {
   "cell_type": "code",
   "execution_count": null,
   "id": "24e2b220",
   "metadata": {
    "tags": []
   },
   "outputs": [],
   "source": [
    "gene_table = pred_m6a.groupby('name2', as_index = False).agg({'ratio': 'mean', 'gn_site': 'count', 'coverage': 'mean'})\n",
    "gene_table = gene_table[gene_table.gn_site>=15]\n",
    "gene_table = gene_table[gene_table.coverage>=50]\n",
    "gene_table = gene_table.sort_values('ratio', ascending = False)"
   ]
  },
  {
   "cell_type": "code",
   "execution_count": null,
   "id": "c400ff32",
   "metadata": {},
   "outputs": [],
   "source": [
    "##### main\n",
    "sns.set_theme(style = 'white') # theme\n",
    "tab_color = sns.color_palette() # color palette\n",
    "fig, ax = plt.subplots(figsize = (20, 5)) # figure size\n",
    "\n",
    "# data\n",
    "top_genes = gene_table.name2[0:10].tolist()\n",
    "top_df = pred_m6a[pred_m6a.name2.isin(top_genes)]\n",
    "top_df = top_df.set_index('name2')\n",
    "top_df = top_df.loc[top_genes]\n",
    "top_df['name2'] = top_df.index\n",
    "\n",
    "# plot\n",
    "sns.boxplot(x = 'name2', y = 'ratio', data = top_df, width = 0.2,\n",
    "            showmeans = True, meanprops = {'marker': 'P','markerfacecolor': 'yellow', 'markeredgecolor': 'black', 'markersize': '10'})\n",
    "sns.stripplot(x = 'name2', y = 'ratio', data = top_df,\n",
    "              hue = 'name2', size = 4, edgecolor = 'black', linewidth = 0.5, legend = False)\n",
    "\n",
    "# Set transparancy for all box\n",
    "for patch in ax.patches:\n",
    "    r, g, b, a = patch.get_facecolor()\n",
    "    patch.set_facecolor((r, g, b, .6))\n",
    "    \n",
    "ax.set_ylabel('m6A ratio', fontsize = 25)\n",
    "ax.set(xlabel = None)\n",
    "ax.tick_params(labelsize = 20)\n",
    "plt.xticks(rotation = 45)"
   ]
  },
  {
   "cell_type": "code",
   "execution_count": null,
   "id": "e4021647-84c3-4986-a3c2-54b183b69579",
   "metadata": {},
   "outputs": [],
   "source": []
  }
 ],
 "metadata": {
  "kernelspec": {
   "display_name": "Python 3 (ipykernel)",
   "language": "python",
   "name": "python3"
  },
  "language_info": {
   "codemirror_mode": {
    "name": "ipython",
    "version": 3
   },
   "file_extension": ".py",
   "mimetype": "text/x-python",
   "name": "python",
   "nbconvert_exporter": "python",
   "pygments_lexer": "ipython3",
   "version": "3.7.16"
  }
 },
 "nbformat": 4,
 "nbformat_minor": 5
}
