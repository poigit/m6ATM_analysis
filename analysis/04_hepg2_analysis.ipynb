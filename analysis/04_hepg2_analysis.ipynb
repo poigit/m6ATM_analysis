{
 "cells": [
  {
   "cell_type": "markdown",
   "id": "39042945",
   "metadata": {},
   "source": [
    "### Modules"
   ]
  },
  {
   "cell_type": "code",
   "execution_count": 1,
   "id": "721c7baf",
   "metadata": {
    "tags": []
   },
   "outputs": [],
   "source": [
    "# basic\n",
    "import os, sys, glob, pybedtools\n",
    "import numpy as np, pandas as pd\n",
    "from Bio import SeqIO\n",
    "import matplotlib.pyplot as plt, seaborn as sns\n",
    "from matplotlib.cm import ScalarMappable\n",
    "from matplotlib.ticker import FormatStrFormatter\n",
    "from scipy.stats import fisher_exact"
   ]
  },
  {
   "cell_type": "code",
   "execution_count": 2,
   "id": "f6f8d6ec",
   "metadata": {
    "tags": []
   },
   "outputs": [],
   "source": [
    "sys.path.insert(1, '/home/bo-yi/package/m6atm/m6atm/preprocess')\n",
    "from ReadClass import *"
   ]
  },
  {
   "cell_type": "code",
   "execution_count": 3,
   "id": "c2b8d0b3",
   "metadata": {
    "tags": []
   },
   "outputs": [],
   "source": [
    "sys.path.insert(1, '/home/bo-yi/package/m6atm/m6atm/train')\n",
    "from ModelData import *"
   ]
  },
  {
   "cell_type": "code",
   "execution_count": 4,
   "id": "3aacc8e8",
   "metadata": {
    "tags": []
   },
   "outputs": [],
   "source": [
    "out_dir = '/home/bo-yi/paper'\n",
    "data_dir = '/home/bo-yi/data/DRS/20211102_HepG2-WT/preprocessed'\n",
    "\n",
    "tx_file = '/home/bo-yi/data/ref/enst_hg38Tables.tsv'\n",
    "ref_tx = '/home/bo-yi/data/ref/GRCh38_rna_ensembl.fa'\n",
    "ref_gn = '/home/bo-yi/data/ref/hg38.fa'"
   ]
  },
  {
   "cell_type": "code",
   "execution_count": 5,
   "id": "4d526170",
   "metadata": {
    "tags": []
   },
   "outputs": [],
   "source": [
    "os.environ['CUDA_VISIBLE_DEVICES'] = '1'"
   ]
  },
  {
   "cell_type": "markdown",
   "id": "4a4dbc90",
   "metadata": {},
   "source": [
    "### Fig. 5"
   ]
  },
  {
   "cell_type": "code",
   "execution_count": null,
   "id": "1db974ff",
   "metadata": {
    "tags": []
   },
   "outputs": [],
   "source": [
    "# temp dir \n",
    "temp_dir = os.path.join(data_dir, 'temp')\n",
    "os.makedirs(temp_dir, exist_ok = True)"
   ]
  },
  {
   "cell_type": "code",
   "execution_count": null,
   "id": "c24ccd7d",
   "metadata": {
    "tags": []
   },
   "outputs": [],
   "source": [
    "# # to bag\n",
    "# bag_class = ATMbag(data_dir, processes = 24)\n",
    "# bag_class.to_bag(temp_dir)"
   ]
  },
  {
   "cell_type": "code",
   "execution_count": null,
   "id": "7a2e3d45",
   "metadata": {
    "tags": []
   },
   "outputs": [],
   "source": [
    "# prediction\n",
    "bag_data_list = sorted(glob.glob(os.path.join(temp_dir, 'bag_*.npy')))\n",
    "bag_meta_list = sorted(glob.glob(os.path.join(temp_dir, 'site_*.csv')))\n",
    "\n",
    "results = []\n",
    "for f1, f2 in zip(bag_data_list, bag_meta_list):\n",
    "\n",
    "    ### bags\n",
    "    bag_data = np.load(f1, allow_pickle = True)\n",
    "    bag_meta = pd.read_csv(f2, index_col = 0)\n",
    "\n",
    "    ### dataloader\n",
    "    dataset = WNBagloader(data = list(bag_data),\n",
    "                          transform = transforms.Compose([ToTensor(device = 'cuda')]),\n",
    "                          site = bag_meta['site'],\n",
    "                          coverage = bag_meta['coverage'])\n",
    "\n",
    "    dataloader = torch.utils.data.DataLoader(dataset, batch_size = 1, shuffle = False)\n",
    "\n",
    "    ### prediction\n",
    "    dsmil_pth = '/home/bo-yi/package/m6atm/m6atm/model/dsmil_ivt_20.pth'\n",
    "    classifier_pth = '/home/bo-yi/package/m6atm/m6atm/model/classifer_ivt.pth'\n",
    "    result = dsmil_pred(dsmil_pth, classifier_pth, dataloader, out_dir = temp_dir)\n",
    "    results.append(result)\n",
    "\n",
    "results = pd.concat(results, axis = 0)\n",
    "results = results.reset_index(drop = True)\n",
    "\n",
    "### save\n",
    "results.to_csv(os.path.join(data_dir, 'results.csv'))"
   ]
  },
  {
   "cell_type": "code",
   "execution_count": null,
   "id": "5884d5f4",
   "metadata": {
    "tags": []
   },
   "outputs": [],
   "source": [
    "tx_df = pd.read_csv(tx_file, sep = '\\t')\n",
    "tx_df['name'] = [i.split('.')[0] for i in tx_df['name']]\n",
    "ref_dict_gn = get_ref_dict(ref_gn)\n",
    "\n",
    "results_m6a = results[results.m6a == 'yes']\n",
    "results_m6a_gn = tx_to_gn(results_m6a, tx_df, ref_dict_gn)\n",
    "\n",
    "bed_table = results_m6a_gn.loc[:,['chrom', 'gn_pos', 'gn_pos_1', 'name2', 'ratio', 'strand']]\n",
    "bed_table.columns = ['chrom', 'chromStart', 'chromEnd', 'name', 'score', 'strand']\n",
    "\n",
    "bed_table.to_csv(os.path.join(data_dir, 'results.bed'), sep = '\\t', index = None, header = None)"
   ]
  },
  {
   "cell_type": "markdown",
   "id": "31b24d3d",
   "metadata": {},
   "source": [
    "### Fig 5A"
   ]
  },
  {
   "cell_type": "code",
   "execution_count": null,
   "id": "c1a46803",
   "metadata": {
    "tags": []
   },
   "outputs": [],
   "source": [
    "tx_df = pd.read_csv(tx_file, sep = '\\t')\n",
    "tx_df['name'] = [i.split('.')[0] for i in tx_df['name']]\n",
    "ref_dict_gn = get_ref_dict(ref_gn)"
   ]
  },
  {
   "cell_type": "code",
   "execution_count": null,
   "id": "7fcf0442",
   "metadata": {
    "tags": []
   },
   "outputs": [],
   "source": [
    "all_table_tx = pd.read_csv(os.path.join(data_dir, 'results.csv'), index_col = 0)\n",
    "all_table_gn = tx_to_gn(all_table_tx, tx_df, ref_dict_gn)\n",
    "m6a_table_gn = all_table_gn[(all_table_gn.probability>=0.9) & (all_table_gn.coverage>=100)]"
   ]
  },
  {
   "cell_type": "code",
   "execution_count": null,
   "id": "c7bba560",
   "metadata": {},
   "outputs": [],
   "source": [
    "### gene list \n",
    "file = open(os.path.join(data_dir, 'GO_genelist.txt'), 'w')\n",
    "for gene in list(set(m6a_table_gn.name2)):\n",
    "    \n",
    "\tfile.write(gene + '\\n')\n",
    "    \n",
    "file.close()"
   ]
  },
  {
   "cell_type": "code",
   "execution_count": null,
   "id": "ceaabced",
   "metadata": {
    "tags": []
   },
   "outputs": [],
   "source": [
    "GO_table = pd.read_csv(os.path.join(data_dir, 'GO.txt'), sep = '\\t')"
   ]
  },
  {
   "cell_type": "code",
   "execution_count": null,
   "id": "378afa25",
   "metadata": {},
   "outputs": [],
   "source": [
    "### bar plot \n",
    "sns.set_theme(style = 'white') # theme\n",
    "tab_color = sns.color_palette() # color palette\n",
    "fig, ax = plt.subplots(figsize = (25, 6)) # figure size\n",
    "\n",
    "### data\n",
    "pval = GO_table.PValue[0:10]\n",
    "terms = [i.split('~')[1] for i in GO_table.Term][0:10]\n",
    "counts = GO_table['Count'][0:10]\n",
    "\n",
    "### cmap\n",
    "data_color = [x/max(pval) for x in pval]\n",
    "my_cmap = plt.cm.get_cmap('viridis_r')\n",
    "colors = my_cmap(data_color)\n",
    "\n",
    "x = np.arange(len(terms))  # the label locations\n",
    "width = 0.5  # the width of the bars\n",
    "\n",
    "rects = ax.barh(x, counts, color = colors)\n",
    "sm = ScalarMappable(cmap = my_cmap, norm = plt.Normalize(vmin = min(pval), vmax = max(pval)))\n",
    "sm.set_array([])\n",
    "\n",
    "cbar = plt.colorbar(sm)\n",
    "cbar.ax.tick_params(labelsize = 20)\n",
    "cbar.set_label('p-value ($10^{-5}$)', rotation = 270, labelpad = 40, fontsize = 28)\n",
    "\n",
    "ax.set_xlabel('Counts', fontsize = 36)\n",
    "ax.set_yticks(x)\n",
    "ax.set_yticklabels(terms)\n",
    "ax.invert_yaxis()  # labels read top-to-bottom\n",
    "ax.tick_params(labelsize = 25)\n",
    "\n",
    "plt.savefig(os.path.join(out_dir, 'fig5a.png'), bbox_inches = 'tight', dpi = 300)"
   ]
  },
  {
   "cell_type": "code",
   "execution_count": null,
   "id": "09e1b70d",
   "metadata": {},
   "outputs": [],
   "source": []
  },
  {
   "cell_type": "code",
   "execution_count": null,
   "id": "09096a14",
   "metadata": {},
   "outputs": [],
   "source": []
  },
  {
   "cell_type": "markdown",
   "id": "9f307656",
   "metadata": {},
   "source": [
    "### Fig 5B"
   ]
  },
  {
   "cell_type": "code",
   "execution_count": null,
   "id": "9477bfbb",
   "metadata": {
    "tags": []
   },
   "outputs": [],
   "source": [
    "def add_type(row, type_dict):\n",
    "    \n",
    "    tx = row['transcript']\n",
    "    \n",
    "    return type_dict[tx]"
   ]
  },
  {
   "cell_type": "code",
   "execution_count": null,
   "id": "c9f904db",
   "metadata": {
    "tags": []
   },
   "outputs": [],
   "source": [
    "### type dict\n",
    "rnatype_dict = dict()\n",
    "biotype_dict = dict()\n",
    "for n, record in enumerate(SeqIO.parse(ref_TX, 'fasta')):\n",
    "    info = record.description.split(' ')\n",
    "    rnatype_dict[info[0].split('.')[0]] = info[1]\n",
    "    biotype_dict[info[0].split('.')[0]] = info[5].split(':')[1]"
   ]
  },
  {
   "cell_type": "code",
   "execution_count": null,
   "id": "dc7910fe",
   "metadata": {
    "tags": []
   },
   "outputs": [],
   "source": [
    "all_table_tx = pd.read_csv(os.path.join(data_dir, 'results.csv'), index_col = 0)\n",
    "m6a_table_tx = all_table_tx[all_table_tx.probability>=0.9].copy()\n",
    "m6a_table_tx['type'] = m6a_table_tx.apply(lambda x: add_type(x, biotype_dict), axis = 1)"
   ]
  },
  {
   "cell_type": "code",
   "execution_count": null,
   "id": "ef3f3fa5",
   "metadata": {
    "tags": []
   },
   "outputs": [],
   "source": [
    "type_table = m6a_table_tx.groupby(by = 'type')['transcript'].count().reset_index(name = 'site')\n",
    "type_table = type_table.sort_values(by = 'site', ascending = False)\n",
    "others = pd.DataFrame({'type': 'others', 'site': type_table.iloc[4:,:].site.sum()}, index=[0])\n",
    "type_table = pd.concat([type_table.iloc[:4,:], others])\n",
    "values = type_table.site.tolist()"
   ]
  },
  {
   "cell_type": "code",
   "execution_count": null,
   "id": "d3707ddc",
   "metadata": {
    "tags": []
   },
   "outputs": [],
   "source": [
    "### pie chart\n",
    "sns.set_theme() # theme\n",
    "fig, ax = plt.subplots(figsize = (8, 8)) # figure size\n",
    "\n",
    "labels = type_table.type.tolist()\n",
    "sizes = values\n",
    "explode = [0, 0.1, 0.1, 0.1, 0]\n",
    "\n",
    "ax.pie(sizes, labels = labels, autopct = '%1.1f%%', shadow = False, startangle = 30, explode = explode, pctdistance = 1.2, labeldistance = None, \n",
    "       colors = sns.color_palette('Set2')[0:5], wedgeprops={'linewidth': 0.5})\n",
    "\n",
    "fig.legend(labels, loc = 'upper right')\n",
    "\n",
    "plt.savefig(os.path.join(out_dir, 'fig5b.png'), dpi = 300, bbox_inches = 'tight')"
   ]
  },
  {
   "cell_type": "code",
   "execution_count": null,
   "id": "25ed09b9",
   "metadata": {
    "tags": []
   },
   "outputs": [],
   "source": [
    "### pie chart\n",
    "sns.set_theme() # theme\n",
    "fig, ax = plt.subplots(figsize = (8, 8)) # figure size\n",
    "\n",
    "ax.pie(sizes, labels = labels, shadow = False, startangle = 30, explode = explode, labeldistance = None, \n",
    "       colors = sns.color_palette('Set2')[0:5], wedgeprops={'linewidth': 0.5})\n",
    "\n",
    "fig.legend(labels, loc = 'upper right')\n",
    "\n",
    "plt.savefig(os.path.join(out_dir, 'fig5b_nolabel.png'), dpi = 300, bbox_inches = 'tight')"
   ]
  },
  {
   "cell_type": "code",
   "execution_count": null,
   "id": "582b8278",
   "metadata": {},
   "outputs": [],
   "source": []
  },
  {
   "cell_type": "markdown",
   "id": "4cefa1dc",
   "metadata": {},
   "source": [
    "### Fig 5C"
   ]
  },
  {
   "cell_type": "code",
   "execution_count": null,
   "id": "dfb2d75e",
   "metadata": {
    "tags": []
   },
   "outputs": [],
   "source": [
    "def get_region_bed(file, group):\n",
    "\n",
    "    region = pd.read_csv(file, sep = '\\t', header = None)\n",
    "    region['region'] = group\n",
    "    region = region.loc[:,[0, 1, 2, 'region']]\n",
    "    region.columns = ['chrom', 'chromStart', 'chromEnd', 'region']\n",
    "    \n",
    "    return region"
   ]
  },
  {
   "cell_type": "code",
   "execution_count": null,
   "id": "62a262c2",
   "metadata": {
    "tags": []
   },
   "outputs": [],
   "source": [
    "all_table_tx = pd.read_csv(os.path.join(data_dir, 'results.csv'), index_col = 0)\n",
    "m6a_table_tx = all_table_tx[all_table_tx.probability>=0.9].copy()"
   ]
  },
  {
   "cell_type": "code",
   "execution_count": null,
   "id": "1da9499c",
   "metadata": {
    "tags": []
   },
   "outputs": [],
   "source": [
    "tx_file = '/home/bo-yi/data/ref/enst_hg38Tables.tsv'\n",
    "ref_tx = '/home/bo-yi/data/ref/GRCh38_rna_ensembl.fa'\n",
    "ref_gn = '/home/bo-yi/data/ref/hg38.fa'"
   ]
  },
  {
   "cell_type": "code",
   "execution_count": null,
   "id": "0754526a",
   "metadata": {
    "tags": []
   },
   "outputs": [],
   "source": [
    "tx_df = pd.read_csv(tx_file, sep = '\\t')\n",
    "tx_df['name'] = [i.split('.')[0] for i in tx_df['name']]\n",
    "ref_dict_tx = get_ref_dict(ref_tx)\n",
    "ref_dict_gn = get_ref_dict(ref_gn)"
   ]
  },
  {
   "cell_type": "code",
   "execution_count": null,
   "id": "7823de16",
   "metadata": {
    "tags": []
   },
   "outputs": [],
   "source": [
    "m6a_table_gn = tx_to_gn(m6a_table_tx, tx_df, ref_dict_gn)\n",
    "m6a_table_bed = m6a_table_gn.loc[:,['chrom', 'gn_pos', 'gn_pos_1', 'name2']]"
   ]
  },
  {
   "cell_type": "code",
   "execution_count": null,
   "id": "ee1a6af0",
   "metadata": {
    "tags": []
   },
   "outputs": [],
   "source": [
    "m6a_bed = pybedtools.BedTool.from_dataframe(df = m6a_table_bed)\n",
    "utr3_bed = get_region_bed('/home/bo-yi/data/ref/tx_region/enst_3utr.tsv', '3\\'UTR')\n",
    "utr5_bed = get_region_bed('/home/bo-yi/data/ref/tx_region/enst_5utr.tsv', '5\\'UTR')\n",
    "exon_bed = get_region_bed('/home/bo-yi/data/ref/tx_region/enst_exons.tsv', 'Exon')\n",
    "# intron_bed = get_region_bed('/home/bo-yi/data/ref/tx_region/enst_introns.tsv', 'Intron')\n",
    "region_bed = pd.concat([utr3_bed, utr5_bed, exon_bed], axis = 0)\n",
    "region_bed = pybedtools.BedTool.from_dataframe(df = region_bed)\n",
    "\n",
    "m6a_bed_region = m6a_bed.intersect(region_bed, wa = True, wb = True)\n",
    "m6a_bed_region = m6a_bed_region.to_dataframe()\n",
    "m6a_bed_region = m6a_bed_region[~m6a_bed_region.loc[:,['chrom', 'start', 'end']].duplicated()]\n",
    "m6a_bed_region = m6a_bed_region.rename({'thickEnd': 'region'}, axis = 1)\n",
    "m6a_bed_region = m6a_bed_region.loc[:,['chrom', 'start', 'end', 'region']]"
   ]
  },
  {
   "cell_type": "code",
   "execution_count": null,
   "id": "f3604f22",
   "metadata": {
    "tags": []
   },
   "outputs": [],
   "source": [
    "m6a_table_gn = m6a_table_gn.merge(m6a_bed_region, how = 'inner', left_on = ['chrom', 'gn_pos', 'gn_pos_1'], right_on = ['chrom', 'start', 'end'])"
   ]
  },
  {
   "cell_type": "code",
   "execution_count": null,
   "id": "fa9fe5f5",
   "metadata": {
    "tags": []
   },
   "outputs": [],
   "source": [
    "region_table = m6a_table_gn.groupby(by = 'region')['region'].count().reset_index(name = 'count')\n",
    "region_table = region_table.sort_values(by = 'count', ascending = False)\n",
    "values = region_table['count'].tolist()"
   ]
  },
  {
   "cell_type": "code",
   "execution_count": null,
   "id": "4bc7f981",
   "metadata": {
    "tags": []
   },
   "outputs": [],
   "source": [
    "### pie chart\n",
    "sns.set_theme() # theme\n",
    "fig, ax = plt.subplots(figsize = (8, 8)) # figure size\n",
    "\n",
    "labels = region_table.region.tolist()\n",
    "sizes = values\n",
    "\n",
    "ax.pie(sizes, labels = labels, autopct = '%1.1f%%', shadow = False, startangle = 30, pctdistance = 1.2, labeldistance = None, \n",
    "       colors = sns.color_palette()[0:3], wedgeprops={'linewidth': 0.5})\n",
    "\n",
    "fig.legend(labels, loc = 'upper right')\n",
    "\n",
    "plt.savefig(os.path.join(out_dir, 'fig5c.png'), dpi = 300, bbox_inches = 'tight')"
   ]
  },
  {
   "cell_type": "code",
   "execution_count": null,
   "id": "cb6a84cc",
   "metadata": {
    "tags": []
   },
   "outputs": [],
   "source": [
    "### pie chart\n",
    "sns.set_theme() # theme\n",
    "fig, ax = plt.subplots(figsize = (8, 8)) # figure size\n",
    "\n",
    "ax.pie(sizes, labels = labels, shadow = False, startangle = 30, labeldistance = None, \n",
    "       colors = sns.color_palette()[0:3], wedgeprops={'linewidth': 0.5})\n",
    "\n",
    "fig.legend(labels, loc = 'upper right')\n",
    "\n",
    "plt.savefig(os.path.join(out_dir, 'fig5c_nolabel.png'), dpi = 300, bbox_inches = 'tight')"
   ]
  },
  {
   "cell_type": "code",
   "execution_count": null,
   "id": "3e42f598",
   "metadata": {},
   "outputs": [],
   "source": []
  },
  {
   "cell_type": "markdown",
   "id": "fe35be62",
   "metadata": {},
   "source": [
    "### Fig 5E"
   ]
  },
  {
   "cell_type": "code",
   "execution_count": null,
   "id": "72f39205",
   "metadata": {
    "tags": []
   },
   "outputs": [],
   "source": [
    "tx_df = pd.read_csv(tx_file, sep = '\\t')\n",
    "tx_df['name'] = [i.split('.')[0] for i in tx_df['name']]\n",
    "ref_dict_gn = get_ref_dict(ref_gn)"
   ]
  },
  {
   "cell_type": "code",
   "execution_count": null,
   "id": "101a708b",
   "metadata": {
    "tags": []
   },
   "outputs": [],
   "source": [
    "all_table_tx = pd.read_csv(os.path.join(data_dir, 'results.csv'), index_col = 0)\n",
    "all_table_gn = tx_to_gn(all_table_tx, tx_df, ref_dict_gn)\n",
    "m6a_table_gn = all_table_gn[all_table_gn.probability>=0.9]"
   ]
  },
  {
   "cell_type": "code",
   "execution_count": null,
   "id": "30d12501",
   "metadata": {
    "tags": []
   },
   "outputs": [],
   "source": [
    "with open (os.path.join(data_dir, 'motif.txt'), 'w') as f:\n",
    "    for motif in m6a_table_gn['motif']:\n",
    "        f.write(motif.replace('T', 'U')+'\\n')"
   ]
  },
  {
   "cell_type": "markdown",
   "id": "d0281d2e",
   "metadata": {},
   "source": [
    "### Fig 5F"
   ]
  },
  {
   "cell_type": "code",
   "execution_count": null,
   "id": "24e2b220",
   "metadata": {
    "tags": []
   },
   "outputs": [],
   "source": [
    "gene_table = m6a_table_gn.groupby('name2', as_index = False).agg({'ratio': 'mean', 'gn_site': 'count', 'coverage': 'mean'})\n",
    "gene_table = gene_table[gene_table.gn_site>=10]\n",
    "gene_table = gene_table[gene_table.coverage>=50]\n",
    "gene_table = gene_table.sort_values('ratio', ascending = False)"
   ]
  },
  {
   "cell_type": "code",
   "execution_count": null,
   "id": "c400ff32",
   "metadata": {},
   "outputs": [],
   "source": [
    "##### main\n",
    "sns.set_theme(style = 'white') # theme\n",
    "tab_color = sns.color_palette() # color palette\n",
    "fig, ax = plt.subplots(figsize = (20, 5)) # figure size\n",
    "\n",
    "# data\n",
    "top_genes = gene_table.name2[0:20].tolist()\n",
    "top_df = m6a_table_gn[m6a_table_gn.name2.isin(top_genes)]\n",
    "top_df = top_df.set_index('name2')\n",
    "top_df = top_df.loc[top_genes]\n",
    "top_df['name2'] = top_df.index\n",
    "\n",
    "# plot\n",
    "sns.boxplot(x = 'name2', y = 'ratio', data = top_df, width = 0.2,\n",
    "            showmeans = True, meanprops = {'marker': 'P','markerfacecolor': 'yellow', 'markeredgecolor': 'black', 'markersize': '10'})\n",
    "sns.stripplot(x = 'name2', y = 'ratio', data = top_df,\n",
    "              hue = 'name2', size = 4, edgecolor = 'black', linewidth = 0.5, legend = False)\n",
    "\n",
    "# Set transparancy for all box\n",
    "for patch in ax.patches:\n",
    "    r, g, b, a = patch.get_facecolor()\n",
    "    patch.set_facecolor((r, g, b, .6))\n",
    "    \n",
    "ax.set_ylabel('m6A ratio', fontsize = 25)\n",
    "ax.set(xlabel = None)\n",
    "ax.tick_params(labelsize = 20)\n",
    "plt.xticks(rotation = 45)\n",
    "\n",
    "plt.savefig(os.path.join(out_dir, 'fig5f.png'), dpi = 300, bbox_inches = 'tight')"
   ]
  },
  {
   "cell_type": "code",
   "execution_count": null,
   "id": "90b53335-a331-42f5-92b3-d92783cad7d0",
   "metadata": {
    "tags": []
   },
   "outputs": [],
   "source": [
    "##### main\n",
    "sns.set_theme(style = 'white') # theme\n",
    "tab_color = sns.color_palette() # color palette\n",
    "fig, ax = plt.subplots(figsize = (25, 4)) # figure size\n",
    "\n",
    "# data\n",
    "top_genes = gene_table.name2[0:20].tolist()\n",
    "top_df = m6a_table_gn[m6a_table_gn.name2.isin(top_genes)]\n",
    "top_df = top_df.set_index('name2')\n",
    "top_df = top_df.loc[top_genes]\n",
    "top_df['name2'] = top_df.index\n",
    "\n",
    "# plot\n",
    "sns.boxplot(x = 'name2', y = 'ratio', data = top_df, width = 0.2,\n",
    "            showmeans = True, meanprops = {'marker': 'P','markerfacecolor': 'yellow', 'markeredgecolor': 'black', 'markersize': '10'})\n",
    "sns.stripplot(x = 'name2', y = 'ratio', data = top_df,\n",
    "              hue = 'name2', size = 4, edgecolor = 'black', linewidth = 0.5, legend = False)\n",
    "\n",
    "# Set transparancy for all box\n",
    "for patch in ax.patches:\n",
    "    r, g, b, a = patch.get_facecolor()\n",
    "    patch.set_facecolor((r, g, b, .6))\n",
    "    \n",
    "ax.set_ylabel('m6A ratio', fontsize = 25)\n",
    "ax.set(xlabel = None)\n",
    "ax.tick_params(labelsize = 20)\n",
    "plt.xticks(rotation = 45)\n",
    "\n",
    "plt.savefig(os.path.join(out_dir, 'fig5f_short.png'), dpi = 300, bbox_inches = 'tight')"
   ]
  },
  {
   "cell_type": "code",
   "execution_count": null,
   "id": "c9021c30",
   "metadata": {},
   "outputs": [],
   "source": []
  },
  {
   "cell_type": "markdown",
   "id": "8df79d86",
   "metadata": {},
   "source": [
    "### Fig 5G"
   ]
  },
  {
   "cell_type": "markdown",
   "id": "d6bc0d06-c797-412f-abfd-d10bce3962c5",
   "metadata": {
    "tags": []
   },
   "source": [
    "#### m6A peaks "
   ]
  },
  {
   "cell_type": "code",
   "execution_count": 6,
   "id": "15bf6a91",
   "metadata": {
    "tags": []
   },
   "outputs": [],
   "source": [
    "tx_df = pd.read_csv(tx_file, sep = '\\t')\n",
    "tx_df['name'] = [i.split('.')[0] for i in tx_df['name']]\n",
    "ref_dict_gn = get_ref_dict(ref_gn)"
   ]
  },
  {
   "cell_type": "code",
   "execution_count": 7,
   "id": "5a948877-6dee-4fc8-b7e0-6bd2b413066c",
   "metadata": {
    "tags": []
   },
   "outputs": [],
   "source": [
    "all_table_tx = pd.read_csv(os.path.join(data_dir, 'results.csv'), index_col = 0)\n",
    "m6a_table_tx = all_table_tx[all_table_tx.m6a == 'yes']\n",
    "m6a_table_gn = tx_to_gn(m6a_table_tx, tx_df, ref_dict_gn)\n",
    "m6a_sites = m6a_table_gn.gn_site.tolist()"
   ]
  },
  {
   "cell_type": "code",
   "execution_count": 8,
   "id": "f247ce5c",
   "metadata": {
    "tags": []
   },
   "outputs": [],
   "source": [
    "all_table_tx = pd.read_csv(os.path.join(data_dir, 'results.csv'), index_col = 0)\n",
    "all_table_gn = tx_to_gn(all_table_tx, tx_df, ref_dict_gn)"
   ]
  },
  {
   "cell_type": "code",
   "execution_count": 9,
   "id": "237d0775",
   "metadata": {
    "tags": []
   },
   "outputs": [],
   "source": [
    "peg10_df = all_table_gn.loc[all_table_gn['name2'] == 'PEG10',['chrom', 'gn_site', 'gn_pos', 'gn_pos_1', 'name2', 'probability', 'strand']]\n",
    "peg10_df['m6a'] = peg10_df.gn_site.isin(m6a_sites)\n",
    "peg10_df = peg10_df.loc[:,['chrom', 'gn_pos', 'gn_pos_1', 'name2', 'probability', 'strand', 'm6a']]\n",
    "peg10_bedtools = pybedtools.BedTool.from_dataframe(df = peg10_df)"
   ]
  },
  {
   "cell_type": "markdown",
   "id": "43c081ce-4ede-49e7-b27d-4c3687092dd8",
   "metadata": {},
   "source": [
    "#### eCLIP data"
   ]
  },
  {
   "cell_type": "code",
   "execution_count": 10,
   "id": "ea3b25f8",
   "metadata": {
    "tags": []
   },
   "outputs": [],
   "source": [
    "names = ['chrom', 'chromStart', 'chromEnd', 'id', 'strand', 'name', 'exp', 'sample','accession']\n",
    "rbp_bed = pd.read_csv('/home/bo-yi/data/ref/rbp38.txt', sep = '\\t', header = None, names = names)\n",
    "rbp_bed_hepg2_encode= rbp_bed[(rbp_bed['sample'].isin(['HepG2'])) & (rbp_bed['accession'].isin(['ENCODE']))]"
   ]
  },
  {
   "cell_type": "code",
   "execution_count": 11,
   "id": "cc6359bd",
   "metadata": {
    "tags": []
   },
   "outputs": [],
   "source": [
    "rbp_list = sorted(list(set(rbp_bed_hepg2_encode.name)))\n",
    "\n",
    "pval_list = []\n",
    "or_list = []\n",
    "val_list = []\n",
    "for i in rbp_list:\n",
    "    \n",
    "    # eCLIP data\n",
    "    eclip_bed = rbp_bed_hepg2_encode[rbp_bed_hepg2_encode['name'].isin([i])]\n",
    "    eclip_bed = eclip_bed.loc[:,['chrom', 'chromStart', 'chromEnd', 'name']]\n",
    "    eclip_bedtools = pybedtools.BedTool.from_dataframe(df = eclip_bed)\n",
    "    \n",
    "    # overlapping\n",
    "    overlapping = peg10_bedtools.intersect(eclip_bedtools, wao = True)\n",
    "    overlapping = overlapping.to_dataframe()\n",
    "    overlapping = overlapping[~overlapping.loc[:,['chrom', 'start', 'end']].duplicated()]\n",
    "    \n",
    "    # frequency table\n",
    "    val1 = overlapping[(overlapping['thickStart'] == True) & (overlapping['blockSizes'] == i)].shape[0]\n",
    "    val2 = overlapping[(overlapping['thickStart'] == True) & (overlapping['blockSizes'] == '.')].shape[0]\n",
    "    val3 = overlapping[(overlapping['thickStart'] == False) & (overlapping['blockSizes'] == i)].shape[0]\n",
    "    val4 = overlapping[(overlapping['thickStart'] == False) & (overlapping['blockSizes'] == '.')].shape[0]\n",
    "    \n",
    "    # fisher test\n",
    "    table = np.array([[val1, val2], [val3, val4]])\n",
    "    res = fisher_exact(table, alternative = 'greater')\n",
    "    \n",
    "    pval_list.append(res[1])\n",
    "    or_list.append(res[0])\n",
    "    val_list.append([val1, val2, val3, val4])"
   ]
  },
  {
   "cell_type": "code",
   "execution_count": 12,
   "id": "625c0b9e",
   "metadata": {
    "tags": []
   },
   "outputs": [],
   "source": [
    "val_list_zip = list(zip(*val_list))\n",
    "result_table = pd.DataFrame({'rbp': rbp_list,\n",
    "                             'odds': or_list,\n",
    "                             'p_val': pval_list,\n",
    "                             'val1': val_list_zip[0],\n",
    "                             'val2': val_list_zip[1],\n",
    "                             'val3': val_list_zip[2],\n",
    "                             'val4': val_list_zip[3]})"
   ]
  },
  {
   "cell_type": "code",
   "execution_count": 13,
   "id": "425dde5c-0309-42ec-956a-047fa6979943",
   "metadata": {
    "tags": []
   },
   "outputs": [
    {
     "data": {
      "text/html": [
       "<div>\n",
       "<style scoped>\n",
       "    .dataframe tbody tr th:only-of-type {\n",
       "        vertical-align: middle;\n",
       "    }\n",
       "\n",
       "    .dataframe tbody tr th {\n",
       "        vertical-align: top;\n",
       "    }\n",
       "\n",
       "    .dataframe thead th {\n",
       "        text-align: right;\n",
       "    }\n",
       "</style>\n",
       "<table border=\"1\" class=\"dataframe\">\n",
       "  <thead>\n",
       "    <tr style=\"text-align: right;\">\n",
       "      <th></th>\n",
       "      <th>rbp</th>\n",
       "      <th>odds</th>\n",
       "      <th>p_val</th>\n",
       "      <th>val1</th>\n",
       "      <th>val2</th>\n",
       "      <th>val3</th>\n",
       "      <th>val4</th>\n",
       "    </tr>\n",
       "  </thead>\n",
       "  <tbody>\n",
       "    <tr>\n",
       "      <th>94</th>\n",
       "      <td>UPF1</td>\n",
       "      <td>5.923077</td>\n",
       "      <td>0.002241</td>\n",
       "      <td>10</td>\n",
       "      <td>5</td>\n",
       "      <td>26</td>\n",
       "      <td>77</td>\n",
       "    </tr>\n",
       "    <tr>\n",
       "      <th>42</th>\n",
       "      <td>IGF2BP3</td>\n",
       "      <td>4.680000</td>\n",
       "      <td>0.007181</td>\n",
       "      <td>9</td>\n",
       "      <td>6</td>\n",
       "      <td>25</td>\n",
       "      <td>78</td>\n",
       "    </tr>\n",
       "    <tr>\n",
       "      <th>1</th>\n",
       "      <td>AKAP1</td>\n",
       "      <td>9.000000</td>\n",
       "      <td>0.009013</td>\n",
       "      <td>4</td>\n",
       "      <td>11</td>\n",
       "      <td>4</td>\n",
       "      <td>99</td>\n",
       "    </tr>\n",
       "    <tr>\n",
       "      <th>41</th>\n",
       "      <td>IGF2BP1</td>\n",
       "      <td>4.462585</td>\n",
       "      <td>0.010039</td>\n",
       "      <td>8</td>\n",
       "      <td>7</td>\n",
       "      <td>21</td>\n",
       "      <td>82</td>\n",
       "    </tr>\n",
       "    <tr>\n",
       "      <th>56</th>\n",
       "      <td>PCBP1</td>\n",
       "      <td>15.692308</td>\n",
       "      <td>0.042223</td>\n",
       "      <td>2</td>\n",
       "      <td>13</td>\n",
       "      <td>1</td>\n",
       "      <td>102</td>\n",
       "    </tr>\n",
       "    <tr>\n",
       "      <th>52</th>\n",
       "      <td>NKRF</td>\n",
       "      <td>3.015385</td>\n",
       "      <td>0.217388</td>\n",
       "      <td>2</td>\n",
       "      <td>13</td>\n",
       "      <td>5</td>\n",
       "      <td>98</td>\n",
       "    </tr>\n",
       "    <tr>\n",
       "      <th>16</th>\n",
       "      <td>DKC1</td>\n",
       "      <td>7.285714</td>\n",
       "      <td>0.239027</td>\n",
       "      <td>1</td>\n",
       "      <td>14</td>\n",
       "      <td>1</td>\n",
       "      <td>102</td>\n",
       "    </tr>\n",
       "    <tr>\n",
       "      <th>76</th>\n",
       "      <td>SND1</td>\n",
       "      <td>7.285714</td>\n",
       "      <td>0.239027</td>\n",
       "      <td>1</td>\n",
       "      <td>14</td>\n",
       "      <td>1</td>\n",
       "      <td>102</td>\n",
       "    </tr>\n",
       "    <tr>\n",
       "      <th>87</th>\n",
       "      <td>TIA1</td>\n",
       "      <td>1.895833</td>\n",
       "      <td>0.291112</td>\n",
       "      <td>3</td>\n",
       "      <td>12</td>\n",
       "      <td>12</td>\n",
       "      <td>91</td>\n",
       "    </tr>\n",
       "    <tr>\n",
       "      <th>29</th>\n",
       "      <td>G3BP1</td>\n",
       "      <td>1.407407</td>\n",
       "      <td>0.381653</td>\n",
       "      <td>5</td>\n",
       "      <td>10</td>\n",
       "      <td>27</td>\n",
       "      <td>76</td>\n",
       "    </tr>\n",
       "  </tbody>\n",
       "</table>\n",
       "</div>"
      ],
      "text/plain": [
       "        rbp       odds     p_val  val1  val2  val3  val4\n",
       "94     UPF1   5.923077  0.002241    10     5    26    77\n",
       "42  IGF2BP3   4.680000  0.007181     9     6    25    78\n",
       "1     AKAP1   9.000000  0.009013     4    11     4    99\n",
       "41  IGF2BP1   4.462585  0.010039     8     7    21    82\n",
       "56    PCBP1  15.692308  0.042223     2    13     1   102\n",
       "52     NKRF   3.015385  0.217388     2    13     5    98\n",
       "16     DKC1   7.285714  0.239027     1    14     1   102\n",
       "76     SND1   7.285714  0.239027     1    14     1   102\n",
       "87     TIA1   1.895833  0.291112     3    12    12    91\n",
       "29    G3BP1   1.407407  0.381653     5    10    27    76"
      ]
     },
     "execution_count": 13,
     "metadata": {},
     "output_type": "execute_result"
    }
   ],
   "source": [
    "result_table.sort_values(by = 'p_val', ascending = True).iloc[0:10]"
   ]
  },
  {
   "cell_type": "code",
   "execution_count": 17,
   "id": "fd903ce0-49be-4e8b-b127-a6b76252ddc2",
   "metadata": {
    "tags": []
   },
   "outputs": [
    {
     "data": {
      "image/png": "[encoded data removed]",
      "text/plain": [
       "<Figure size 1200x400 with 2 Axes>"
      ]
     },
     "metadata": {},
     "output_type": "display_data"
    }
   ],
   "source": [
    "##### main\n",
    "sns.set_theme(style = 'whitegrid') # theme\n",
    "tab_color = sns.color_palette() # color palette\n",
    "fig, ax = plt.subplots(figsize = (12, 4)) # figure size\n",
    "\n",
    "### plot\n",
    "scatter_table = result_table.dropna()\n",
    "scatter = plt.scatter(scatter_table['odds'], scatter_table['val1'], c = scatter_table['p_val'], s = 80, cmap = 'viridis_r', alpha = 0.8, \n",
    "                      linewidth = 1, edgecolors = 'black')\n",
    "\n",
    "# cmap\n",
    "pval = scatter_table['p_val']\n",
    "data_color = [x/max(pval) for x in pval]\n",
    "my_cmap = plt.cm.get_cmap('viridis_r')\n",
    "colors = my_cmap(data_color)\n",
    "\n",
    "sm = ScalarMappable(cmap = my_cmap, norm = plt.Normalize(vmin = min(pval), vmax = max(pval)))\n",
    "sm.set_array([])\n",
    "\n",
    "cbar = plt.colorbar(sm, pad = 0.01, format = FormatStrFormatter('%g'))\n",
    "cbar.ax.tick_params(labelsize = 12)\n",
    "cbar.set_label('$\\\\mathit{P}$ value', rotation = 270, labelpad = 30, fontsize = 20)\n",
    "cbar.set_ticks(ticks = [0.05, 0.1, 0.2, 0.5])\n",
    "\n",
    "# axis\n",
    "ax.set_xlabel('Odds ratio', fontsize = 16)\n",
    "ax.set_ylabel('Number of overlapping', fontsize = 16)\n",
    "ax.tick_params(labelsize = 14)\n",
    "\n",
    "plt.savefig(os.path.join(out_dir, 'fig5g.png'), dpi = 300, bbox_inches = 'tight')"
   ]
  },
  {
   "cell_type": "code",
   "execution_count": null,
   "id": "b67b4e10-84fb-4a23-a0ac-2bc68aed1886",
   "metadata": {},
   "outputs": [],
   "source": [
    "### pie chart\n",
    "sns.set_theme(style = 'white') # theme\n",
    "tab_color = sns.color_palette('Set2') # color palette\n",
    "fig, ax = plt.subplots(figsize = (8, 8)) # figure size\n",
    "\n",
    "y1 = result_table[result_table.isna().any(axis=1)].shape[0]\n",
    "y2 = scatter_table.shape[0]\n",
    "\n",
    "labels = ['No overlap', '≥1 overlap']\n",
    "sizes = [y1, y2]\n",
    "\n",
    "ax.pie(sizes, labels = labels, explode = [0, 0.05], autopct = lambda x: int(np.round(x/100*sum(sizes), 0)),\n",
    "       shadow = False, startangle = 80, labeldistance = None, colors = [tab_color[0], tab_color[6]], \n",
    "       textprops={'fontsize': 26, 'weight': 'bold'},\n",
    "       wedgeprops={'linewidth': 0.5})\n",
    "\n",
    "fig.legend(labels, loc = 'upper right', fontsize = 20)\n",
    "\n",
    "plt.savefig(os.path.join(out_dir, 'figS6.tif'), dpi = 300, bbox_inches = 'tight')"
   ]
  },
  {
   "cell_type": "markdown",
   "id": "843f1b4f-a22a-4860-bc94-45fdf9b2b530",
   "metadata": {},
   "source": [
    "#### Overlapping sites"
   ]
  },
  {
   "cell_type": "code",
   "execution_count": null,
   "id": "5eede8eb-a998-4035-a30d-baa1c2c03845",
   "metadata": {
    "tags": []
   },
   "outputs": [],
   "source": [
    "peg10_df = all_table_gn.loc[all_table_gn['name2'] == 'PEG10',['chrom', 'gn_site', 'gn_pos', 'gn_pos_1', 'name2', 'ratio', 'strand']]\n",
    "peg10_df['m6a'] = peg10_df.gn_site.isin(m6a_sites)\n",
    "peg10_df = peg10_df.loc[:,['chrom', 'gn_pos', 'gn_pos_1', 'name2', 'ratio', 'strand', 'm6a']]\n",
    "peg10_bedtools = pybedtools.BedTool.from_dataframe(df = peg10_df)"
   ]
  },
  {
   "cell_type": "code",
   "execution_count": null,
   "id": "bebba493-9841-415c-b198-05353ec940c3",
   "metadata": {
    "tags": []
   },
   "outputs": [],
   "source": [
    "table_list = []\n",
    "for i in ['IGF2BP1', 'IGF2BP3']:\n",
    "\n",
    "    # eCLIP data\n",
    "    eclip_bed = rbp_bed_hepg2_encode[rbp_bed_hepg2_encode['name'].isin([i])]\n",
    "    eclip_bed = eclip_bed.loc[:,['chrom', 'chromStart', 'chromEnd', 'name']]\n",
    "    eclip_bedtools = pybedtools.BedTool.from_dataframe(df = eclip_bed)\n",
    "\n",
    "    # overlapping\n",
    "    overlapping = peg10_bedtools.intersect(eclip_bedtools, wao = True)\n",
    "    overlapping = overlapping.to_dataframe()\n",
    "    overlapping = overlapping[~overlapping.loc[:,['chrom', 'start', 'end']].duplicated()]\n",
    "\n",
    "    # frequency table\n",
    "    site_table = overlapping[(overlapping['thickStart'] == True) & (overlapping['blockSizes'] == i)]\n",
    "    table_list.append(site_table)\n",
    "    \n",
    "site_table_i = table_list[0].merge(table_list[1], on = ['chrom', 'start', 'end', 'score'])"
   ]
  },
  {
   "cell_type": "code",
   "execution_count": null,
   "id": "0b67f83a-35a1-4ad7-96d2-f555db84b7c4",
   "metadata": {
    "tags": []
   },
   "outputs": [],
   "source": [
    "### to bedGraph\n",
    "bedgraph = site_table_i.loc[:,['chrom', 'start', 'end', 'score']]\n",
    "bedgraph.columns = ['chrom', 'chromStart', 'chromEnd', 'score']\n",
    "\n",
    "with open(os.path.join(out_dir, 'peg10_overlap.bedGraph'), 'w') as f:\n",
    "\n",
    "    f.write('track type=bedGraph name=\"ratio\" description=\"m6ATM\" color=238,31,137'+'\\n')\n",
    "    bedgraph.to_csv(f, sep = '\\t', index = None, header = None)"
   ]
  },
  {
   "cell_type": "code",
   "execution_count": null,
   "id": "55dd4938-bcd8-42ba-bd95-037aa50bb0dc",
   "metadata": {},
   "outputs": [],
   "source": []
  },
  {
   "cell_type": "code",
   "execution_count": null,
   "id": "4dde8ba5-cb4f-4f88-87b1-89203fbff1cc",
   "metadata": {},
   "outputs": [],
   "source": []
  },
  {
   "cell_type": "code",
   "execution_count": null,
   "id": "75f4e552-7ad4-415c-906e-df1bbeee2031",
   "metadata": {},
   "outputs": [],
   "source": []
  },
  {
   "cell_type": "code",
   "execution_count": null,
   "id": "6ad99c05-d9fc-4b7d-919a-faf519b05f7b",
   "metadata": {},
   "outputs": [],
   "source": []
  },
  {
   "cell_type": "code",
   "execution_count": null,
   "id": "4f2a0df1-029e-46f0-943f-35a2ebf13c95",
   "metadata": {},
   "outputs": [],
   "source": [
    "rbp_list = ['IGF2BP1', 'IGF2BP3']\n",
    "\n",
    "pval_list = []\n",
    "or_list = []\n",
    "val_list = []\n",
    "for i in rbp_list:\n",
    "    \n",
    "    # eCLIP data\n",
    "    eclip_bed = rbp_bed_hepg2_encode[rbp_bed_hepg2_encode['name'].isin([i])]\n",
    "    eclip_bed = eclip_bed.loc[:,['chrom', 'chromStart', 'chromEnd', 'name']]\n",
    "    eclip_bedtools = pybedtools.BedTool.from_dataframe(df = eclip_bed)\n",
    "    \n",
    "    # overlapping\n",
    "    overlapping = peg10_bedtools.intersect(eclip_bedtools, wao = True)\n",
    "    overlapping = overlapping.to_dataframe()\n",
    "    overlapping = overlapping[~overlapping.loc[:,['chrom', 'start', 'end']].duplicated()]\n",
    "    \n",
    "    # frequency table\n",
    "    val1 = overlapping[(overlapping['thickStart'] == True) & (overlapping['blockSizes'] == i)].shape[0]\n",
    "    val2 = overlapping[(overlapping['thickStart'] == True) & (overlapping['blockSizes'] == '.')].shape[0]\n",
    "    val3 = overlapping[(overlapping['thickStart'] == False) & (overlapping['blockSizes'] == i)].shape[0]\n",
    "    val4 = overlapping[(overlapping['thickStart'] == False) & (overlapping['blockSizes'] == '.')].shape[0]\n",
    "    \n",
    "    # fisher test\n",
    "    table = np.array([[val1, val2], [val3, val4]])\n",
    "    res = fisher_exact(table, alternative = 'greater')\n",
    "    \n",
    "    pval_list.append(res[1])\n",
    "    or_list.append(res[0])\n",
    "    val_list.append([val1, val2, val3, val4])"
   ]
  },
  {
   "cell_type": "code",
   "execution_count": null,
   "id": "e9b432c5-98c6-4e54-8f84-2db046051e86",
   "metadata": {},
   "outputs": [],
   "source": []
  },
  {
   "cell_type": "code",
   "execution_count": null,
   "id": "9c2b7a10-7d1b-4162-934a-44afbc77560b",
   "metadata": {},
   "outputs": [],
   "source": []
  },
  {
   "cell_type": "code",
   "execution_count": null,
   "id": "bd678a29-90a8-4f73-98ec-f7742f749b1b",
   "metadata": {},
   "outputs": [],
   "source": []
  },
  {
   "cell_type": "code",
   "execution_count": null,
   "id": "3491753a-9603-4964-acd9-11cd80384e93",
   "metadata": {},
   "outputs": [],
   "source": []
  },
  {
   "cell_type": "code",
   "execution_count": null,
   "id": "fb729816-3888-4342-818f-70aa76709dc7",
   "metadata": {
    "tags": []
   },
   "outputs": [],
   "source": [
    "##### main\n",
    "sns.set_theme(style = 'white') # theme\n",
    "tab_color = sns.color_palette('Set2') # color palette\n",
    "fig, ax = plt.subplots(figsize = (2, 6)) # figure size\n",
    "\n",
    "### plot\n",
    "scatter_table = result_table.dropna()\n",
    "x = ['RBPs']\n",
    "y1 = result_table[result_table.isna().any(axis=1)].shape[0]\n",
    "y2 = scatter_table.shape[0]\n",
    "\n",
    "\n",
    "ax.bar(x, y1, label = 'No overlapping', align = 'center', width = 0.6, color = tab_color[0])\n",
    "ax.bar(x, y2, bottom = y1, label = '≥1 DRACH site \\noverlapping', align = 'center', width = 0.6, color = tab_color[6])\n",
    "\n",
    "ax.legend(bbox_to_anchor = (1, 1), fontsize = 14)\n",
    "\n",
    "# text\n",
    "for bar in ax.patches:\n",
    "    ax.text(bar.get_x() + bar.get_width()/2,\n",
    "            bar.get_y() + bar.get_height()/2,\n",
    "            bar.get_height(),\n",
    "            ha = 'center',\n",
    "            color = 'black',\n",
    "            weight = 'bold',\n",
    "            size = 20)\n",
    "\n",
    "# axis\n",
    "ax.set_xlim(-0.5, 0.5)\n",
    "ax.set_ylabel('Count', fontsize = 20)\n",
    "ax.tick_params(labelsize = 16)\n",
    "\n",
    "plt.savefig(os.path.join(out_dir, 'fig5g_supp.png'), dpi = 300, bbox_inches = 'tight')"
   ]
  },
  {
   "cell_type": "code",
   "execution_count": null,
   "id": "191dcd1d",
   "metadata": {
    "tags": []
   },
   "outputs": [],
   "source": [
    "bed_rbp_hepg2 = bed_rbp[(bed_rbp['sample'].isin(['HepG2'])) & (bed_rbp['name'].isin(m6abp))]\n",
    "# bed_rbp_hepg2 = bed_rbp_hepg2.loc[:,['chrom', 'chromStart', 'chromEnd', 'name']]\n",
    "# bed_rbp_hepg2.to_csv(os.path.join(out_dir, 'rbp_class1_hepg2.bed'), sep = '\\t', index = None, header = None)"
   ]
  },
  {
   "cell_type": "code",
   "execution_count": null,
   "id": "9122c6aa",
   "metadata": {
    "tags": []
   },
   "outputs": [],
   "source": [
    "bed_rbp_igf2bp1 = bed_rbp[(bed_rbp['sample'].isin(['HepG2'])) & (bed_rbp['name'].isin(['IGF2BP1']))]\n",
    "bed_rbp_igf2bp1 = bed_rbp_igf2bp1.loc[:,['chrom', 'chromStart', 'chromEnd', 'name']]\n",
    "bed_rbp_igf2bp1.to_csv(os.path.join(out_dir, 'eclip_igf2bp1_hepg2.bed'), sep = '\\t', index = None, header = None)"
   ]
  },
  {
   "cell_type": "code",
   "execution_count": null,
   "id": "3633ad7f",
   "metadata": {
    "tags": []
   },
   "outputs": [],
   "source": [
    "bed_rbp_igf2bp3 = bed_rbp[(bed_rbp['sample'].isin(['HepG2'])) & (bed_rbp['name'].isin(['IGF2BP3']))]\n",
    "bed_rbp_igf2bp3 = bed_rbp_igf2bp3.loc[:,['chrom', 'chromStart', 'chromEnd', 'name']]\n",
    "bed_rbp_igf2bp3.to_csv(os.path.join(out_dir, 'eclip_igf2bp3_hepg2.bed'), sep = '\\t', index = None, header = None)"
   ]
  },
  {
   "cell_type": "code",
   "execution_count": null,
   "id": "0840a44d",
   "metadata": {
    "tags": []
   },
   "outputs": [],
   "source": [
    "bed_rbp_hnrnpc = bed_rbp[(bed_rbp['sample'].isin(['HepG2'])) & (bed_rbp['name'].isin(['HNRNPC']))]\n",
    "bed_rbp_hnrnpc = bed_rbp_hnrnpc.loc[:,['chrom', 'chromStart', 'chromEnd', 'name']]\n",
    "bed_rbp_hnrnpc.to_csv(os.path.join(out_dir, 'eclip_hnrnpc_hepg2.bed'), sep = '\\t', index = None, header = None)"
   ]
  },
  {
   "cell_type": "code",
   "execution_count": null,
   "id": "97525e95",
   "metadata": {},
   "outputs": [],
   "source": []
  },
  {
   "cell_type": "code",
   "execution_count": null,
   "id": "39a4ce97",
   "metadata": {},
   "outputs": [],
   "source": []
  },
  {
   "cell_type": "code",
   "execution_count": null,
   "id": "a939f56f",
   "metadata": {},
   "outputs": [],
   "source": []
  }
 ],
 "metadata": {
  "kernelspec": {
   "display_name": "Python 3 (ipykernel)",
   "language": "python",
   "name": "python3"
  },
  "language_info": {
   "codemirror_mode": {
    "name": "ipython",
    "version": 3
   },
   "file_extension": ".py",
   "mimetype": "text/x-python",
   "name": "python",
   "nbconvert_exporter": "python",
   "pygments_lexer": "ipython3",
   "version": "3.7.16"
  }
 },
 "nbformat": 4,
 "nbformat_minor": 5
}
