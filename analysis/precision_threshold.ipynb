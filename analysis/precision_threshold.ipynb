{
 "cells": [
  {
   "cell_type": "markdown",
   "id": "b04e6bc5-6168-422c-a225-905a8a9084cf",
   "metadata": {},
   "source": [
    "### Modules"
   ]
  },
  {
   "cell_type": "code",
   "execution_count": null,
   "id": "934bfcb7-64cf-4f4a-90c9-08ce09bf5722",
   "metadata": {},
   "outputs": [],
   "source": [
    "# basic\n",
    "import os, sys, glob\n",
    "import numpy as np, pandas as pd\n",
    "import matplotlib.pyplot as plt, seaborn as sns\n",
    "from sklearn.metrics import confusion_matrix, roc_curve, precision_recall_curve, auc, silhouette_samples"
   ]
  },
  {
   "cell_type": "markdown",
   "id": "960e0bcc-90a6-40c8-b451-2a161c686a0c",
   "metadata": {},
   "source": [
    "### Figure S11"
   ]
  },
  {
   "cell_type": "code",
   "execution_count": null,
   "id": "fd9900fd-28b3-4193-919a-d14b8824732a",
   "metadata": {
    "tags": []
   },
   "outputs": [],
   "source": [
    "def get_precision(y_true, y_pred):\n",
    "    \n",
    "    confusion = confusion_matrix(y_true, y_pred)\n",
    "\n",
    "    TP = confusion[1,1]\n",
    "    FP = confusion[0,1]\n",
    "    TN = confusion[0,0]\n",
    "    FN = confusion[1,0]\n",
    "\n",
    "    FPR = FP/(FP+TN)\n",
    "    TPR = TP/(TP+FN)\n",
    "    precision = round(TP/(TP+FP), 2)\n",
    "    \n",
    "    return precision"
   ]
  },
  {
   "cell_type": "markdown",
   "id": "ee0aa6a5-8593-4e9c-b232-6fa21793ccea",
   "metadata": {},
   "source": [
    "#### IVT"
   ]
  },
  {
   "cell_type": "code",
   "execution_count": null,
   "id": "08bfafd8-0b1b-4c1b-8f88-df919d6b0401",
   "metadata": {
    "tags": []
   },
   "outputs": [],
   "source": [
    "pred_pos =  pd.read_csv('../data/ivtmix20_valid.csv', index_col = 0)\n",
    "pred_neg = pd.read_csv('../data/ivtmix0_valid.csv', index_col = 0)\n",
    "\n",
    "pred_table = pd.concat([pred_pos, pred_neg], axis = 0)\n",
    "\n",
    "### precision\n",
    "y_pred = [1 if i>=0.5 else 0 for i in pred_table['probability']]\n",
    "y_true = [1]*pred_pos.shape[0]+[0]*pred_neg.shape[0]\n",
    "\n",
    "precision_ivt_low  = get_precision(y_true, y_pred)\n",
    "\n",
    "y_pred = [1 if i>=0.9 else 0 for i in pred_table['probability']]\n",
    "y_true = [1]*pred_pos.shape[0]+[0]*pred_neg.shape[0]\n",
    "\n",
    "precision_ivt_high  = get_precision(y_true, y_pred)"
   ]
  },
  {
   "cell_type": "markdown",
   "id": "6c00c70a-1834-4aaa-92d0-87fa725a8593",
   "metadata": {},
   "source": [
    "#### HEK293"
   ]
  },
  {
   "cell_type": "code",
   "execution_count": null,
   "id": "cd2ad9d3-2ff2-4069-85be-456ceb95b44b",
   "metadata": {
    "tags": []
   },
   "outputs": [],
   "source": [
    "### ground-truth m6A sites from m6A-SAC-seq\n",
    "gt_table = pd.read_csv('../data/gt_sac_hek293.csv', index_col = 0)\n",
    "gt_sites = sorted([x+'_'+str(y) for x,y in zip(gt_table['chr'], gt_table['center'])])\n",
    "\n",
    "# remove m6A sites also reported by miCLIP-seq and keep the pool of m6A-negative sites more confident\n",
    "gt_table_u = pd.read_csv('../data/gt_usites_hek293.csv', index_col = 0)\n",
    "gt_sites_u = sorted([x+'_'+str(y) for x,y in zip(gt_table_u['chr'], gt_table_u['center'])])\n",
    "coverage = 50\n",
    "\n",
    "# m6ATM\n",
    "pred = pd.read_csv('../data/hek293_m6atm.csv', index_col = 0)\n",
    "pred = pred[pred.coverage>=coverage]\n",
    "pred['gt'] = pred['gn_site'].isin(gt_sites)\n",
    "\n",
    "pred_pos = pred[pred['gt'] == True]\n",
    "pred_gt_n = pred[pred['gt'] == False]\n",
    "pred_gt_not_u = pred_gt_n[~pred_gt_n['gn_site'].isin(gt_sites_u)]\n",
    "pred_neg = pred_gt_not_u.sample(n = pred[pred['gt'] == True].shape[0], random_state = 0)\n",
    "\n",
    "pred_all = pd.concat([pred_pos, pred_neg], axis = 0)\n",
    "\n",
    "### precision\n",
    "y_pred = [1 if i>=0.5 else 0 for i in pred_all['probability']]\n",
    "y_true = pred_all['gt']\n",
    "\n",
    "precision_hek_low  = get_precision(y_true, y_pred)\n",
    "\n",
    "y_pred = [1 if i>=0.9 else 0 for i in pred_all['probability']]\n",
    "y_true = pred_all['gt']\n",
    "\n",
    "precision_hek_high  = get_precision(y_true, y_pred)"
   ]
  },
  {
   "cell_type": "code",
   "execution_count": null,
   "id": "4c2427d8-83b6-478d-a58b-5a86e09cc5a6",
   "metadata": {
    "tags": []
   },
   "outputs": [],
   "source": [
    "# data\n",
    "precision_low = [precision_ivt_low, precision_hek_low]\n",
    "precision_high = [precision_ivt_high, precision_hek_high]\n",
    "\n",
    "# plot\n",
    "sns.set_theme(style = 'white') # theme\n",
    "tab_color = sns.color_palette() # color palette\n",
    "fig, ax = plt.subplots(figsize = (8, 6)) # figure size\n",
    "\n",
    "x = np.array([0.85, 1.15])  # the label locations\n",
    "width = 0.1  # the width of the bars\n",
    "\n",
    "rects1 = ax.bar(x-0.05, precision_low, width, label = 'IVT-20%', alpha = 0.8)\n",
    "rects2 = ax.bar(x+0.05, precision_high, width, label = 'HEK293', alpha = 0.8)\n",
    "\n",
    "plt.xticks(x, ['IVT', 'HEK293'])\n",
    "plt.yticks(np.arange(0.8, 1.1, 0.05))\n",
    "plt.legend(labels  = ['Probability = 0.5', 'Probability = 0.9'],\n",
    "           fontsize = 20, loc = 'upper right', bbox_to_anchor = (1.1, 1.2))\n",
    "\n",
    "plt.ylabel('Precision', fontsize = 30)  \n",
    "\n",
    "ax.bar_label(rects1, fmt = '%.2f', label_type = 'edge', fontsize = 18, weight = 'bold')\n",
    "ax.bar_label(rects2, fmt = '%.2f', label_type = 'edge', fontsize = 18, weight = 'bold')\n",
    "\n",
    "ax.set(ylim = (0.8, 1.0))\n",
    "ax.tick_params(labelsize = 20)\n",
    "sns.despine()"
   ]
  },
  {
   "cell_type": "code",
   "execution_count": null,
   "id": "0dd6d47c-7148-4eb3-aff7-e66b88ebbff1",
   "metadata": {},
   "outputs": [],
   "source": []
  }
 ],
 "metadata": {
  "kernelspec": {
   "display_name": "Python 3 (ipykernel)",
   "language": "python",
   "name": "python3"
  },
  "language_info": {
   "codemirror_mode": {
    "name": "ipython",
    "version": 3
   },
   "file_extension": ".py",
   "mimetype": "text/x-python",
   "name": "python",
   "nbconvert_exporter": "python",
   "pygments_lexer": "ipython3",
   "version": "3.7.16"
  }
 },
 "nbformat": 4,
 "nbformat_minor": 5
}
