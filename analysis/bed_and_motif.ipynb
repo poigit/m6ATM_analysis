{
 "cells": [
  {
   "cell_type": "markdown",
   "id": "411761a8-8c0b-4ea6-afd3-8838394d6a1a",
   "metadata": {},
   "source": [
    "### Modules"
   ]
  },
  {
   "cell_type": "code",
   "execution_count": 1,
   "id": "ef82f6ec-6691-42c9-ae9f-793fea89fdcc",
   "metadata": {
    "tags": []
   },
   "outputs": [],
   "source": [
    "import pandas as pd"
   ]
  },
  {
   "cell_type": "markdown",
   "id": "beb579d3-a7dd-4817-a85e-d8053a6f11d7",
   "metadata": {},
   "source": [
    "### Convert csv files to bed files, and produce motif txt for motif frequency logos"
   ]
  },
  {
   "cell_type": "markdown",
   "id": "cc16b0ae-6097-4b5c-95fb-89695a5c3948",
   "metadata": {},
   "source": [
    "#### HEK293"
   ]
  },
  {
   "cell_type": "code",
   "execution_count": null,
   "id": "09d1dea5-f012-4a95-a529-38c8b66ce958",
   "metadata": {
    "tags": []
   },
   "outputs": [],
   "source": [
    "### m6ATM\n",
    "pred_gn = pd.read_csv('../data/hek293_m6atm.csv', index_col = 0)\n",
    "pred_m6a_gn = pred_gn[pred_gn['m6a'].str.contains('yes')]\n",
    "hek293_bed = pred_m6a_gn.loc[:,['chrom', 'gn_pos', 'gn_pos_1', 'motif', 'ratio', 'strand']]\n",
    "hek293_bed.to_csv('../data/m6atm_hek293.bed', index = False, header = None, sep = '\\t')\n",
    "\n",
    "# motif\n",
    "with open('../data/motif_hek293_m6atm.txt', 'w') as f:\n",
    "    for motif in hek293_bed['motif']:\n",
    "        f.write(motif.replace('T', 'U')+'\\n')"
   ]
  },
  {
   "cell_type": "code",
   "execution_count": null,
   "id": "e06d61dd-feff-43e3-b9de-5a98d476395e",
   "metadata": {
    "tags": []
   },
   "outputs": [],
   "source": [
    "### miCLIP\n",
    "hek293_miclip = pd.read_csv('../data/gt_cims_hek293.csv', index_col = 0)\n",
    "hek293_miclip['0based_prior'] = hek293_miclip['center']-1\n",
    "hek293_bed = hek293_miclip.loc[:,['chr', '0based_prior', 'center', 'kmer', 'ratio', 'strand']]\n",
    "hek293_bed.to_csv('../data/gt_cims_hek293.bed', index = False, header = None, sep = '\\t')\n",
    "\n",
    "# motif\n",
    "with open('../data/motif_hek293_miclip.txt', 'w') as f:\n",
    "    for motif in hek293_bed['kmer']:\n",
    "        f.write(motif.replace('T', 'U')+'\\n')"
   ]
  },
  {
   "cell_type": "code",
   "execution_count": null,
   "id": "0f113333-9313-4e43-9853-a233b3e7545a",
   "metadata": {
    "tags": []
   },
   "outputs": [],
   "source": [
    "### m6A-SAC-seq\n",
    "hek293_sac = pd.read_csv('../data/gt_sac_hek293.csv', index_col = 0)\n",
    "hek293_sac['0based_prior'] = hek293_sac['center']-1\n",
    "hek293_bed = hek293_sac.loc[:,['chr', '0based_prior', 'center', 'kmer', 'ratio', 'strand']]\n",
    "hek293_bed.to_csv('../data/gt_sac_hek293.bed', index = False, header = None, sep = '\\t')\n",
    "\n",
    "# motif\n",
    "with open('../data/motif_hek293_sac.txt', 'w') as f:\n",
    "    for motif in hek293_bed['kmer']:\n",
    "        f.write(motif.replace('T', 'U')+'\\n')"
   ]
  },
  {
   "cell_type": "markdown",
   "id": "6ff876a3-d2da-4487-9c3e-a9e2647487b2",
   "metadata": {},
   "source": [
    "#### HepG2"
   ]
  },
  {
   "cell_type": "code",
   "execution_count": 3,
   "id": "67323732-ca2f-44e2-880f-0d4aa406c223",
   "metadata": {
    "tags": []
   },
   "outputs": [],
   "source": [
    "### m6ATM\n",
    "pred_gn = pd.read_csv('../data/hepg2_m6atm.csv', index_col = 0)\n",
    "pred_m6a_gn = pred_gn[pred_gn['m6a'].str.contains('yes')]\n",
    "hepg2_bed = pred_m6a_gn.loc[:,['chrom', 'gn_pos', 'gn_pos_1', 'motif', 'ratio', 'strand']]\n",
    "hepg2_bed.to_csv('../data/m6atm_hepg2.bed', index = False, header = None, sep = '\\t')\n",
    "\n",
    "# motif\n",
    "with open('../data/motif_hepg2_m6atm.txt', 'w') as f:\n",
    "    for motif in hepg2_bed['motif']:\n",
    "        f.write(motif.replace('T', 'U')+'\\n')"
   ]
  },
  {
   "cell_type": "code",
   "execution_count": 4,
   "id": "9c3fd4c6-f5f0-4fe8-9afa-bcd171ebe8b8",
   "metadata": {
    "tags": []
   },
   "outputs": [],
   "source": [
    "### m6A-SAC-seq\n",
    "hepg2_sac = pd.read_csv('../data/gt_sac_hepg2.csv', index_col = None)\n",
    "hepg2_sac['0based_prior'] = hepg2_sac['Position']-1\n",
    "hepg2_bed = hepg2_sac.loc[:,['Chrom', '0based_prior', 'Position', '5-mer', 'm6A fracrion (%)', 'Strand']]\n",
    "hepg2_bed.to_csv('../data/gt_sac_hepg2.bed', index = False, header = None, sep = '\\t')\n",
    "\n",
    "# motif\n",
    "with open('../data/motif_hepg2_sac.txt', 'w') as f:\n",
    "    for motif in hepg2_bed['5-mer']:\n",
    "        f.write(motif.replace('T', 'U')+'\\n')"
   ]
  },
  {
   "cell_type": "code",
   "execution_count": null,
   "id": "9b8d0e11-0e4e-4db2-a038-68fe00fe42ea",
   "metadata": {},
   "outputs": [],
   "source": []
  }
 ],
 "metadata": {
  "kernelspec": {
   "display_name": "Python 3 (ipykernel)",
   "language": "python",
   "name": "python3"
  },
  "language_info": {
   "codemirror_mode": {
    "name": "ipython",
    "version": 3
   },
   "file_extension": ".py",
   "mimetype": "text/x-python",
   "name": "python",
   "nbconvert_exporter": "python",
   "pygments_lexer": "ipython3",
   "version": "3.7.16"
  }
 },
 "nbformat": 4,
 "nbformat_minor": 5
}
