{
 "cells": [
  {
   "cell_type": "markdown",
   "id": "b04e6bc5-6168-422c-a225-905a8a9084cf",
   "metadata": {},
   "source": [
    "### Modules"
   ]
  },
  {
   "cell_type": "code",
   "execution_count": 1,
   "id": "934bfcb7-64cf-4f4a-90c9-08ce09bf5722",
   "metadata": {
    "tags": []
   },
   "outputs": [],
   "source": [
    "# basic\n",
    "import os, sys, glob\n",
    "import numpy as np, pandas as pd\n",
    "import matplotlib.pyplot as plt, seaborn as sns\n",
    "from scipy import stats\n",
    "from scipy.stats import pearsonr"
   ]
  },
  {
   "cell_type": "code",
   "execution_count": 2,
   "id": "4ab0e9a4-ca2e-4823-a763-7eb485061305",
   "metadata": {
    "tags": []
   },
   "outputs": [],
   "source": [
    "sys.path.insert(1, '/home/bo-yi/package/m6atm/m6atm/train')\n",
    "from MixBag import *\n",
    "from ModelData import *"
   ]
  },
  {
   "cell_type": "code",
   "execution_count": 3,
   "id": "e7a1a892-8495-4a14-89e4-382b7530f103",
   "metadata": {
    "tags": []
   },
   "outputs": [],
   "source": [
    "out_dir = '/home/bo-yi/paper'\n",
    "data_dir = '/home/bo-yi/package/m6atm/m6atm/data'\n",
    "model_dir = '/home/bo-yi/package/m6atm/m6atm/model'"
   ]
  },
  {
   "cell_type": "markdown",
   "id": "22d1827b-c4bf-4a8d-bd40-d07b0847ffd6",
   "metadata": {},
   "source": [
    "### Fig. 4A-1"
   ]
  },
  {
   "cell_type": "code",
   "execution_count": null,
   "id": "37fa7399-1999-450f-8b44-5b9278fd370c",
   "metadata": {
    "tags": []
   },
   "outputs": [],
   "source": [
    "### data\n",
    "dir_list = ['/home/bo-yi/data/DRS/20230326_IVT1mix20',\n",
    "            '/home/bo-yi/data/DRS/20230326_IVT1mix40',\n",
    "            '/home/bo-yi/data/DRS/20230326_IVT1mix60',\n",
    "            '/home/bo-yi/data/DRS/20230326_IVT1mix80',\n",
    "            '/home/bo-yi/data/DRS/20230326_IVT1mix100',]\n",
    "\n",
    "pred_list = [pd.read_csv(os.path.join(i, 'preprocessed/results.csv'), index_col = 0) for i in dir_list]\n",
    "group = [['IVT-%s%%'%(ratio)]*pred.shape[0] for pred, ratio in zip(pred_list, range(20, 101, 20))]\n",
    "group = sum(group, [])\n",
    "\n",
    "pred_table = pd.concat(pred_list, axis = 0)\n",
    "pred_table['group'] = group"
   ]
  },
  {
   "cell_type": "code",
   "execution_count": null,
   "id": "8873f730-3747-4825-9e4f-bcd062cb6d29",
   "metadata": {
    "tags": []
   },
   "outputs": [],
   "source": [
    "### data\n",
    "ratio = pred_table.ratio.tolist()\n",
    "gth = [[ratio/100]*pred.shape[0] for pred, ratio in zip(pred_list, range(0, 101, 20))]\n",
    "gth = sum(gth, [])\n",
    "\n",
    "corr = round(pearsonr(ratio, gth)[0], 2)\n",
    "\n",
    "### plot\n",
    "sns.set_theme(style = 'white') # theme\n",
    "tab_color = sns.color_palette() # color palette\n",
    "fig, ax = plt.subplots(figsize = (12, 6)) # figure size\n",
    "\n",
    "sns.violinplot(x = 'group', y ='ratio', data = pred_table, size = 3)\n",
    "ax.text(0.2, 1.02, 'Pearson\\'s = %s'%(corr), horizontalalignment = 'center', fontsize = 20)\n",
    "ax.tick_params(labelsize = 16)\n",
    "ax.set(xlabel = None)\n",
    "\n",
    "plt.ylabel('Predicted m6A ratio', fontsize = 25)\n",
    "\n",
    "plt.savefig(os.path.join(out_dir, 'fig4a-1.png'), bbox_inches = 'tight', dpi = 300)"
   ]
  },
  {
   "cell_type": "markdown",
   "id": "74216e02-aba5-4fc2-a217-f0f8d60939d8",
   "metadata": {},
   "source": [
    "### Fig. 4A-2"
   ]
  },
  {
   "cell_type": "code",
   "execution_count": null,
   "id": "19e8b049-b8bc-4845-bf3d-2e4ba7af5f0f",
   "metadata": {
    "tags": []
   },
   "outputs": [],
   "source": [
    "n_bags = 10\n",
    "bag_data, bag_label, bag_size, bag_site = load_mixed_bags(data_dir, prefix = 'ivt_ratio')\n",
    "\n",
    "bag_data_used = []\n",
    "bag_label_used = []\n",
    "bag_size_used = []\n",
    "bag_site_used = []\n",
    "for i in range(0, len(bag_data), n_bags*2):\n",
    "    \n",
    "    bag_data_used.extend(bag_data[i:i+10])\n",
    "    bag_label_used.extend(bag_label[i:i+10])\n",
    "    bag_size_used.extend(bag_size[i:i+10])\n",
    "    bag_site_used.extend(bag_site[i:i+10])\n",
    "    \n",
    "dataloader = get_mixed_loader(bag_data_used, bag_label_used, bag_size_used, bag_site_used, split = False)"
   ]
  },
  {
   "cell_type": "code",
   "execution_count": null,
   "id": "9ea322f6-0741-4fba-9f76-1467d1d5d2a4",
   "metadata": {
    "tags": []
   },
   "outputs": [],
   "source": [
    "# n_bags = 10\n",
    "# data_dir1 = '/home/bo-yi/data/DRS/20210806_IVTm6a/preprocessed'\n",
    "# data_dir2 = '/home/bo-yi/data/DRS/20210806_IVTum/preprocessed'\n",
    "# bag_data, bag_label, bag_size, bag_site = get_mixed_bags(data_dir1, data_dir2, data_dir, prefix = 'ivt_ratio',\n",
    "#                                                          pct_range = [0, 1], bag_size = [20, 1000], n_bags = n_bags, processes = 24)"
   ]
  },
  {
   "cell_type": "code",
   "execution_count": null,
   "id": "1ff6195f-315f-461e-8637-a850ef1528fa",
   "metadata": {
    "tags": []
   },
   "outputs": [],
   "source": [
    "device = torch.device('cuda' if torch.cuda.is_available() else 'cpu')\n",
    "dsmil_pth = os.path.join(model_dir, 'dsmil_ivt.pth')\n",
    "classifier_pth = os.path.join(model_dir, 'classifer_ivt.pth')\n",
    "result = dsmil_pred(dsmil_pth, classifier_pth, dataloader, out_dir = out_dir, thres = 0.5, device = device)"
   ]
  },
  {
   "cell_type": "code",
   "execution_count": null,
   "id": "74cb1167-3146-4eb0-992b-49dad4ec74cb",
   "metadata": {},
   "outputs": [],
   "source": [
    "### data\n",
    "ratio = result.ratio.tolist()\n",
    "gth = bag_label_used\n",
    "\n",
    "corr = round(pearsonr(ratio, gth)[0], 2)\n",
    "\n",
    "### plot\n",
    "sns.set_theme(style = 'white') # theme\n",
    "tab_color = sns.color_palette() # color palette\n",
    "fig, ax = plt.subplots(figsize = (8, 6)) # figure size\n",
    "\n",
    "sns.regplot(x = ratio, y = gth,\n",
    "            scatter_kws = {'alpha': 0.5, 's': 10},\n",
    "            line_kws = {'color': tab_color[3], 'linewidth': 2, 'alpha': 0.7})\n",
    "\n",
    "ax.text(0.18, 1, 'Pearson\\'s = %s'%(corr), horizontalalignment = 'center', fontsize = 18)\n",
    "ax.set_xlabel('Ground-truth m6A ratio (IVT)', fontsize = 20)\n",
    "ax.set_ylabel('Predicted m6A ratio', fontsize = 20)\n",
    "\n",
    "plt.savefig(os.path.join(out_dir, 'fig4a-2.png'), bbox_inches = 'tight', dpi = 300)"
   ]
  },
  {
   "cell_type": "code",
   "execution_count": null,
   "id": "ed4e5241-a06e-4222-b2fb-45d27ce3a935",
   "metadata": {},
   "outputs": [],
   "source": []
  },
  {
   "cell_type": "markdown",
   "id": "384ccfc2-9c0c-4095-8044-6e387994e082",
   "metadata": {},
   "source": [
    "### Fig 4C"
   ]
  },
  {
   "cell_type": "code",
   "execution_count": null,
   "id": "be5ac7f4-db49-41fe-aadb-78b4557745e9",
   "metadata": {
    "tags": []
   },
   "outputs": [],
   "source": [
    "os.environ['CUDA_VISIBLE_DEVICES'] = '1'"
   ]
  },
  {
   "cell_type": "code",
   "execution_count": null,
   "id": "d6571299-2568-499a-8744-1e4579f7386a",
   "metadata": {
    "tags": []
   },
   "outputs": [],
   "source": [
    "data_dir1 = '/home/bo-yi/data/DRS/20210806_IVTm6a/preprocessed'\n",
    "data_dir2 = '/home/bo-yi/data/DRS/20210806_IVTum/preprocessed'\n",
    "data_dir = '/home/bo-yi/package/m6atm/m6atm/data/ivt_coverage'\n",
    "dsmil_file = '/home/bo-yi/package/m6atm/m6atm/model/dsmil_ivt_20.pth'\n",
    "classifier_file = '/home/bo-yi/package/m6atm/m6atm/model/classifer_ivt.pth'"
   ]
  },
  {
   "cell_type": "code",
   "execution_count": null,
   "id": "1cdeb71a-de96-452c-a900-b642b8f16b80",
   "metadata": {
    "tags": []
   },
   "outputs": [],
   "source": [
    "# coverage_list = [20, 30, 50, 100, 200, 500, 1000]\n",
    "# for coverage in coverage_list:\n",
    "#     _ = get_mixed_bags(data_dir1, data_dir2, data_dir, bag_size = [coverage, coverage], pct_range = [0, 1],\n",
    "#                        prefix = 'ivt_c%s'%(coverage), n_bags = 5, processes = 24)"
   ]
  },
  {
   "cell_type": "code",
   "execution_count": null,
   "id": "aebc3ca2-1575-42b8-96b0-6b6f0c12c915",
   "metadata": {
    "tags": []
   },
   "outputs": [],
   "source": [
    "n_bags = 5\n",
    "coverage_list = [20, 30, 50, 100, 200, 500, 1000]\n",
    "corr_list = []\n",
    "for coverage in coverage_list:\n",
    "    \n",
    "    bag_data, bag_label, size_data, site_data = load_mixed_bags(data_dir, prefix = 'ivt_c%s'%(coverage))\n",
    "\n",
    "    bag_data_used = []\n",
    "    bag_label_used = []\n",
    "    bag_size_used = []\n",
    "    bag_site_used = []\n",
    "    for i in range(0, len(bag_data), n_bags*2):\n",
    "\n",
    "        bag_data_used.extend(bag_data[i:i+n_bags])\n",
    "        bag_label_used.extend(bag_label[i:i+n_bags])\n",
    "        bag_size_used.extend(size_data[i:i+n_bags])\n",
    "        bag_site_used.extend(site_data[i:i+n_bags])\n",
    "\n",
    "    dataloader = get_mixed_loader(bag_data_used, bag_label_used, bag_size_used, bag_site_used, split = False)\n",
    "    result = dsmil_pred(dsmil_file, classifier_file, dataloader, out_dir = data_dir)\n",
    "\n",
    "    ### data\n",
    "    ratio = result.ratio.tolist()\n",
    "    gth = bag_label_used\n",
    "\n",
    "    corr = round(pearsonr(ratio, gth)[0], 2)\n",
    "    corr_list.append(corr)"
   ]
  },
  {
   "cell_type": "code",
   "execution_count": null,
   "id": "3634459b-5283-4c6a-aae6-55742d75f208",
   "metadata": {
    "tags": []
   },
   "outputs": [],
   "source": [
    "##### main\n",
    "sns.set_theme(style = 'white') # theme\n",
    "tab_color = sns.color_palette() # color palette\n",
    "fig, ax = plt.subplots(figsize = (10, 6)) # figure size\n",
    "\n",
    "# plot the scatter plot with regression line and Pearson's coefficient\n",
    "x_val = coverage_list\n",
    "y_val = corr_list\n",
    "ax.plot(x_val, y_val, marker = 'o', color = tab_color[2], lw = 3)\n",
    "\n",
    "ax.set_xlabel('Read coverage', fontsize = 25)\n",
    "ax.set_ylabel('Pearson\\'s coefficient', fontsize = 25)\n",
    "ax.set_ylim([0.5, 1])\n",
    "\n",
    "ax.spines['right'].set_visible(False)\n",
    "ax.spines['top'].set_visible(False)\n",
    "\n",
    "ax.tick_params(labelsize = 20)\n",
    "\n",
    "for i, text in enumerate(x_val):\n",
    "    if text!=30:\n",
    "        ax.annotate(str(text), (x_val[i]+10, y_val[i]-0.025), fontsize = 16)\n",
    "    \n",
    "plt.savefig(os.path.join(out_dir, 'fig4c.png'), bbox_inches = 'tight', dpi = 300)"
   ]
  },
  {
   "cell_type": "markdown",
   "id": "069c7925-daf3-49b2-afaa-d3d5f70302c0",
   "metadata": {},
   "source": [
    "### Fig 4D"
   ]
  },
  {
   "cell_type": "code",
   "execution_count": null,
   "id": "c4bf63fb",
   "metadata": {
    "tags": []
   },
   "outputs": [],
   "source": [
    "pred_ivtr50 = pd.read_csv(os.path.join('/home/bo-yi/data/DRS/20230410_IVTR1m6a50', 'preprocessed/results.csv'), index_col = 0)\n",
    "pred_ivtr20 = pd.read_csv(os.path.join('/home/bo-yi/data/DRS/20230410_IVTR1m6a20', 'preprocessed/results.csv'), index_col = 0)"
   ]
  },
  {
   "cell_type": "code",
   "execution_count": null,
   "id": "5d859894-91fb-48f7-93e3-42488e0fb73e",
   "metadata": {
    "tags": []
   },
   "outputs": [],
   "source": [
    "pred_ivtr50 = pred_ivtr50[(pred_ivtr50.probability>=0.9) | (pred_ivtr50.probability<0.5)]\n",
    "pred_ivtr20 = pred_ivtr20[(pred_ivtr20.probability>=0.9) | (pred_ivtr20.probability<0.5)]"
   ]
  },
  {
   "cell_type": "code",
   "execution_count": null,
   "id": "8a4cf4b9-a384-4cc3-9057-c3bef846e514",
   "metadata": {
    "tags": []
   },
   "outputs": [],
   "source": [
    "ratio_50 = pred_ivtr50.ratio.tolist()\n",
    "ratio_20 = pred_ivtr20.ratio.tolist()\n",
    "\n",
    "ratio_list = ratio_20+ratio_50\n",
    "group_list = ['IVTR-20%']*len(ratio_20)+['IVTR-50%']*len(ratio_50)\n",
    "ratio_table = pd.DataFrame({'ratio': ratio_list, 'group': group_list})"
   ]
  },
  {
   "cell_type": "code",
   "execution_count": null,
   "id": "e90717b2-c7b1-4be8-850a-b44e7d74ccfd",
   "metadata": {
    "tags": []
   },
   "outputs": [],
   "source": [
    "### plot\n",
    "sns.set_theme(style = 'white') # theme\n",
    "tab_color = sns.color_palette() # color palette\n",
    "fig, ax = plt.subplots(figsize = (8, 8)) # figure size\n",
    "\n",
    "sns.boxplot(x = 'group', y ='ratio', data = ratio_table, showfliers = False)\n",
    "\n",
    "# asterisks\n",
    "x1, x2 = 0, 1\n",
    "y, h, col = ratio_table['ratio'].max()*0.9, 0.05, 'k'\n",
    "\n",
    "pval = stats.median_test(ratio_20, ratio_50)[1]\n",
    "if pval < 0.001:\n",
    "    symbol = '***'\n",
    "elif pval < 0.01:\n",
    "    symbol = '**'\n",
    "elif pval < 0.05:\n",
    "    symbol = '*'\n",
    "else:\n",
    "    symbol = 'ns'\n",
    "\n",
    "plt.plot([x1, x1, x2, x2], [y, y+h, y+h, y], lw = 1.5, c = col)\n",
    "plt.text((x1+x2)*.5, y+h, symbol, ha = 'center', va = 'bottom', color = col)\n",
    "\n",
    "ax.tick_params(labelsize = 24)\n",
    "ax.set_xlabel(None)\n",
    "ax.set_ylabel('Predicted m6A ratio', size = 32)\n",
    "\n",
    "plt.savefig(os.path.join(out_dir, 'fig4d.png'), bbox_inches = 'tight', dpi = 300)"
   ]
  },
  {
   "cell_type": "code",
   "execution_count": null,
   "id": "dfe44948-c4d0-4088-b1db-314315b21b4e",
   "metadata": {
    "tags": []
   },
   "outputs": [],
   "source": [
    "np.median(ratio_20)"
   ]
  },
  {
   "cell_type": "markdown",
   "id": "581c1f79-acf4-4fa0-89ec-d936bd7277bf",
   "metadata": {},
   "source": [
    "### Fig 4E"
   ]
  },
  {
   "cell_type": "code",
   "execution_count": 4,
   "id": "f64ca29d-4ead-4f13-a817-c0670e0aa358",
   "metadata": {
    "tags": []
   },
   "outputs": [],
   "source": [
    "pred_hek293twt1 = pd.read_csv(os.path.join('/home/bo-yi/data/DRS/20211012_HEK293T-WT1', 'preprocessed/results.csv'), index_col = 0)\n",
    "pred_hek293tko1 = pd.read_csv(os.path.join('/home/bo-yi/data/DRS/20211012_HEK293T-KO1', 'preprocessed/results.csv'), index_col = 0)"
   ]
  },
  {
   "cell_type": "code",
   "execution_count": 5,
   "id": "bc760906-3335-42ef-a2f3-8717cd6d2ec1",
   "metadata": {
    "tags": []
   },
   "outputs": [],
   "source": [
    "pred_hek293twt1 = pred_hek293twt1[pred_hek293twt1.coverage>=100]\n",
    "pred_hek293tko1 = pred_hek293tko1[pred_hek293tko1.coverage>=100]"
   ]
  },
  {
   "cell_type": "code",
   "execution_count": 6,
   "id": "933a4953-83a8-46a0-a080-4861229900f3",
   "metadata": {
    "tags": []
   },
   "outputs": [],
   "source": [
    "pred_hek293twt1 = pred_hek293twt1[pred_hek293twt1.ratio<0.5]\n",
    "pred_hek293tko1 = pred_hek293tko1[pred_hek293tko1.ratio<0.5]"
   ]
  },
  {
   "cell_type": "code",
   "execution_count": 7,
   "id": "42ecd7d4-ca7d-4cc2-a842-3ecebb39fbba",
   "metadata": {
    "tags": []
   },
   "outputs": [],
   "source": [
    "p_table = pred_hek293twt1[pred_hek293twt1.probability>=0.9]\n",
    "n_table = pred_hek293tko1[pred_hek293tko1.probability<0.1]\n",
    "table = p_table.merge(n_table, how = 'inner', on = ['transcript', 'position']).loc[:,['transcript', 'position']]"
   ]
  },
  {
   "cell_type": "code",
   "execution_count": null,
   "id": "aa53b6fc-26cc-472f-b3d5-2c4c28f9c3f2",
   "metadata": {},
   "outputs": [],
   "source": []
  },
  {
   "cell_type": "code",
   "execution_count": null,
   "id": "efffbb9f-d595-44fa-bce9-15cd0e9c334e",
   "metadata": {},
   "outputs": [],
   "source": []
  },
  {
   "cell_type": "code",
   "execution_count": null,
   "id": "e8d0e318-1a72-44c5-b64c-f58a6e86e7b8",
   "metadata": {},
   "outputs": [],
   "source": []
  },
  {
   "cell_type": "code",
   "execution_count": null,
   "id": "dba08b49-1cfb-42a7-a6b4-00108d84b545",
   "metadata": {},
   "outputs": [],
   "source": []
  },
  {
   "cell_type": "code",
   "execution_count": null,
   "id": "ab7f4e21-f98c-40d4-a232-6fb61adb4836",
   "metadata": {
    "tags": []
   },
   "outputs": [],
   "source": [
    "ratio_wt = pred_hek293twt1.merge(table, how = 'inner', on = ['transcript', 'position']).ratio.tolist()\n",
    "ratio_ko = pred_hek293tko1.merge(table, how = 'inner', on = ['transcript', 'position']).ratio.tolist()\n",
    "\n",
    "ratio_list = ratio_wt+ratio_ko\n",
    "group_list = ['HEK293T-WT']*len(ratio_wt)+['HEK293T-METTL3_KO']*len(ratio_ko)\n",
    "ratio_table = pd.DataFrame({'ratio': ratio_list, 'group': group_list})"
   ]
  },
  {
   "cell_type": "code",
   "execution_count": null,
   "id": "43e8495d-8319-4985-a98a-c50fafb15a57",
   "metadata": {
    "tags": []
   },
   "outputs": [],
   "source": [
    "### plot\n",
    "sns.set_theme(style = 'white') # theme\n",
    "tab_color = sns.color_palette() # color palette\n",
    "fig, ax = plt.subplots(figsize = (8, 8)) # figure size\n",
    "\n",
    "sns.boxplot(x = 'group', y ='ratio', data = ratio_table, showfliers = False)\n",
    "\n",
    "# asterisks\n",
    "x1, x2 = 0, 1\n",
    "y, h, col = ratio_table['ratio'].max()*1.05, 0.01, 'k'\n",
    "\n",
    "pval = stats.median_test(ratio_wt, ratio_ko)[1]\n",
    "if pval < 0.001:\n",
    "    symbol = '***'\n",
    "elif pval < 0.01:\n",
    "    symbol = '**'\n",
    "elif pval < 0.05:\n",
    "    symbol = '*'\n",
    "else:\n",
    "    symbol = 'ns'\n",
    "\n",
    "plt.plot([x1, x1, x2, x2], [y, y+h, y+h, y], lw = 1.5, c = col)\n",
    "plt.text((x1+x2)*.5, y+h, symbol, ha = 'center', va = 'bottom', color = col)    \n",
    "    \n",
    "ax.tick_params(labelsize = 24)\n",
    "ax.set_xlabel(None)\n",
    "ax.set_ylabel('Predicted m6A ratio', size = 32)\n",
    "\n",
    "plt.savefig(os.path.join(out_dir, 'fig4e.png'), bbox_inches = 'tight', dpi = 300)"
   ]
  },
  {
   "cell_type": "code",
   "execution_count": null,
   "id": "b5678a03-0617-415a-b269-84e7d9dace93",
   "metadata": {},
   "outputs": [],
   "source": []
  },
  {
   "cell_type": "code",
   "execution_count": null,
   "id": "c2de0979-2b24-4f07-aa5b-df719b258308",
   "metadata": {},
   "outputs": [],
   "source": []
  },
  {
   "cell_type": "code",
   "execution_count": null,
   "id": "df6d3207-a772-443c-abf5-c5e7ee38fb05",
   "metadata": {},
   "outputs": [],
   "source": []
  },
  {
   "cell_type": "code",
   "execution_count": null,
   "id": "25d834e6-8823-48c2-b7ea-34619a2a7b46",
   "metadata": {},
   "outputs": [],
   "source": []
  }
 ],
 "metadata": {
  "kernelspec": {
   "display_name": "Python 3 (ipykernel)",
   "language": "python",
   "name": "python3"
  },
  "language_info": {
   "codemirror_mode": {
    "name": "ipython",
    "version": 3
   },
   "file_extension": ".py",
   "mimetype": "text/x-python",
   "name": "python",
   "nbconvert_exporter": "python",
   "pygments_lexer": "ipython3",
   "version": "3.7.16"
  }
 },
 "nbformat": 4,
 "nbformat_minor": 5
}
