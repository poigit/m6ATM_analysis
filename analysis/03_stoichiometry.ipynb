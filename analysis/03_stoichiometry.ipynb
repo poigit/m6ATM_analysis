{
 "cells": [
  {
   "cell_type": "markdown",
   "id": "b04e6bc5-6168-422c-a225-905a8a9084cf",
   "metadata": {},
   "source": [
    "### Modules"
   ]
  },
  {
   "cell_type": "code",
   "execution_count": null,
   "id": "934bfcb7-64cf-4f4a-90c9-08ce09bf5722",
   "metadata": {
    "tags": []
   },
   "outputs": [],
   "source": [
    "# basic\n",
    "import os, sys, glob\n",
    "import numpy as np, pandas as pd\n",
    "import matplotlib.pyplot as plt, seaborn as sns\n",
    "from scipy import stats\n",
    "from scipy.stats import pearsonr"
   ]
  },
  {
   "cell_type": "markdown",
   "id": "b867e6a0-6941-4c40-9235-a8adc8c3c489",
   "metadata": {},
   "source": [
    "### Figure 4B"
   ]
  },
  {
   "cell_type": "code",
   "execution_count": null,
   "id": "e7a3fcd4-b083-4ce4-83fe-2ad884ff40eb",
   "metadata": {
    "tags": []
   },
   "outputs": [],
   "source": [
    "### 'ivtratio_m6atm.csv' contains predictions results of in-silico mixed IVT sites with random m6A ratio"
   ]
  },
  {
   "cell_type": "code",
   "execution_count": null,
   "id": "74cb1167-3146-4eb0-992b-49dad4ec74cb",
   "metadata": {},
   "outputs": [],
   "source": [
    "### correlation plot\n",
    "pred = pd.read_csv('../data/ivtratio_m6atm.csv')\n",
    "\n",
    "ratio = pred.ratio.tolist()\n",
    "gth = pred.gth.tolist()\n",
    "\n",
    "corr = round(pearsonr(ratio, gth)[0], 2)\n",
    "\n",
    "### plot\n",
    "sns.set_theme(style = 'white') # theme\n",
    "tab_color = sns.color_palette() # color palette\n",
    "fig, ax = plt.subplots(figsize = (8, 6)) # figure size\n",
    "\n",
    "sns.regplot(x = ratio, y = gth,\n",
    "            scatter_kws = {'alpha': 0.5, 's': 10},\n",
    "            line_kws = {'color': tab_color[3], 'linewidth': 2, 'alpha': 0.7})\n",
    "\n",
    "ax.text(0.18, 1, 'Pearson\\'s = %s'%(corr), horizontalalignment = 'center', fontsize = 18)\n",
    "ax.set_xlabel('Ground-truth m6A ratio (IVT)', fontsize = 20)\n",
    "ax.set_ylabel('Predicted m6A ratio', fontsize = 20)"
   ]
  },
  {
   "cell_type": "markdown",
   "id": "384ccfc2-9c0c-4095-8044-6e387994e082",
   "metadata": {},
   "source": [
    "### Figure 4C"
   ]
  },
  {
   "cell_type": "code",
   "execution_count": null,
   "id": "bebb0005-e3a7-45d1-89fe-5f76129f228e",
   "metadata": {
    "tags": []
   },
   "outputs": [],
   "source": [
    "### 'ivtratio_coverage_m6atm.csv' contains predictions results of in-silico mixed IVT sites with random m6A ratio using different read coverages"
   ]
  },
  {
   "cell_type": "code",
   "execution_count": null,
   "id": "b91674e3-4a12-4309-9707-b43d4144dbac",
   "metadata": {
    "tags": []
   },
   "outputs": [],
   "source": [
    "pred = pd.read_csv('../data/ivtratio_coverage_m6atm.csv')\n",
    "\n",
    "corr_list = []\n",
    "coverage_list = sorted(list(set(pred.group)))\n",
    "for i in coverage_list:\n",
    "    \n",
    "    table = pred[pred.group == i]\n",
    "    \n",
    "    ratio = table.ratio.tolist()\n",
    "    gth = table.gth.tolist()\n",
    "    corr = round(pearsonr(ratio, gth)[0], 2)\n",
    "    corr_list.append(corr)"
   ]
  },
  {
   "cell_type": "code",
   "execution_count": null,
   "id": "3634459b-5283-4c6a-aae6-55742d75f208",
   "metadata": {
    "tags": []
   },
   "outputs": [],
   "source": [
    "##### main\n",
    "sns.set_theme(style = 'white') # theme\n",
    "tab_color = sns.color_palette() # color palette\n",
    "fig, ax = plt.subplots(figsize = (10, 6)) # figure size\n",
    "\n",
    "# plot the scatter plot with regression line and Pearson's coefficient\n",
    "x_val = coverage_list\n",
    "y_val = corr_list\n",
    "ax.plot(x_val, y_val, marker = 'o', color = tab_color[2], lw = 3)\n",
    "\n",
    "ax.set_xlabel('Read coverage', fontsize = 25)\n",
    "ax.set_ylabel('Pearson\\'s coefficient', fontsize = 25)\n",
    "ax.set_ylim([0.5, 1])\n",
    "\n",
    "ax.spines['right'].set_visible(False)\n",
    "ax.spines['top'].set_visible(False)\n",
    "\n",
    "ax.tick_params(labelsize = 20)\n",
    "\n",
    "for i, text in enumerate(x_val):\n",
    "    if text!=30:\n",
    "        ax.annotate(str(text), (x_val[i]+10, y_val[i]-0.025), fontsize = 16)"
   ]
  },
  {
   "cell_type": "markdown",
   "id": "069c7925-daf3-49b2-afaa-d3d5f70302c0",
   "metadata": {},
   "source": [
    "### Figure 4D"
   ]
  },
  {
   "cell_type": "code",
   "execution_count": null,
   "id": "5d859894-91fb-48f7-93e3-42488e0fb73e",
   "metadata": {
    "tags": []
   },
   "outputs": [],
   "source": [
    "pred_ivtr50 = pd.read_csv('../data/ivtr50_m6atm.csv')\n",
    "pred_ivtr20 = pd.read_csv('../data/ivtr20_m6atm.csv')\n",
    "\n",
    "pred_ivtr50 = pred_ivtr50[(pred_ivtr50.probability>=0.9) | (pred_ivtr50.probability<0.5)]\n",
    "pred_ivtr20 = pred_ivtr20[(pred_ivtr20.probability>=0.9) | (pred_ivtr20.probability<0.5)]\n",
    "\n",
    "ratio_50 = pred_ivtr50.ratio.tolist()\n",
    "ratio_20 = pred_ivtr20.ratio.tolist()\n",
    "\n",
    "ratio_list = ratio_20+ratio_50\n",
    "group_list = ['IVTR-20%']*len(ratio_20)+['IVTR-50%']*len(ratio_50)\n",
    "ratio_table = pd.DataFrame({'ratio': ratio_list, 'group': group_list})"
   ]
  },
  {
   "cell_type": "code",
   "execution_count": null,
   "id": "e90717b2-c7b1-4be8-850a-b44e7d74ccfd",
   "metadata": {
    "tags": []
   },
   "outputs": [],
   "source": [
    "### plot\n",
    "sns.set_theme(style = 'white') # theme\n",
    "tab_color = sns.color_palette() # color palette\n",
    "fig, ax = plt.subplots(figsize = (8, 8)) # figure size\n",
    "\n",
    "sns.boxplot(x = 'group', y ='ratio', data = ratio_table, showfliers = False)\n",
    "\n",
    "# asterisks\n",
    "x1, x2 = 0, 1\n",
    "y, h, col = ratio_table['ratio'].max()*0.9, 0.05, 'k'\n",
    "\n",
    "pval = stats.median_test(ratio_20, ratio_50)[1]\n",
    "if pval < 0.001:\n",
    "    symbol = '***'\n",
    "elif pval < 0.01:\n",
    "    symbol = '**'\n",
    "elif pval < 0.05:\n",
    "    symbol = '*'\n",
    "else:\n",
    "    symbol = 'ns'\n",
    "\n",
    "plt.plot([x1, x1, x2, x2], [y, y+h, y+h, y], lw = 1.5, c = col)\n",
    "plt.text((x1+x2)*.5, y+h, symbol, ha = 'center', va = 'bottom', color = col)\n",
    "\n",
    "ax.tick_params(labelsize = 24)\n",
    "ax.set_xlabel(None)\n",
    "ax.set_ylabel('Predicted m6A ratio', size = 32)"
   ]
  },
  {
   "cell_type": "markdown",
   "id": "581c1f79-acf4-4fa0-89ec-d936bd7277bf",
   "metadata": {},
   "source": [
    "### Fig 4E"
   ]
  },
  {
   "cell_type": "code",
   "execution_count": null,
   "id": "bc760906-3335-42ef-a2f3-8717cd6d2ec1",
   "metadata": {
    "tags": []
   },
   "outputs": [],
   "source": [
    "pred_hek293twt = pd.read_csv('../data/hek293twt_m6atm.csv')\n",
    "pred_hek293tko = pd.read_csv('../data/hek293tko_m6atm.csv')\n",
    "\n",
    "pred_hek293twt = pred_hek293twt[pred_hek293twt.coverage>=100]\n",
    "pred_hek293tko = pred_hek293tko[pred_hek293tko.coverage>=100]\n",
    "\n",
    "pred_hek293twt = pred_hek293twt[pred_hek293twt.ratio<0.5]\n",
    "pred_hek293tko = pred_hek293tko[pred_hek293tko.ratio<0.5]\n",
    "\n",
    "p_table = pred_hek293twt[pred_hek293twt.probability>=0.9]\n",
    "n_table = pred_hek293tko[pred_hek293tko.probability<0.1]\n",
    "\n",
    "table = p_table.merge(n_table, how = 'inner', on = ['transcript', 'position']).loc[:,['transcript', 'position']]\n",
    "ratio_wt = pred_hek293twt.merge(table, how = 'inner', on = ['transcript', 'position']).ratio.tolist()\n",
    "ratio_ko = pred_hek293tko.merge(table, how = 'inner', on = ['transcript', 'position']).ratio.tolist()\n",
    "\n",
    "ratio_list = ratio_wt+ratio_ko\n",
    "group_list = ['HEK293T-WT']*len(ratio_wt)+['HEK293T-METTL3_KO']*len(ratio_ko)\n",
    "ratio_table = pd.DataFrame({'ratio': ratio_list, 'group': group_list})"
   ]
  },
  {
   "cell_type": "code",
   "execution_count": null,
   "id": "43e8495d-8319-4985-a98a-c50fafb15a57",
   "metadata": {
    "tags": []
   },
   "outputs": [],
   "source": [
    "### plot\n",
    "sns.set_theme(style = 'white') # theme\n",
    "tab_color = sns.color_palette() # color palette\n",
    "fig, ax = plt.subplots(figsize = (8, 8)) # figure size\n",
    "\n",
    "sns.boxplot(x = 'group', y ='ratio', data = ratio_table, showfliers = False)\n",
    "\n",
    "# asterisks\n",
    "x1, x2 = 0, 1\n",
    "y, h, col = ratio_table['ratio'].max()*1.05, 0.01, 'k'\n",
    "\n",
    "pval = stats.median_test(ratio_wt, ratio_ko)[1]\n",
    "if pval < 0.001:\n",
    "    symbol = '***'\n",
    "elif pval < 0.01:\n",
    "    symbol = '**'\n",
    "elif pval < 0.05:\n",
    "    symbol = '*'\n",
    "else:\n",
    "    symbol = 'ns'\n",
    "\n",
    "plt.plot([x1, x1, x2, x2], [y, y+h, y+h, y], lw = 1.5, c = col)\n",
    "plt.text((x1+x2)*.5, y+h, symbol, ha = 'center', va = 'bottom', color = col)    \n",
    "    \n",
    "ax.tick_params(labelsize = 24)\n",
    "ax.set_xlabel(None)\n",
    "ax.set_ylabel('Predicted m6A ratio', size = 32)"
   ]
  },
  {
   "cell_type": "code",
   "execution_count": null,
   "id": "21abd117-98e6-4d96-8823-f4fb9793f432",
   "metadata": {},
   "outputs": [],
   "source": []
  }
 ],
 "metadata": {
  "kernelspec": {
   "display_name": "Python 3 (ipykernel)",
   "language": "python",
   "name": "python3"
  },
  "language_info": {
   "codemirror_mode": {
    "name": "ipython",
    "version": 3
   },
   "file_extension": ".py",
   "mimetype": "text/x-python",
   "name": "python",
   "nbconvert_exporter": "python",
   "pygments_lexer": "ipython3",
   "version": "3.7.16"
  }
 },
 "nbformat": 4,
 "nbformat_minor": 5
}
