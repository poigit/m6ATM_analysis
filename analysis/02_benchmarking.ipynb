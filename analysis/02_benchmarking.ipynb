{
 "cells": [
  {
   "cell_type": "markdown",
   "id": "b04e6bc5-6168-422c-a225-905a8a9084cf",
   "metadata": {},
   "source": [
    "### Modules"
   ]
  },
  {
   "cell_type": "code",
   "execution_count": 6,
   "id": "934bfcb7-64cf-4f4a-90c9-08ce09bf5722",
   "metadata": {},
   "outputs": [],
   "source": [
    "# basic\n",
    "import os, sys, glob, umap, pybedtools\n",
    "import numpy as np, pandas as pd\n",
    "import matplotlib.pyplot as plt, seaborn as sns\n",
    "from liftover import get_lifter\n",
    "from sklearn.metrics import confusion_matrix, roc_curve, precision_recall_curve, auc, silhouette_samples\n",
    "from sklearn.manifold import TSNE\n",
    "from matplotlib_venn import venn2, venn3\n",
    "from matplotlib.lines import Line2D"
   ]
  },
  {
   "cell_type": "code",
   "execution_count": 2,
   "id": "c6c721e1-6511-42a5-9edf-4caad0331bcd",
   "metadata": {
    "tags": []
   },
   "outputs": [],
   "source": [
    "sys.path.insert(1, '/home/bo-yi/package/m6atm/m6atm/preprocess')\n",
    "from ReadClass import *"
   ]
  },
  {
   "cell_type": "code",
   "execution_count": 3,
   "id": "78304af3-aeb2-4125-b6cb-f72e60a48f96",
   "metadata": {
    "tags": []
   },
   "outputs": [],
   "source": [
    "sys.path.insert(1, '/home/bo-yi/package/m6atm/m6atm/train')\n",
    "from ModelData import *"
   ]
  },
  {
   "cell_type": "code",
   "execution_count": 4,
   "id": "e7a1a892-8495-4a14-89e4-382b7530f103",
   "metadata": {
    "tags": []
   },
   "outputs": [],
   "source": [
    "out_dir = '/home/bo-yi/paper'"
   ]
  },
  {
   "cell_type": "code",
   "execution_count": 5,
   "id": "3f0d52ee-e2b1-473a-a731-63c292b9b65d",
   "metadata": {
    "tags": []
   },
   "outputs": [],
   "source": [
    "os.environ['CUDA_VISIBLE_DEVICES'] = '1'"
   ]
  },
  {
   "cell_type": "markdown",
   "id": "dcf2db72-28ae-4cf3-9233-6114785c4612",
   "metadata": {},
   "source": [
    "### Fig 3A"
   ]
  },
  {
   "cell_type": "code",
   "execution_count": null,
   "id": "368d6bee-83c6-4ca6-b18a-72e6fdf47c2f",
   "metadata": {
    "tags": []
   },
   "outputs": [],
   "source": [
    "def roc_val(pred_table, col):\n",
    "    \n",
    "    y_pred = pred_table[col]\n",
    "    y_true = pred_table['gt']\n",
    "\n",
    "    fpr, tpr, thersholds = roc_curve(y_true, y_pred, pos_label = 1)\n",
    "    roc_auc = auc(fpr, tpr)\n",
    "\n",
    "    out = [fpr, tpr, roc_auc]\n",
    "    \n",
    "    return out\n",
    "\n",
    "def pr_val(pred_table, col):\n",
    "    \n",
    "    y_pred = pred_table[col]\n",
    "    y_true = pred_table['gt']\n",
    "\n",
    "    precision, recall, thresholds = precision_recall_curve(y_true, y_pred, pos_label = 1)\n",
    "    pr_auc = auc(recall, precision)\n",
    "\n",
    "    out = [precision, recall, pr_auc]\n",
    "    \n",
    "    return out"
   ]
  },
  {
   "cell_type": "code",
   "execution_count": null,
   "id": "dce43f85-9eb3-4ce1-a2d3-aaf069ea99b9",
   "metadata": {
    "tags": []
   },
   "outputs": [],
   "source": [
    "bmk_dir_ivt20 = '/home/bo-yi/data/DRS/20230326_IVT1mix20/bmk'\n",
    "bmk_dir_ivt0 = '/home/bo-yi/data/DRS/20230326_IVT1mix0/bmk'\n",
    "DRACH = extend_ambiguous('DRACH')"
   ]
  },
  {
   "cell_type": "code",
   "execution_count": null,
   "id": "7aa5a6ec-eff9-4e71-aa2d-40605107de54",
   "metadata": {},
   "outputs": [],
   "source": [
    "### find shared sites\n",
    "# m6ATM\n",
    "pred_pos = pd.read_csv('/home/bo-yi/data/DRS/20230326_IVT1mix20/preprocessed/results.csv', index_col = 0)\n",
    "pred_pos['site'] = [x+'_'+str(y)+'_p' for x, y in zip(pred_pos['transcript'], pred_pos['position'])]\n",
    "\n",
    "pred_neg = pd.read_csv('/home/bo-yi/data/DRS/20230326_IVT1mix0/preprocessed/results.csv', index_col = 0)\n",
    "pred_neg['site'] = [x+'_'+str(y)+'_n' for x, y in zip(pred_neg['transcript'], pred_neg['position'])]\n",
    "\n",
    "pred_table = pd.concat([pred_pos, pred_neg], axis = 0)\n",
    "pred_table['gt'] = [1]*pred_pos.shape[0]+[0]*pred_neg.shape[0]\n",
    "\n",
    "# m6Anet\n",
    "pred_m6anet_pos = pd.read_csv(os.path.join(bmk_dir_ivt20, 'm6anet', 'data.site_proba.csv'))\n",
    "pred_m6anet_pos['predicted'] = [1 if i>=0.5 else 0 for i in pred_m6anet_pos['probability_modified'] ]\n",
    "pred_m6anet_pos['site'] = [x+'_'+str(y)+'_p' for x, y in zip(pred_m6anet_pos['transcript_id'], pred_m6anet_pos['transcript_position'])]\n",
    "\n",
    "pred_m6anet_neg = pd.read_csv(os.path.join(bmk_dir_ivt0, 'm6anet', 'data.site_proba.csv'))\n",
    "pred_m6anet_neg['site'] = [x+'_'+str(y)+'_n' for x, y in zip(pred_m6anet_neg['transcript_id'], pred_m6anet_neg['transcript_position'])]\n",
    "\n",
    "pred_m6anet = pd.concat([pred_m6anet_pos, pred_m6anet_neg], axis = 0)\n",
    "pred_m6anet['gt'] = [1]*pred_m6anet_pos.shape[0]+[0]*pred_m6anet_neg.shape[0]\n",
    "\n",
    "# m6a basecaller\n",
    "pred_m6abase_pos = pd.read_csv(os.path.join(bmk_dir_ivt20, 'm6abase', 'mod.tsv'), sep = '\\t')\n",
    "pred_m6abase_pos.columns = ['chr', 'pos', 'ref_base', 'strand', 'mod', 'coverage', 'base_accuracy', 'ratio', 'probability']\n",
    "pred_m6abase_pos['site'] = [x+'_'+str(y-1)+'_p' for x, y in zip(pred_m6abase_pos['chr'], pred_m6abase_pos['pos'])]\n",
    "pred_m6abase_pos = pred_m6abase_pos[pred_m6abase_pos.site.isin(pred_pos.site.tolist())]\n",
    "pred_m6abase_pos['probability'] = pred_m6abase_pos['probability'].replace(np.nan, 0)\n",
    "\n",
    "pred_m6abase_neg = pd.read_csv(os.path.join(bmk_dir_ivt0, 'm6abase', 'mod.tsv'), sep = '\\t')\n",
    "pred_m6abase_neg.columns = ['chr', 'pos', 'ref_base', 'strand', 'mod', 'coverage', 'base_accuracy', 'ratio', 'probability']\n",
    "pred_m6abase_neg['site'] = [x+'_'+str(y-1)+'_n' for x, y in zip(pred_m6abase_neg['chr'], pred_m6abase_neg['pos'])]\n",
    "pred_m6abase_neg = pred_m6abase_neg[pred_m6abase_neg.site.isin(pred_neg.site.tolist())]\n",
    "pred_m6abase_neg['probability'] = pred_m6abase_neg['probability'].replace(np.nan, 0)\n",
    "\n",
    "pred_m6abase = pd.concat([pred_m6abase_pos, pred_m6abase_neg], axis = 0)\n",
    "pred_m6abase['gt'] = [1]*pred_m6abase_pos.shape[0]+[0]*pred_m6abase_neg.shape[0]\n",
    "\n",
    "# EpiNano\n",
    "pred_epinano_pos = pd.read_csv(os.path.join(bmk_dir_ivt20, 'epinano', 'pred.csv'))\n",
    "pred_epinano_pos = pred_epinano_pos.loc[:,['#Kmer', 'Window', 'Ref', 'Strand', 'Coverage', 'prediction', 'ProbM']]\n",
    "pred_epinano_pos['site'] = [x+'_'+str(int(y.split('-')[0])+1)+'_p' for x, y in zip(pred_epinano_pos['Ref'], pred_epinano_pos['Window'])]\n",
    "pred_epinano_pos = pred_epinano_pos[pred_epinano_pos.site.isin(pred_pos.site.tolist())]\n",
    "\n",
    "pred_epinano_neg = pd.read_csv(os.path.join(bmk_dir_ivt0, 'epinano', 'pred.csv'))\n",
    "pred_epinano_neg = pred_epinano_neg.loc[:,['#Kmer', 'Window', 'Ref', 'Strand', 'Coverage', 'prediction', 'ProbM']]\n",
    "pred_epinano_neg['site'] = [x+'_'+str(int(y.split('-')[0])+1)+'_n' for x, y in zip(pred_epinano_neg['Ref'], pred_epinano_neg['Window'])]\n",
    "pred_epinano_neg = pred_epinano_neg[pred_epinano_neg.site.isin(pred_neg.site.tolist())]\n",
    "\n",
    "pred_epinano = pd.concat([pred_epinano_pos, pred_epinano_neg], axis = 0)\n",
    "pred_epinano['gt'] = [1]*pred_epinano_pos.shape[0]+[0]*pred_epinano_neg.shape[0]\n",
    "\n",
    "# Tombo\n",
    "pred_tombo_pos = pd.read_csv(os.path.join(bmk_dir_ivt20, 'tombo', 'pred.bed'), sep = '\\t', header = None)\n",
    "pred_tombo_pos.columns = ['chr', 'start', 'end', 'id', 'probability']\n",
    "pred_tombo_pos['site'] = [x+'_'+str(y)+'_p' for x, y in zip(pred_tombo_pos['chr'], pred_tombo_pos['start'])]\n",
    "\n",
    "pred_tombo_neg = pd.read_csv(os.path.join(bmk_dir_ivt0, 'tombo', 'pred.bed'), sep = '\\t', header = None)\n",
    "pred_tombo_neg.columns = ['chr', 'start', 'end', 'id', 'probability']\n",
    "pred_tombo_neg['site'] = [x+'_'+str(y)+'_n' for x, y in zip(pred_tombo_neg['chr'], pred_tombo_neg['start'])]\n",
    "\n",
    "pred_tombo = pd.concat([pred_tombo_pos, pred_tombo_neg], axis = 0)\n",
    "pred_tombo['gt'] = [1]*pred_tombo_pos.shape[0]+[0]*pred_tombo_neg.shape[0]\n",
    "\n",
    "# MINES\n",
    "pred_mines_pos = pd.read_csv(os.path.join(bmk_dir_ivt20, 'mines', 'pred.bed'), sep = '\\t', header = None)\n",
    "pred_mines_pos.columns = ['chr', 'start', 'end', 'motif', 'id', 'strand', 'probability', 'coverage']\n",
    "pred_mines_pos['site'] = [x+'_'+str(y-1)+'_p' for x, y in zip(pred_mines_pos['chr'], pred_mines_pos['start'])]\n",
    "\n",
    "pred_mines_neg = pd.read_csv(os.path.join(bmk_dir_ivt0, 'mines', 'pred.bed'), sep = '\\t', header = None)\n",
    "pred_mines_neg.columns = ['chr', 'start', 'end', 'motif', 'id', 'strand', 'probability', 'coverage']\n",
    "pred_mines_neg['site'] = [x+'_'+str(y-1)+'_n' for x, y in zip(pred_mines_neg['chr'], pred_mines_neg['start'])]\n",
    "\n",
    "pred_mines = pd.concat([pred_mines_pos, pred_mines_neg], axis = 0)\n",
    "pred_mines['gt'] = [1]*pred_mines_pos.shape[0]+[0]*pred_mines_neg.shape[0]\n",
    "\n",
    "# sites\n",
    "sites = set.intersection(set(pred_table['site']),\n",
    "                         set(pred_m6anet['site']),\n",
    "                         set(pred_m6abase['site']),\n",
    "                         set(pred_epinano['site']),\n",
    "                         set(pred_tombo['site']),\n",
    "                         set(pred_mines['site']))\n",
    "\n",
    "pred_table = pred_table[pred_table.site.isin(sites)]\n",
    "pred_m6anet = pred_m6anet[pred_m6anet.site.isin(sites)]\n",
    "pred_m6abase = pred_m6abase[pred_m6abase.site.isin(sites)]\n",
    "pred_epinano = pred_epinano[pred_epinano.site.isin(sites)]\n",
    "pred_tombo = pred_tombo[pred_tombo.site.isin(sites)]\n",
    "pred_mines = pred_mines[pred_mines.site.isin(sites)]"
   ]
  },
  {
   "cell_type": "code",
   "execution_count": null,
   "id": "058bb28c-7852-4840-9ad7-77025209cede",
   "metadata": {},
   "outputs": [],
   "source": [
    "# auc roc\n",
    "roc_m6atm = roc_val(pred_table, 'probability')\n",
    "roc_m6anet = roc_val(pred_m6anet, 'probability_modified')\n",
    "roc_m6abase = roc_val(pred_m6abase, 'probability')\n",
    "roc_epinano = roc_val(pred_epinano, 'ProbM')\n",
    "roc_tombo = roc_val(pred_tombo, 'probability')\n",
    "roc_mines = roc_val(pred_mines, 'probability')\n",
    "\n",
    "# auc pr\n",
    "pr_m6atm = pr_val(pred_table, 'probability')\n",
    "pr_m6anet = pr_val(pred_m6anet, 'probability_modified')\n",
    "pr_m6abase = pr_val(pred_m6abase, 'probability')\n",
    "pr_epinano = pr_val(pred_epinano, 'ProbM')\n",
    "pr_tombo = pr_val(pred_tombo, 'probability')\n",
    "pr_mines = pr_val(pred_mines, 'probability')"
   ]
  },
  {
   "cell_type": "code",
   "execution_count": null,
   "id": "bc9fcd6c-1a69-4d60-af49-c72d0561257b",
   "metadata": {
    "tags": []
   },
   "outputs": [],
   "source": [
    "### roc plot\n",
    "# plot\n",
    "sns.set_theme(style = 'white') # theme\n",
    "tab_color = sns.color_palette('Set2')\n",
    "fig, ax = plt.subplots(figsize = (8, 6)) # figure size\n",
    "\n",
    "plt.plot(roc_m6atm[0], roc_m6atm[1], color = tab_color[0], lw = 2, label = 'm6ATM (area = {0:.3f})'.format(roc_m6atm[2]))\n",
    "plt.plot(roc_m6anet[0], roc_m6anet[1], color = tab_color[1], lw = 2, label = 'm6Anet (area = {0:.3f})'.format(roc_m6anet[2]))\n",
    "plt.plot(roc_m6abase[0], roc_m6abase[1], color = tab_color[2], lw = 2, label = 'm6ABasecaller (area = {0:.3f})'.format(roc_m6abase[2]))\n",
    "plt.plot(roc_epinano[0], roc_epinano[1], color = tab_color[3], lw = 2, label = 'EpiNano (area = {0:.3f})'.format(roc_epinano[2]))\n",
    "plt.plot(roc_tombo[0], roc_tombo[1], color = tab_color[4], lw = 2, label = 'Tombo (area = {0:.3f})'.format(roc_tombo[2]))\n",
    "plt.plot(roc_mines[0], roc_mines[1], color = tab_color[5], lw = 2, label = 'MINES (area = {0:.3f})'.format(roc_mines[2]))\n",
    "\n",
    "plt.plot([0, 1], [0, 1], color = 'gray', lw = 2, linestyle = '--')\n",
    "plt.xlim([-0.01, 1.0])\n",
    "plt.ylim([0.0, 1.05])\n",
    "\n",
    "plt.xlabel('False Positive Rate', fontsize = 25)\n",
    "plt.ylabel('True Positive Rate', fontsize = 25)  \n",
    "plt.legend(loc = 'lower right', fontsize = 12)\n",
    "\n",
    "plt.tick_params(labelsize = 16)\n",
    "# plt.savefig(os.path.join(out_dir, 'fig3a.png'), bbox_inches = 'tight', dpi = 300)"
   ]
  },
  {
   "cell_type": "code",
   "execution_count": null,
   "id": "934b1395-04fd-486d-944f-f93daeada87f",
   "metadata": {},
   "outputs": [],
   "source": [
    "### pr plot\n",
    "# plot\n",
    "sns.set_theme(style = 'white') # theme\n",
    "tab_color = sns.color_palette('Set2')\n",
    "fig, ax = plt.subplots(figsize = (8, 6)) # figure size\n",
    "\n",
    "plt.plot(pr_m6atm[1], pr_m6atm[0], color = tab_color[0], lw = 2, label = 'm6ATM (area = {0:.3f})'.format(pr_m6atm[2]))\n",
    "plt.plot(pr_m6anet[1], pr_m6anet[0], color = tab_color[1], lw = 2, label = 'm6Anet (area = {0:.3f})'.format(pr_m6anet[2]))\n",
    "plt.plot(pr_m6abase[1], pr_m6abase[0], color = tab_color[2], lw = 2, label = 'm6ABasecaller (area = {0:.3f})'.format(pr_m6abase[2]))\n",
    "plt.plot(pr_epinano[1], pr_epinano[0], color = tab_color[3], lw = 2, label = 'EpiNano (area = {0:.3f})'.format(pr_epinano[2]))\n",
    "plt.plot(pr_tombo[1], pr_tombo[0], color = tab_color[4], lw = 2, label = 'Tombo (area = {0:.3f})'.format(pr_tombo[2]))\n",
    "plt.plot(pr_mines[1], pr_mines[0], color = tab_color[5], lw = 2, label = 'MINES (area = {0:.3f})'.format(pr_mines[2]))\n",
    "\n",
    "plt.xlim([-0.01, 1.0])\n",
    "plt.ylim([-0.01, 1.05])\n",
    "\n",
    "plt.xlabel('Recall', fontsize = 25)\n",
    "plt.ylabel('Precision', fontsize = 25)  \n",
    "plt.legend(loc = 'lower right', fontsize = 12)\n",
    "\n",
    "plt.tick_params(labelsize = 16)\n",
    "plt.savefig(os.path.join(out_dir, 'fig3s_pr_ivt.png'), bbox_inches = 'tight', dpi = 300)"
   ]
  },
  {
   "cell_type": "code",
   "execution_count": null,
   "id": "12080f6e-8ba8-4c01-96a3-643e8f0cdcec",
   "metadata": {},
   "outputs": [],
   "source": []
  },
  {
   "cell_type": "markdown",
   "id": "e9010b26-7581-42d2-906e-b019265c6d02",
   "metadata": {},
   "source": [
    "### Fig 3B\n"
   ]
  },
  {
   "cell_type": "code",
   "execution_count": null,
   "id": "b95ed94f-dd94-450b-923d-1231780f4094",
   "metadata": {
    "tags": []
   },
   "outputs": [],
   "source": [
    "def add_kmer(row):\n",
    "    \n",
    "    tx = row['transcript']\n",
    "    pos = row['position']-1\n",
    "    motif = ref_dict_tx[tx][pos-2:pos+3]\n",
    "    motif = ''.join(motif)\n",
    "    \n",
    "    return motif"
   ]
  },
  {
   "cell_type": "markdown",
   "id": "960e0bcc-90a6-40c8-b451-2a161c686a0c",
   "metadata": {},
   "source": [
    "#### HEK293"
   ]
  },
  {
   "cell_type": "code",
   "execution_count": null,
   "id": "7bf8b136-4f2e-4f46-97db-17f8bf5acb40",
   "metadata": {
    "tags": []
   },
   "outputs": [],
   "source": [
    "# temp dir \n",
    "temp_dir = os.path.join('/home/bo-yi/data/DRS/20210806_HEK293-WT/preprocessed', 'temp')\n",
    "os.makedirs(temp_dir, exist_ok = True)"
   ]
  },
  {
   "cell_type": "code",
   "execution_count": null,
   "id": "745733ae-343a-4fc7-90af-13a0ab6d78b5",
   "metadata": {},
   "outputs": [],
   "source": [
    "# # to bag\n",
    "# bag_class = ATMbag('/home/bo-yi/data/DRS/20210806_HEK293-WT/preprocessed', processes = 48)\n",
    "# bag_class.to_bag(temp_dir)"
   ]
  },
  {
   "cell_type": "code",
   "execution_count": null,
   "id": "7cd084a7-585c-4696-a9ae-47e6e6e95808",
   "metadata": {
    "tags": []
   },
   "outputs": [],
   "source": [
    "# prediction\n",
    "bag_data_list = sorted(glob.glob(os.path.join(temp_dir, 'bag_*.npy')))\n",
    "bag_meta_list = sorted(glob.glob(os.path.join(temp_dir, 'site_*.csv')))\n",
    "\n",
    "results = []\n",
    "for f1, f2 in zip(bag_data_list, bag_meta_list):\n",
    "\n",
    "    ### bags\n",
    "    bag_data = np.load(f1, allow_pickle = True)\n",
    "    bag_meta = pd.read_csv(f2, index_col = 0)\n",
    "\n",
    "    ### dataloader\n",
    "    dataset = WNBagloader(data = list(bag_data),\n",
    "                          transform = transforms.Compose([ToTensor(device = 'cuda')]),\n",
    "                          site = bag_meta['site'],\n",
    "                          coverage = bag_meta['coverage'])\n",
    "\n",
    "    dataloader = torch.utils.data.DataLoader(dataset, batch_size = 1, shuffle = False)\n",
    "\n",
    "    ### prediction\n",
    "    dsmil_pth = '/home/bo-yi/package/m6atm/m6atm/model/dsmil_ivt_80.pth'\n",
    "    classifier_pth = '/home/bo-yi/package/m6atm/m6atm/model/classifer_ivt.pth'\n",
    "    result = dsmil_pred(dsmil_pth, classifier_pth, dataloader, out_dir = temp_dir)\n",
    "    results.append(result)\n",
    "\n",
    "results = pd.concat(results, axis = 0)\n",
    "results = results.reset_index(drop = True)\n",
    "\n",
    "### save\n",
    "results.to_csv(os.path.join('/home/bo-yi/data/DRS/20210806_HEK293-WT/preprocessed', 'results.csv'))"
   ]
  },
  {
   "cell_type": "code",
   "execution_count": null,
   "id": "2303d6f6-eb7e-43a2-b9c5-6b5b5789ec8f",
   "metadata": {},
   "outputs": [],
   "source": []
  },
  {
   "cell_type": "code",
   "execution_count": null,
   "id": "74500b6b-0686-4098-a7f6-fa18c3d8c30b",
   "metadata": {
    "tags": []
   },
   "outputs": [],
   "source": [
    "tx_file = '/home/bo-yi/data/ref/enst_hg38Tables.tsv'\n",
    "ref_tx = '/home/bo-yi/data/ref/GRCh38_rna_ensembl.fa'\n",
    "ref_gn = '/home/bo-yi/data/ref/hg38.fa'"
   ]
  },
  {
   "cell_type": "code",
   "execution_count": null,
   "id": "5ad39a71-a0be-4192-9215-917e061e258c",
   "metadata": {
    "tags": []
   },
   "outputs": [],
   "source": [
    "tx_df = pd.read_csv(tx_file, sep = '\\t')\n",
    "tx_df['name'] = [i.split('.')[0] for i in tx_df['name']]\n",
    "ref_dict_tx = get_ref_dict(ref_tx)\n",
    "ref_dict_gn = get_ref_dict(ref_gn)"
   ]
  },
  {
   "cell_type": "code",
   "execution_count": null,
   "id": "191db3ca-b4f4-49dd-889b-cdaa4bea178e",
   "metadata": {},
   "outputs": [],
   "source": [
    "bmk_dir_hek293 = '/home/bo-yi/data/DRS/20210806_HEK293-WT/bmk'\n",
    "DRACH = extend_ambiguous('DRACH')"
   ]
  },
  {
   "cell_type": "code",
   "execution_count": null,
   "id": "6ee5873d-4f34-4070-ad3d-ccbc79205471",
   "metadata": {
    "tags": []
   },
   "outputs": [],
   "source": [
    "results = pd.read_csv(os.path.join('/home/bo-yi/data/DRS/20210806_HEK293-WT/preprocessed', 'results_ivt20.csv'))\n",
    "results_gn = tx_to_gn(results, tx_df, ref_dict_gn)\n",
    "results_gn.to_csv(os.path.join('/home/bo-yi/data/DRS/20210806_HEK293-WT/preprocessed', 'results_gn.csv'))"
   ]
  },
  {
   "cell_type": "code",
   "execution_count": null,
   "id": "aa263de5-bfc8-4cb9-8c10-d8cb85091a06",
   "metadata": {},
   "outputs": [],
   "source": [
    "pred_m6anet = pd.read_csv(os.path.join(bmk_dir_hek293, 'm6anet', 'data.site_proba.csv'))\n",
    "pred_m6anet.columns = ['transcript', 'position', 'coverage', 'probability', 'motif', 'ratio']\n",
    "pred_m6anet['m6a'] = '-'\n",
    "pred_m6anet['transcript'] = [i.split('.')[0] for i in pred_m6anet['transcript']]\n",
    "\n",
    "pred_m6anet_gn = tx_to_gn(pred_m6anet, tx_df, ref_dict_gn)\n",
    "pred_m6anet_gn.to_csv(os.path.join(os.path.join(bmk_dir_hek293, 'm6anet', 'pred_gn.csv')))"
   ]
  },
  {
   "cell_type": "code",
   "execution_count": null,
   "id": "240c94fe-336d-40d2-b466-717026344851",
   "metadata": {
    "tags": []
   },
   "outputs": [],
   "source": [
    "pred_m6abase = pd.read_csv(os.path.join(bmk_dir_hek293, 'm6abase', 'mod.tsv'), sep = '\\t')\n",
    "pred_m6abase.columns = ['transcript', 'position', 'ref_base', 'strand', 'm6a', 'coverage', 'base_accuracy', 'ratio', 'probability']\n",
    "pred_m6abase = pred_m6abase.loc[:,['transcript', 'position', 'coverage', 'probability', 'ratio', 'm6a', 'ref_base']]\n",
    "pred_m6abase = pred_m6abase[pred_m6abase['ref_base'] == 'A']\n",
    "pred_m6abase['probability'] = pred_m6abase['probability'].replace(np.nan, 0)\n",
    "pred_m6abase['motif'] = pred_m6abase.apply(add_kmer, axis = 1)\n",
    "pred_m6abase = pred_m6abase[pred_m6abase['motif'].isin(DRACH)]\n",
    "pred_m6abase['transcript'] = [i.split('.')[0] for i in pred_m6abase['transcript']]\n",
    "\n",
    "pred_m6abase_gn = tx_to_gn(pred_m6abase, tx_df, ref_dict_gn)\n",
    "pred_m6abase_gn.to_csv(os.path.join(os.path.join(bmk_dir_hek293, 'm6abase', 'pred_gn.csv')))"
   ]
  },
  {
   "cell_type": "code",
   "execution_count": null,
   "id": "a3b7fbab-dabe-438a-8f35-57236e5a4ca2",
   "metadata": {
    "tags": []
   },
   "outputs": [],
   "source": [
    "pred_tombo = pd.read_csv(os.path.join(bmk_dir_hek293, 'tombo', 'pred.bed'), sep = '\\t', header = None)\n",
    "pred_tombo.columns = ['transcript', 'start', 'position', 'id', 'probability']\n",
    "pred_tombo['ratio'] = 0\n",
    "pred_tombo['m6a'] = '-'\n",
    "pred_tombo['motif'] = pred_tombo.apply(add_kmer, axis = 1)\n",
    "\n",
    "pred_tombo_bed = pybedtools.BedTool.from_dataframe(df = pred_tombo)\n",
    "coverage_bed = pybedtools.BedTool(os.path.join(bmk_dir_hek293, 'tombo', 'hek293wt.coverage.plus.bedgraph'))\n",
    "pred_tombo_bed = pred_tombo_bed.intersect(coverage_bed, wb = True, wa = True)\n",
    "pred_tombo_bed = pred_tombo_bed.to_dataframe()\n",
    "\n",
    "pred_tombo['coverage'] = pred_tombo_bed['blockStarts']\n",
    "\n",
    "pred_tombo['transcript'] = [i.split('.')[0] for i in pred_tombo['transcript']]\n",
    "\n",
    "pred_tombo_gn = tx_to_gn(pred_tombo, tx_df, ref_dict_gn)\n",
    "pred_tombo_gn.to_csv(os.path.join(os.path.join(bmk_dir_hek293, 'tombo', 'pred_gn.csv')))"
   ]
  },
  {
   "cell_type": "code",
   "execution_count": null,
   "id": "9bea15bd-699e-44a7-9112-cfd781615d45",
   "metadata": {
    "tags": []
   },
   "outputs": [],
   "source": [
    "pred_mines = pd.read_csv(os.path.join(bmk_dir_hek293, 'mines', 'pred.bed'), sep = '\\t', header = None)\n",
    "pred_mines.columns = ['transcript', 'start', 'position', 'motif', 'id', '_strand', 'probability', 'coverage']\n",
    "pred_mines['probability'] = pred_mines['probability'].replace('.', 0)\n",
    "pred_mines['probability'] = pred_mines['probability'].astype('float')\n",
    "pred_mines['ratio'] = 0\n",
    "pred_mines['m6a'] = '-'\n",
    "pred_mines['transcript'] = [i.split('.')[0] for i in pred_mines['transcript']]\n",
    "\n",
    "pred_mines_gn = tx_to_gn(pred_mines, tx_df, ref_dict_gn)\n",
    "pred_mines_gn.to_csv(os.path.join(os.path.join(bmk_dir_hek293, 'mines', 'pred_gn.csv')))"
   ]
  },
  {
   "cell_type": "code",
   "execution_count": null,
   "id": "6ac8b26d-c95d-4863-861f-f9cffcfbfca0",
   "metadata": {},
   "outputs": [],
   "source": []
  },
  {
   "cell_type": "code",
   "execution_count": null,
   "id": "ae7541dd-303d-4797-8109-3cca5a3eac65",
   "metadata": {
    "tags": []
   },
   "outputs": [],
   "source": [
    "gt_table = pd.read_csv(os.path.join(out_dir, 'gt_sac_hek293.csv'), index_col = 0)\n",
    "gt_sites = sorted([x+'_'+str(y) for x,y in zip(gt_table['chr'], gt_table['center'])])\n",
    "\n",
    "gt_table_u = pd.read_csv(os.path.join(out_dir, 'gt_usites_hek293.csv'), index_col = 0)\n",
    "gt_sites_u = sorted([x+'_'+str(y) for x,y in zip(gt_table_u['chr'], gt_table_u['center'])])\n",
    "coverage = 50\n",
    "\n",
    "### m6atm\n",
    "pred = pd.read_csv('/home/bo-yi/data/DRS/20210806_HEK293-WT/preprocessed/results_gn.csv', index_col = 0)\n",
    "pred = pred[pred.motif.isin(DRACH)]\n",
    "pred = pred[pred.coverage>=coverage]\n",
    "pred['gt'] = pred['gn_site'].isin(gt_sites)\n",
    "\n",
    "### m6anet\n",
    "pred_m6anet = pd.read_csv(os.path.join(bmk_dir_hek293, 'm6anet', 'pred_gn.csv'))\n",
    "pred_m6anet = pred_m6anet[pred_m6anet.coverage>=coverage]\n",
    "pred_m6anet['gt'] = pred_m6anet['gn_site'].isin(gt_sites)\n",
    "\n",
    "### m6abase\n",
    "pred_m6abase = pd.read_csv(os.path.join(bmk_dir_hek293, 'm6abase', 'pred_gn.csv'))\n",
    "pred_m6abase = pred_m6abase[pred_m6abase.coverage>=coverage]\n",
    "pred_m6abase['gt'] = pred_m6abase['gn_site'].isin(gt_sites)\n",
    "\n",
    "### tombo\n",
    "pred_tombo = pd.read_csv(os.path.join(bmk_dir_hek293, 'tombo', 'pred_gn.csv'))\n",
    "pred_tombo = pred_tombo[pred_tombo.coverage>=coverage]\n",
    "pred_tombo['gt'] = pred_tombo['gn_site'].isin(gt_sites)\n",
    "\n",
    "### mines\n",
    "pred_mines = pd.read_csv(os.path.join(bmk_dir_hek293, 'mines', 'pred_gn.csv'))\n",
    "pred_mines = pred_mines[pred_mines.coverage>=coverage]\n",
    "pred_mines['gt'] = pred_mines['gn_site'].isin(gt_sites)\n",
    "\n",
    "# sites\n",
    "sites = set.intersection(set(pred['gn_site']), set(pred_m6anet['gn_site']), set(pred_m6abase['gn_site']),\n",
    "                         set(pred_tombo['gn_site']), set(pred_mines['gn_site']))\n",
    "\n",
    "pred = pred[pred.gn_site.isin(sites)]\n",
    "\n",
    "### m6atm\n",
    "# sites not in gt_m6A sites\n",
    "pred_pos = pred[pred['gt'] == True]\n",
    "\n",
    "pred_gt_n = pred[pred['gt'] == False]\n",
    "pred_gt_not_u = pred_gt_n[~pred_gt_n['gn_site'].isin(gt_sites_u)]\n",
    "pred_neg = pred_gt_not_u.sample(n = pred[pred['gt'] == True].shape[0], random_state = 0)\n",
    "\n",
    "pred_all = pd.concat([pred_pos, pred_neg], axis = 0)\n",
    "\n",
    "roc_m6atm = roc_val(pred_all, 'probability')\n",
    "pr_m6atm = pr_val(pred_all, 'probability')\n",
    "\n",
    "sites = pred_all['gn_site'].tolist()\n",
    "\n",
    "### m6anet\n",
    "pred_m6anet_all = pred_m6anet[pred_m6anet.gn_site.isin(sites)]\n",
    "roc_m6anet = roc_val(pred_m6anet_all, 'probability')\n",
    "pr_m6anet = pr_val(pred_m6anet_all, 'probability')\n",
    "\n",
    "### m6abase\n",
    "pred_m6abase_all = pred_m6abase[pred_m6abase.gn_site.isin(sites)]\n",
    "roc_m6abase = roc_val(pred_m6abase_all, 'probability')\n",
    "pr_m6abase = pr_val(pred_m6abase_all, 'probability')\n",
    "\n",
    "### tombo\n",
    "pred_tombo_all = pred_tombo[pred_tombo.gn_site.isin(sites)]\n",
    "roc_tombo = roc_val(pred_tombo_all, 'probability')\n",
    "pr_tombo = pr_val(pred_tombo_all, 'probability')\n",
    "\n",
    "### mines\n",
    "pred_mines_all = pred_mines[pred_mines.gn_site.isin(sites)]\n",
    "roc_mines = roc_val(pred_mines_all, 'probability')\n",
    "pr_mines = pr_val(pred_mines_all, 'probability')"
   ]
  },
  {
   "cell_type": "code",
   "execution_count": null,
   "id": "aada37b2-6a20-4fcf-93e9-c2e52c99e5a3",
   "metadata": {
    "tags": []
   },
   "outputs": [],
   "source": [
    "### roc plot\n",
    "# plot\n",
    "sns.set_theme(style = 'white') # theme\n",
    "tab_color = sns.color_palette('Set2')\n",
    "fig, ax = plt.subplots(figsize = (8, 6)) # figure size\n",
    "\n",
    "plt.plot(roc_m6atm[0], roc_m6atm[1], color = tab_color[0], lw = 2, label = 'm6ATM (area = {0:.3f})'.format(roc_m6atm[2]))\n",
    "plt.plot(roc_m6anet[0], roc_m6anet[1], color = tab_color[1], lw = 2, label = 'm6Anet (area = {0:.3f})'.format(roc_m6anet[2]))\n",
    "plt.plot(roc_m6abase[0], roc_m6abase[1], color = tab_color[2], lw = 2, label = 'm6ABasecaller (area = {0:.3f})'.format(roc_m6abase[2]))\n",
    "plt.plot(roc_tombo[0], roc_tombo[1], color = tab_color[4], lw = 2, label = 'Tombo (area = {0:.3f})'.format(roc_tombo[2]))\n",
    "plt.plot(roc_mines[0], roc_mines[1], color = tab_color[5], lw = 2, label = 'MINES (area = {0:.3f})'.format(roc_mines[2]))\n",
    "\n",
    "plt.plot([0, 1], [0, 1], color = 'gray', lw = 2, linestyle = '--')\n",
    "plt.xlim([0.0, 1.0])\n",
    "plt.ylim([0.0, 1.05])\n",
    "\n",
    "plt.xlabel('False Positive Rate', fontsize = 25)\n",
    "plt.ylabel('True Positive Rate', fontsize = 25)  \n",
    "plt.legend(loc = 'lower right', fontsize = 12)\n",
    "\n",
    "plt.tick_params(labelsize = 16)\n",
    "\n",
    "plt.savefig(os.path.join(out_dir, 'fig3b.png'), bbox_inches = 'tight', dpi = 300)"
   ]
  },
  {
   "cell_type": "code",
   "execution_count": null,
   "id": "f93a2cd2-912d-46aa-b76e-07050c9754da",
   "metadata": {
    "tags": []
   },
   "outputs": [],
   "source": [
    "### pr plot\n",
    "# plot\n",
    "sns.set_theme(style = 'white') # theme\n",
    "tab_color = sns.color_palette('Set2')\n",
    "fig, ax = plt.subplots(figsize = (8, 6)) # figure size\n",
    "\n",
    "plt.plot(pr_m6atm[1], pr_m6atm[0], color = tab_color[0], lw = 2, label = 'm6ATM (area = {0:.3f})'.format(pr_m6atm[2]))\n",
    "plt.plot(pr_m6anet[1], pr_m6anet[0], color = tab_color[1], lw = 2, label = 'm6Anet (area = {0:.3f})'.format(pr_m6anet[2]))\n",
    "plt.plot(pr_m6abase[1], pr_m6abase[0], color = tab_color[2], lw = 2, label = 'm6ABasecaller (area = {0:.3f})'.format(pr_m6abase[2]))\n",
    "plt.plot(pr_tombo[1], pr_tombo[0], color = tab_color[4], lw = 2, label = 'Tombo (area = {0:.3f})'.format(pr_tombo[2]))\n",
    "plt.plot(pr_mines[1], pr_mines[0], color = tab_color[5], lw = 2, label = 'MINES (area = {0:.3f})'.format(pr_mines[2]))\n",
    "\n",
    "plt.plot([1, 0], [0, 1], color = 'gray', lw = 2, linestyle = '--')\n",
    "plt.xlim([-0.01, 1.0])\n",
    "plt.ylim([0.0, 1.05])\n",
    "\n",
    "plt.xlabel('Recall', fontsize = 25)\n",
    "plt.ylabel('Precision', fontsize = 25)  \n",
    "plt.legend(loc = 'lower right', fontsize = 12)\n",
    "\n",
    "plt.tick_params(labelsize = 16)\n",
    "\n",
    "plt.savefig(os.path.join(out_dir, 'fig3s_pr_hek293.png'), bbox_inches = 'tight', dpi = 300)"
   ]
  },
  {
   "cell_type": "code",
   "execution_count": null,
   "id": "d68e9383-dba2-49da-9a76-dd7e71863e2e",
   "metadata": {
    "tags": []
   },
   "outputs": [],
   "source": [
    "gt_table = pd.read_csv(os.path.join(out_dir, 'gt_sac_hek293.csv'), index_col = 0)\n",
    "gt_sites = sorted([x+'_'+str(y) for x,y in zip(gt_table['chr'], gt_table['center'])])\n",
    "\n",
    "gt_table_u = pd.read_csv(os.path.join(out_dir, 'gt_usites_hek293.csv'), index_col = 0)\n",
    "gt_sites_u = sorted([x+'_'+str(y) for x,y in zip(gt_table_u['chr'], gt_table_u['center'])])\n",
    "coverage = 50\n",
    "\n",
    "### m6atm\n",
    "pred = pd.read_csv('/home/bo-yi/data/DRS/20210806_HEK293-WT/preprocessed/results_gn.csv', index_col = 0)\n",
    "pred = pred[pred.motif.isin(DRACH)]\n",
    "pred = pred[pred.coverage>=coverage]\n",
    "pred['gt'] = pred['gn_site'].isin(gt_sites)\n",
    "\n",
    "### m6anet\n",
    "pred_m6anet = pd.read_csv(os.path.join(bmk_dir_hek293, 'm6anet', 'pred_gn.csv'))\n",
    "pred_m6anet = pred_m6anet[pred_m6anet.coverage>=coverage]\n",
    "pred_m6anet['gt'] = pred_m6anet['gn_site'].isin(gt_sites)\n",
    "\n",
    "### m6abase\n",
    "pred_m6abase = pd.read_csv(os.path.join(bmk_dir_hek293, 'm6abase', 'pred_gn.csv'))\n",
    "pred_m6abase = pred_m6abase[pred_m6abase.coverage>=coverage]\n",
    "pred_m6abase['gt'] = pred_m6abase['gn_site'].isin(gt_sites)\n",
    "\n",
    "### tombo\n",
    "pred_tombo = pd.read_csv(os.path.join(bmk_dir_hek293, 'tombo', 'pred_gn.csv'))\n",
    "pred_tombo = pred_tombo[pred_tombo.coverage>=coverage]\n",
    "pred_tombo['gt'] = pred_tombo['gn_site'].isin(gt_sites)\n",
    "\n",
    "### mines\n",
    "pred_mines = pd.read_csv(os.path.join(bmk_dir_hek293, 'mines', 'pred_gn.csv'))\n",
    "pred_mines = pred_mines[pred_mines.coverage>=coverage]\n",
    "pred_mines['gt'] = pred_mines['gn_site'].isin(gt_sites)\n",
    "\n",
    "# sites\n",
    "sites = set.intersection(set(pred['gn_site']), set(pred_m6anet['gn_site']), set(pred_m6abase['gn_site']),\n",
    "                         set(pred_tombo['gn_site']), set(pred_mines['gn_site']))\n",
    "\n",
    "pred = pred[pred.gn_site.isin(sites)]\n",
    "\n",
    "roc_m6atm_list = []\n",
    "pr_m6atm_list = []\n",
    "roc_m6anet_list = []\n",
    "pr_m6anet_list = []\n",
    "roc_m6abase_list = []\n",
    "pr_m6abase_list = []\n",
    "roc_tombo_list = []\n",
    "pr_tombo_list = []\n",
    "roc_mines_list = []\n",
    "pr_mines_list = []\n",
    "for i in range(10):\n",
    "\n",
    "    ### m6atm\n",
    "    # sites not in gt_m6A sites\n",
    "    pred_pos = pred[pred['gt'] == True]\n",
    "\n",
    "    pred_gt_n = pred[pred['gt'] == False]\n",
    "    pred_gt_not_u = pred_gt_n[~pred_gt_n['gn_site'].isin(gt_sites_u)]\n",
    "    pred_neg = pred_gt_not_u.sample(n = pred[pred['gt'] == True].shape[0], random_state = i)\n",
    "\n",
    "    pred_all = pd.concat([pred_pos, pred_neg], axis = 0)\n",
    "\n",
    "    roc_m6atm_list.append(roc_val(pred_all, 'probability'))\n",
    "    pr_m6atm_list.append(pr_val(pred_all, 'probability'))\n",
    "\n",
    "    sites = pred_all['gn_site'].tolist()\n",
    "\n",
    "    ### m6anet\n",
    "    pred_m6anet_all = pred_m6anet[pred_m6anet.gn_site.isin(sites)]\n",
    "    roc_m6anet_list.append(roc_val(pred_m6anet_all, 'probability'))\n",
    "    pr_m6anet_list.append(pr_val(pred_m6anet_all, 'probability'))\n",
    "\n",
    "    ### m6abase\n",
    "    pred_m6abase_all = pred_m6abase[pred_m6abase.gn_site.isin(sites)]\n",
    "    roc_m6abase_list.append(roc_val(pred_m6abase_all, 'probability'))\n",
    "    pr_m6abase_list.append(pr_val(pred_m6abase_all, 'probability'))\n",
    "\n",
    "    ### tombo\n",
    "    pred_tombo_all = pred_tombo[pred_tombo.gn_site.isin(sites)]\n",
    "    roc_tombo_list.append(roc_val(pred_tombo_all, 'probability'))\n",
    "    pr_tombo_list.append(pr_val(pred_tombo_all, 'probability'))\n",
    "\n",
    "    ### mines\n",
    "    pred_mines_all = pred_mines[pred_mines.gn_site.isin(sites)]\n",
    "    roc_mines_list.append(roc_val(pred_mines_all, 'probability'))\n",
    "    pr_mines_list.append(pr_val(pred_mines_all, 'probability'))\n",
    "    \n",
    "roc_m6atm = np.array([i[2] for i in roc_m6atm_list]).mean()\n",
    "roc_m6anet = np.array([i[2] for i in roc_m6anet_list]).mean()\n",
    "roc_m6abase = np.array([i[2] for i in roc_m6abase_list]).mean()\n",
    "roc_tombo = np.array([i[2] for i in roc_tombo_list]).mean()\n",
    "roc_mines = np.array([i[2] for i in roc_mines_list]).mean()\n",
    "\n",
    "pr_m6atm = np.array([i[2] for i in pr_m6atm_list]).mean()\n",
    "pr_m6anet = np.array([i[2] for i in pr_m6anet_list]).mean()\n",
    "pr_m6abase = np.array([i[2] for i in pr_m6abase_list]).mean()\n",
    "pr_tombo = np.array([i[2] for i in pr_tombo_list]).mean()\n",
    "pr_mines = np.array([i[2] for i in pr_mines_list]).mean()"
   ]
  },
  {
   "cell_type": "code",
   "execution_count": null,
   "id": "69f8ae5c-3ce5-4799-99f5-e605e33af75c",
   "metadata": {
    "tags": []
   },
   "outputs": [],
   "source": [
    "### bar plot \n",
    "# plot\n",
    "sns.set_theme(style = 'white') # theme\n",
    "tab_color = sns.color_palette() # color palette\n",
    "fig, ax = plt.subplots(figsize = (8, 6)) # figure size\n",
    "\n",
    "x = np.array(['m6ATM', 'm6Anet', 'm6ABasecaller', 'Tombo', 'MINES'])  # the label locations\n",
    "roc_vals = [roc_m6atm, roc_m6anet, roc_m6abase, roc_tombo, roc_mines]\n",
    "pr_vals = [pr_m6atm, pr_m6anet, pr_m6abase, pr_tombo, pr_mines]\n",
    "\n",
    "line1 = plt.plot(x, roc_vals, color = tab_color[8], alpha = 0.8, lw = 5, marker = 'o', markersize = 8, label = 'AUC_ROC')\n",
    "line2 = plt.plot(x, pr_vals, color = tab_color[9], alpha = 0.8, lw = 5, marker = 'o', markersize = 8, label = 'AUC_PR')\n",
    "\n",
    "plt.xlim([-0.3, 4.3])\n",
    "plt.ylim([0.46, 0.95])\n",
    "plt.legend(loc = 'upper right', fontsize = 12)\n",
    "\n",
    "ax.tick_params(labelsize = 14)\n",
    "sns.despine()\n",
    "\n",
    "plt.savefig(os.path.join(out_dir, 'fig3s_avg_bar.png'), bbox_inches = 'tight', dpi = 300)"
   ]
  },
  {
   "cell_type": "code",
   "execution_count": null,
   "id": "bfc3b28e-6fdf-47af-8e7a-899053a6cc01",
   "metadata": {},
   "outputs": [],
   "source": []
  },
  {
   "cell_type": "code",
   "execution_count": null,
   "id": "fe59760f-12c5-4fe3-b707-4a9af9dcae7c",
   "metadata": {},
   "outputs": [],
   "source": [
    "gt_table = pd.read_csv(os.path.join(out_dir, 'gt_isites_hek293.csv'), index_col = 0)\n",
    "\n",
    "# gt_table_out = gt_table[(gt_table.ratio<0) | (gt_table.ratio>=100)]\n",
    "# sites_out = sorted([x+'_'+str(y) for x,y in zip(gt_table_out['chr'], gt_table_out['center'])])\n",
    "\n",
    "# gt_table = gt_table[(gt_table.ratio>=0) & (gt_table.ratio<100)]\n",
    "gt_sites = sorted([x+'_'+str(y) for x,y in zip(gt_table['chr'], gt_table['center'])])\n",
    "coverage = 20\n",
    "\n",
    "### m6atm\n",
    "pred = pd.read_csv('/home/bo-yi/data/DRS/20210806_HEK293-WT/preprocessed/results_gn.csv', index_col = 0)\n",
    "pred = pred[pred.motif.isin(DRACH)]\n",
    "pred = pred[pred.coverage>=coverage]\n",
    "pred['gt'] = pred['gn_site'].isin(gt_sites)\n",
    "\n",
    "### m6anet\n",
    "pred_m6anet = pd.read_csv(os.path.join(bmk_dir_hek293, 'm6anet', 'pred_gn.csv'))\n",
    "pred_m6anet = pred_m6anet[pred_m6anet.coverage>=coverage]\n",
    "pred_m6anet['gt'] = pred_m6anet['gn_site'].isin(gt_sites)\n",
    "\n",
    "### m6abase\n",
    "pred_m6abase = pd.read_csv(os.path.join(bmk_dir_hek293, 'm6abase', 'pred_gn.csv'))\n",
    "pred_m6abase = pred_m6abase[pred_m6abase.coverage>=coverage]\n",
    "pred_m6abase['gt'] = pred_m6abase['gn_site'].isin(gt_sites)\n",
    "\n",
    "### tombo\n",
    "pred_tombo = pd.read_csv(os.path.join(bmk_dir_hek293, 'tombo', 'pred_gn.csv'))\n",
    "pred_tombo = pred_tombo[pred_tombo.coverage>=coverage]\n",
    "pred_tombo['gt'] = pred_tombo['gn_site'].isin(gt_sites)\n",
    "\n",
    "### mines\n",
    "pred_mines = pd.read_csv(os.path.join(bmk_dir_hek293, 'mines', 'pred_gn.csv'))\n",
    "pred_mines = pred_mines[pred_mines.coverage>=coverage]\n",
    "pred_mines['gt'] = pred_mines['gn_site'].isin(gt_sites)\n",
    "\n",
    "# sites\n",
    "sites = set.intersection(set(pred['gn_site']), set(pred_m6anet['gn_site']), set(pred_m6abase['gn_site']),\n",
    "                         set(pred_tombo['gn_site']), set(pred_mines['gn_site']))\n",
    "\n",
    "pred = pred[pred.gn_site.isin(sites)]\n",
    "#pred = pred[~pred.gn_site.isin(sites_out)]\n",
    "\n",
    "pred_m6anet = pred_m6anet[pred_m6anet.gn_site.isin(sites)]\n",
    "#pred_m6anet = pred_m6anet[~pred_m6anet.gn_site.isin(sites_out)]\n",
    "\n",
    "pred_m6abase = pred_m6abase[pred_m6abase.gn_site.isin(sites)]\n",
    "#pred_m6abase = pred_m6abase[~pred_m6abase.gn_site.isin(sites_out)]\n",
    "\n",
    "pred_tombo = pred_tombo[pred_tombo.gn_site.isin(sites)]\n",
    "#pred_tombo = pred_tombo[~pred_tombo.gn_site.isin(sites_out)]\n",
    "\n",
    "pred_mines = pred_mines[pred_mines.gn_site.isin(sites)]\n",
    "#pred_mines = pred_mines[~pred_mines.gn_site.isin(sites_out)]\n",
    "\n",
    "# auc roc\n",
    "roc_m6atm = roc_val(pred, 'probability')\n",
    "roc_m6anet = roc_val(pred_m6anet, 'probability')\n",
    "roc_m6abase = roc_val(pred_m6abase, 'probability')\n",
    "roc_tombo = roc_val(pred_tombo, 'probability')\n",
    "roc_mines = roc_val(pred_mines, 'probability')\n",
    "\n",
    "# auc pr\n",
    "pr_m6atm = pr_val(pred, 'probability')\n",
    "pr_m6anet = pr_val(pred_m6anet, 'probability')\n",
    "pr_m6abase = pr_val(pred_m6abase, 'probability')\n",
    "pr_tombo = pr_val(pred_tombo, 'probability')\n",
    "pr_mines = pr_val(pred_mines, 'probability')"
   ]
  },
  {
   "cell_type": "code",
   "execution_count": null,
   "id": "8562d460-351e-4e67-a64b-91ae17c9b8e4",
   "metadata": {
    "tags": []
   },
   "outputs": [],
   "source": [
    "### pr plot\n",
    "# plot\n",
    "sns.set_theme(style = 'white') # theme\n",
    "tab_color = sns.color_palette()\n",
    "\n",
    "plt.plot(pr_m6atm[1], pr_m6atm[0], color = tab_color[0], lw = 2, label = 'm6ATM (area = {0:.3f})'.format(pr_m6atm[2]))\n",
    "plt.plot(pr_m6anet[1], pr_m6anet[0], color = tab_color[1], lw = 2, label = 'm6Anet (area = {0:.3f})'.format(pr_m6anet[2]))\n",
    "plt.plot(pr_m6abase[1], pr_m6abase[0], color = tab_color[2], lw = 2, label = 'm6ABasecaller (area = {0:.3f})'.format(pr_m6abase[2]))\n",
    "plt.plot(pr_tombo[1], pr_tombo[0], color = tab_color[3], lw = 2, label = 'Tombo (area = {0:.3f})'.format(pr_tombo[2]))\n",
    "plt.plot(pr_mines[1], pr_mines[0], color = tab_color[4], lw = 2, label = 'MINES (area = {0:.3f})'.format(pr_mines[2]))\n",
    "\n",
    "plt.plot([0, 1], [0, 1], color = 'gray', lw = 2, linestyle = '--')\n",
    "plt.xlim([-0.01, 1.0])\n",
    "plt.ylim([0.0, 1.05])\n",
    "\n",
    "plt.xlabel('Recall', fontsize = 25)\n",
    "plt.ylabel('Precision', fontsize = 25)  \n",
    "plt.legend(loc = 'upper right', fontsize = 12)\n",
    "\n",
    "plt.tick_params(labelsize = 16)"
   ]
  },
  {
   "cell_type": "code",
   "execution_count": null,
   "id": "875e26a7-1032-4c21-80a6-f699c4dd4146",
   "metadata": {
    "tags": []
   },
   "outputs": [],
   "source": [
    "### roc plot\n",
    "# plot\n",
    "sns.set_theme(style = 'white') # theme\n",
    "tab_color = sns.color_palette('Set2')\n",
    "fig, ax = plt.subplots(figsize = (8, 6)) # figure size\n",
    "\n",
    "plt.plot(roc_m6atm[0], roc_m6atm[1], color = tab_color[0], lw = 2, label = 'm6ATM (area = {0:.3f})'.format(roc_m6atm[2]))\n",
    "plt.plot(roc_m6anet[0], roc_m6anet[1], color = tab_color[1], lw = 2, label = 'm6Anet (area = {0:.3f})'.format(roc_m6anet[2]))\n",
    "plt.plot(roc_m6abase[0], roc_m6abase[1], color = tab_color[2], lw = 2, label = 'm6ABasecaller (area = {0:.3f})'.format(roc_m6abase[2]))\n",
    "plt.plot(roc_tombo[0], roc_tombo[1], color = tab_color[4], lw = 2, label = 'Tombo (area = {0:.3f})'.format(roc_tombo[2]))\n",
    "plt.plot(roc_mines[0], roc_mines[1], color = tab_color[5], lw = 2, label = 'MINES (area = {0:.3f})'.format(roc_mines[2]))\n",
    "\n",
    "plt.plot([0, 1], [0, 1], color = 'gray', lw = 2, linestyle = '--')\n",
    "plt.xlim([0.0, 1.0])\n",
    "plt.ylim([0.0, 1.05])\n",
    "\n",
    "plt.xlabel('False Positive Rate', fontsize = 25)\n",
    "plt.ylabel('True Positive Rate', fontsize = 25)  \n",
    "plt.legend(loc = 'lower right', fontsize = 12)\n",
    "\n",
    "plt.tick_params(labelsize = 16)\n",
    "\n",
    "# plt.savefig(os.path.join(out_dir, 'fig3b.png'), bbox_inches = 'tight', dpi = 300)"
   ]
  },
  {
   "cell_type": "code",
   "execution_count": null,
   "id": "79fa6379-9c83-468f-823a-edf2759024a6",
   "metadata": {},
   "outputs": [],
   "source": []
  },
  {
   "cell_type": "code",
   "execution_count": null,
   "id": "66cd5cc7-31db-4816-bade-f42f7ba8c860",
   "metadata": {
    "tags": []
   },
   "outputs": [],
   "source": [
    "gt_table = pd.read_csv(os.path.join(out_dir, 'gt_sac_hek293.csv'), index_col = 0)\n",
    "\n",
    "gt_table_out = gt_table[(gt_table.ratio<20) | (gt_table.ratio>=50)]\n",
    "sites_out = sorted([x+'_'+str(y) for x,y in zip(gt_table_out['chr'], gt_table_out['center'])])\n",
    "\n",
    "gt_table = gt_table[(gt_table.ratio>=20) & (gt_table.ratio<50)]\n",
    "gt_sites = sorted([x+'_'+str(y) for x,y in zip(gt_table['chr'], gt_table['center'])])\n",
    "coverage = 50\n",
    "\n",
    "### m6atm\n",
    "pred = pd.read_csv('/home/bo-yi/data/DRS/20210806_HEK293-WT/preprocessed/results_gn.csv', index_col = 0)\n",
    "pred = pred[pred.motif.isin(DRACH)]\n",
    "pred = pred[pred.coverage>=coverage]\n",
    "pred['gt'] = pred['gn_site'].isin(gt_sites)\n",
    "\n",
    "### m6anet\n",
    "pred_m6anet = pd.read_csv(os.path.join(bmk_dir_hek293, 'm6anet', 'pred_gn.csv'))\n",
    "pred_m6anet = pred_m6anet[pred_m6anet.coverage>=coverage]\n",
    "pred_m6anet['gt'] = pred_m6anet['gn_site'].isin(gt_sites)\n",
    "\n",
    "# sites\n",
    "sites = set.intersection(set(pred['gn_site']), set(pred_m6anet['gn_site']))\n",
    "\n",
    "pred = pred[pred.gn_site.isin(sites)]\n",
    "pred = pred[~pred.gn_site.isin(sites_out)]\n",
    "\n",
    "pred_m6anet = pred_m6anet[pred_m6anet.gn_site.isin(sites)]\n",
    "pred_m6anet = pred_m6anet[~pred_m6anet.gn_site.isin(sites_out)]\n",
    "\n",
    "# auc roc\n",
    "roc_m6atm = roc_val(pred, 'probability')\n",
    "roc_m6anet = roc_val(pred_m6anet, 'probability')\n",
    "\n",
    "# auc pr\n",
    "pr_m6atm = pr_val(pred, 'probability')\n",
    "pr_m6anet = pr_val(pred_m6anet, 'probability')"
   ]
  },
  {
   "cell_type": "code",
   "execution_count": null,
   "id": "43ba55a4-1881-4e55-8171-d32f612a9134",
   "metadata": {
    "tags": []
   },
   "outputs": [],
   "source": [
    "### pr plot\n",
    "# plot\n",
    "sns.set_theme(style = 'white') # theme\n",
    "tab_color = sns.color_palette()\n",
    "\n",
    "plt.plot(pr_m6atm[1], pr_m6atm[0], color = tab_color[0], lw = 2, label = 'm6ATM (area = {0:.3f})'.format(pr_m6atm[2]))\n",
    "plt.plot(pr_m6anet[1], pr_m6anet[0], color = tab_color[1], lw = 2, label = 'm6Anet (area = {0:.3f})'.format(pr_m6anet[2]))\n",
    "\n",
    "plt.plot([0, 1], [0, 1], color = 'gray', lw = 2, linestyle = '--')\n",
    "plt.xlim([-0.01, 1.0])\n",
    "plt.ylim([0.0, 1.05])\n",
    "\n",
    "plt.xlabel('Recall', fontsize = 25)\n",
    "plt.ylabel('Precision', fontsize = 25)  \n",
    "plt.legend(loc = 'upper right', fontsize = 12)\n",
    "\n",
    "plt.tick_params(labelsize = 16)"
   ]
  },
  {
   "cell_type": "code",
   "execution_count": null,
   "id": "488a04dd-1168-4589-9db0-0a0e060aa139",
   "metadata": {
    "tags": []
   },
   "outputs": [],
   "source": [
    "### roc plot\n",
    "# plot\n",
    "sns.set_theme(style = 'white') # theme\n",
    "tab_color = sns.color_palette('Set2')\n",
    "fig, ax = plt.subplots(figsize = (8, 6)) # figure size\n",
    "\n",
    "plt.plot(roc_m6atm[0], roc_m6atm[1], color = tab_color[0], lw = 2, label = 'm6ATM (area = {0:.3f})'.format(roc_m6atm[2]))\n",
    "plt.plot(roc_m6anet[0], roc_m6anet[1], color = tab_color[1], lw = 2, label = 'm6Anet (area = {0:.3f})'.format(roc_m6anet[2]))\n",
    "\n",
    "plt.plot([0, 1], [0, 1], color = 'gray', lw = 2, linestyle = '--')\n",
    "plt.xlim([0.0, 1.0])\n",
    "plt.ylim([0.0, 1.05])\n",
    "\n",
    "plt.xlabel('False Positive Rate', fontsize = 25)\n",
    "plt.ylabel('True Positive Rate', fontsize = 25)  \n",
    "plt.legend(loc = 'lower right', fontsize = 12)\n",
    "\n",
    "plt.tick_params(labelsize = 16)"
   ]
  },
  {
   "cell_type": "code",
   "execution_count": null,
   "id": "98ae5333-62c2-4c70-bd57-2e32c03d222a",
   "metadata": {},
   "outputs": [],
   "source": []
  },
  {
   "cell_type": "code",
   "execution_count": null,
   "id": "e3edae96-0684-48fa-9e5d-d87b1528a249",
   "metadata": {},
   "outputs": [],
   "source": [
    "# results_m6a = results[results.m6a == 'yes']\n",
    "# results_m6a_gn = tx_to_gn(results_m6a, tx_df, ref_dict_gn)\n",
    "\n",
    "# bed_table = results_m6a_gn.loc[:,['chrom', 'gn_pos', 'gn_pos_1', 'name2', 'ratio', 'strand']]\n",
    "# bed_table.columns = ['chrom', 'chromStart', 'chromEnd', 'name', 'score', 'strand']\n",
    "\n",
    "# bed_table.to_csv(os.path.join('/home/bo-yi/data/DRS/20210806_HEK293-WT/preprocessed', 'results.bed'), sep = '\\t', index = None, header = None)"
   ]
  },
  {
   "cell_type": "code",
   "execution_count": null,
   "id": "ee11a7d1-a699-4db1-90c9-eb3dff98c83f",
   "metadata": {
    "tags": []
   },
   "outputs": [],
   "source": [
    "# gt_table_tx = pd.read_csv(os.path.join(out_dir, 'gt_sac_hek293_tx.csv'), index_col = 0)\n",
    "# gt_table_tx['name'] = [i.split('.')[0] for i in gt_table_tx['name']]\n",
    "# gt_sites = sorted([x.split('.')[0]+'_'+str(y) for x,y in zip(gt_table_tx['name'], gt_table_tx['tx_index'])])\n",
    "\n",
    "# ### m6atm\n",
    "# pred = pd.read_csv('/home/bo-yi/data/DRS/20210806_HEK293-WT/preprocessed/results_ivt20.csv', index_col = 0)\n",
    "# pred = pred[pred.motif.isin(DRACH)]\n",
    "# pred = pred[pred.coverage>=100]\n",
    "# pred['tx_site'] = [x+'_'+str(y) for x, y in zip(pred['transcript'], pred['position'])]\n",
    "# pred['gt'] = pred['tx_site'].isin(gt_sites)\n",
    "\n",
    "# ### m6anet\n",
    "# pred_m6anet = pd.read_csv(os.path.join(bmk_dir_hek293, 'm6anet', 'data.site_proba.csv'))\n",
    "# pred_m6anet['tx_site'] = [x.split('.')[0]+'_'+str(y) for x, y in zip(pred_m6anet['transcript_id'], pred_m6anet['transcript_position'])]\n",
    "# pred_m6anet = pred_m6anet[pred_m6anet.n_reads>=100]\n",
    "# pred_m6anet['gt'] = pred_m6anet['tx_site'].isin(gt_sites)\n",
    "\n",
    "# # sites\n",
    "# sites = set.intersection(set(pred['tx_site']), set(pred_m6anet['tx_site']))\n",
    "# pred = pred[pred.tx_site.isin(sites)]\n",
    "# pred_m6anet = pred_m6anet[pred_m6anet.tx_site.isin(sites)]\n",
    "\n",
    "# # auc roc\n",
    "# roc_m6atm = roc_val(pred, 'probability')\n",
    "# roc_m6anet = roc_val(pred_m6anet, 'probability_modified')\n",
    "\n",
    "# # auc pr\n",
    "# pr_m6atm = pr_val(pred, 'probability')\n",
    "# pr_m6anet = pr_val(pred_m6anet, 'probability_modified')"
   ]
  },
  {
   "cell_type": "markdown",
   "id": "f2f82bd8-86c2-4673-bf99-0abecd11fb42",
   "metadata": {},
   "source": [
    "### Fig 3D"
   ]
  },
  {
   "cell_type": "code",
   "execution_count": 7,
   "id": "0d906f84-c837-44a1-a447-54b8388e255d",
   "metadata": {
    "tags": []
   },
   "outputs": [],
   "source": [
    "data_dir = '/home/bo-yi/data/DRS/20210806_HEK293-WT/preprocessed'"
   ]
  },
  {
   "cell_type": "code",
   "execution_count": 8,
   "id": "7b0a6e6b-f393-4cd6-9790-f4bdc7bf7caa",
   "metadata": {
    "tags": []
   },
   "outputs": [],
   "source": [
    "tx_file = '/home/bo-yi/data/ref/enst_hg38Tables.tsv'\n",
    "ref_gn = '/home/bo-yi/data/ref/hg38.fa'\n",
    "\n",
    "tx_df = pd.read_csv(tx_file, sep = '\\t')\n",
    "tx_df['name'] = [i.split('.')[0] for i in tx_df['name']]\n",
    "ref_dict_gn = get_ref_dict(ref_gn)"
   ]
  },
  {
   "cell_type": "code",
   "execution_count": 9,
   "id": "92e1fde7-4720-41d7-b231-5df5c7d83596",
   "metadata": {
    "tags": []
   },
   "outputs": [],
   "source": [
    "pred = pd.read_csv(os.path.join(data_dir, 'results_ivt20.csv'), index_col = 0)\n",
    "pred_m6a = pred[pred.m6a == 'yes']\n",
    "pred_m6a_gn = tx_to_gn(pred_m6a, tx_df, ref_dict_gn)\n",
    "pred_m6a_gn['gn_site0'] = [x+'_'+str(y) for x, y in zip(pred_m6a_gn['chrom'], pred_m6a_gn['gn_pos'])]"
   ]
  },
  {
   "cell_type": "code",
   "execution_count": 10,
   "id": "cc876c8c-a551-423c-a968-194446eef7bc",
   "metadata": {
    "tags": []
   },
   "outputs": [],
   "source": [
    "gt_dir = '/home/bo-yi/data/m6a_gt/hek293'\n",
    "sac_gt = pd.read_csv(os.path.join(gt_dir, 'gt_sac_hek293.csv'), index_col = 0)\n",
    "miclip_gt = pd.read_csv(os.path.join(gt_dir, 'gt_cims_hek293.csv'), index_col = 0)"
   ]
  },
  {
   "cell_type": "code",
   "execution_count": null,
   "id": "0c4b0869-62bb-4f9f-aa8d-f5100e95d22a",
   "metadata": {
    "tags": []
   },
   "outputs": [],
   "source": [
    "### sets\n",
    "set1 = set(pred_m6a_gn.gn_site0.tolist())\n",
    "set2 = set(sac_gt.gn_site.tolist())\n",
    "set3 = set(miclip_gt.gn_site.tolist())\n",
    "\n",
    "### venn3\n",
    "sns.set_theme() # theme\n",
    "fig, ax = plt.subplots(figsize = (8, 8)) # figure size\n",
    "plt.gca().set_facecolor('white') # background\n",
    "tab_color = sns.color_palette('Set2')\n",
    "\n",
    "venn = venn3([set1, set2, set3], ('m6ATM', 'm6A-SAC-seq', 'miCLIP'), set_colors = (tab_color[0], tab_color[1], tab_color[2]))\n",
    "\n",
    "plt.savefig(os.path.join(out_dir, 'fig3c.png'), dpi = 300, bbox_inches = 'tight')\n",
    "\n",
    "for text in venn.set_labels:\n",
    "    text.set_visible(False)\n",
    "    \n",
    "for text in venn.subset_labels:\n",
    "    text.set_visible(False)\n",
    "\n",
    "# plt.savefig(os.path.join(out_dir, 'fig3c_nolabel.png'), dpi = 300, bbox_inches = 'tight')"
   ]
  },
  {
   "cell_type": "markdown",
   "id": "82ff160d-5ea7-4d70-9fe7-a34eac06d832",
   "metadata": {},
   "source": [
    "#### bar plots"
   ]
  },
  {
   "cell_type": "code",
   "execution_count": 12,
   "id": "953411eb-98cd-4f50-b356-13767de85a6a",
   "metadata": {},
   "outputs": [],
   "source": [
    "pred_gn = tx_to_gn(pred, tx_df, ref_dict_gn)\n",
    "pred_gn['gn_site0'] = [x+'_'+str(y) for x, y in zip(pred_gn['chrom'], pred_gn['gn_pos'])]\n",
    "sites_available = list(set(pred_gn.gn_site0))"
   ]
  },
  {
   "cell_type": "code",
   "execution_count": 13,
   "id": "d08d66fb-59ba-48b8-9c37-89523822b204",
   "metadata": {
    "tags": []
   },
   "outputs": [],
   "source": [
    "sac_gt_lost = sac_gt.loc[~sac_gt.gn_site.isin(sites_available),:]\n",
    "miclip_gt_lost = miclip_gt.loc[~miclip_gt.gn_site.isin(sites_available),:]"
   ]
  },
  {
   "cell_type": "code",
   "execution_count": 14,
   "id": "7160bcc7-bed1-481d-933b-89981c843f33",
   "metadata": {
    "tags": []
   },
   "outputs": [],
   "source": [
    "ratio_lost_sac = len(set(sac_gt_lost.gn_site))/len(set(sac_gt.gn_site))\n",
    "ratio_lost_miclip = len(set(miclip_gt_lost.gn_site))/len(set(miclip_gt.gn_site))"
   ]
  },
  {
   "cell_type": "code",
   "execution_count": 16,
   "id": "773126ba-4e01-4aa1-ba74-4c4447cde159",
   "metadata": {
    "tags": []
   },
   "outputs": [
    {
     "data": {
      "image/png": "[encoded data removed]",
      "text/plain": [
       "<Figure size 1000x300 with 1 Axes>"
      ]
     },
     "metadata": {},
     "output_type": "display_data"
    }
   ],
   "source": [
    "### bar plot \n",
    "# plot\n",
    "sns.set_theme(style = 'white') # theme\n",
    "tab_color = sns.color_palette() # color palette\n",
    "fig, ax = plt.subplots(figsize = (10, 3)) # figure size\n",
    "\n",
    "rows = ['miCLIP-seq', 'm6A-SAC-seq']\n",
    "val1 = [1-ratio_lost_miclip, 1-ratio_lost_sac]\n",
    "val2 = [ratio_lost_miclip, ratio_lost_sac]\n",
    "\n",
    "rect1 = ax.barh(rows, val1, align = 'center', height = 0.8, color = tab_color[0], label = 'val1')\n",
    "rect2 = ax.barh(rows, val2, align = 'center', left = val1, height = 0.8, color = tab_color[1], label = 'val2')\n",
    "\n",
    "ax.bar_label(rect1, fmt = '%.2f', label_type = 'center', fontsize = 18, weight = 'bold', color = 'white')\n",
    "ax.bar_label(rect2, fmt = '%.2f', label_type = 'center', fontsize = 18, weight = 'bold', color = 'white')\n",
    "\n",
    "plt.legend(labels  = ['Sites above the detection threshold of m6ATM (read coverage >= 20)', 'Sites below the detection threshold of m6ATM (read coverage < 20)'],\n",
    "           fontsize = 16, bbox_to_anchor = (0.96, 1))\n",
    "\n",
    "ax.invert_yaxis()\n",
    "ax.set_xticks([])\n",
    "ax.tick_params(labelsize = 20)\n",
    "sns.despine()\n",
    "\n",
    "plt.savefig(os.path.join(out_dir, 'figs_bar_ratio.png'), dpi = 300, bbox_inches = 'tight')"
   ]
  },
  {
   "cell_type": "code",
   "execution_count": null,
   "id": "8992a7ef-15e7-4531-afd8-f372a6492e22",
   "metadata": {},
   "outputs": [],
   "source": [
    "\n",
    "ax.bar_label(rects3, fmt = '%.2f', padding = 2, fontsize = 18, weight = 'bold')\n",
    "ax.bar_label(rects4, fmt = '%.2f', padding = 2, fontsize = 18, weight = 'bold')\n",
    "ax.bar_label(rects5, fmt = '%.2f', padding = 2, fontsize = 18, weight = 'bold')"
   ]
  },
  {
   "cell_type": "code",
   "execution_count": null,
   "id": "a775368e-f587-4dd8-a488-bdd4545b5a66",
   "metadata": {},
   "outputs": [],
   "source": []
  },
  {
   "cell_type": "code",
   "execution_count": null,
   "id": "9b6c6806-d69a-4cb4-9428-6ec76950b187",
   "metadata": {},
   "outputs": [],
   "source": []
  },
  {
   "cell_type": "code",
   "execution_count": null,
   "id": "a675701e-b67e-483f-ad95-4bf7528b889f",
   "metadata": {},
   "outputs": [],
   "source": []
  },
  {
   "cell_type": "markdown",
   "id": "a26ffe8b-6911-4115-92e4-dc4f40a67cf1",
   "metadata": {},
   "source": [
    "### Fig 3E"
   ]
  },
  {
   "cell_type": "code",
   "execution_count": null,
   "id": "07ade033-3987-4a74-aa83-9f7b155db544",
   "metadata": {
    "tags": []
   },
   "outputs": [],
   "source": [
    "data_dir = '/home/bo-yi/data/DRS/20210806_HEK293-WT/preprocessed'"
   ]
  },
  {
   "cell_type": "code",
   "execution_count": null,
   "id": "b7161ae9-888d-4d9b-8c2e-0a294395c2a7",
   "metadata": {
    "tags": []
   },
   "outputs": [],
   "source": [
    "tx_file = '/home/bo-yi/data/ref/enst_hg38Tables.tsv'\n",
    "ref_gn = '/home/bo-yi/data/ref/hg38.fa'\n",
    "\n",
    "tx_df = pd.read_csv(tx_file, sep = '\\t')\n",
    "tx_df['name'] = [i.split('.')[0] for i in tx_df['name']]\n",
    "ref_dict_gn = get_ref_dict(ref_gn)"
   ]
  },
  {
   "cell_type": "code",
   "execution_count": null,
   "id": "6641c65f-1552-4669-8ebb-e8ea6a839205",
   "metadata": {
    "tags": []
   },
   "outputs": [],
   "source": [
    "pred = pd.read_csv(os.path.join(data_dir, 'results_ivt20.csv'), index_col = 0)\n",
    "pred_m6a = pred[pred.m6a == 'yes']\n",
    "pred_m6a_gn = tx_to_gn(pred_m6a, tx_df, ref_dict_gn)"
   ]
  },
  {
   "cell_type": "code",
   "execution_count": null,
   "id": "dc7aceb7-e082-4630-9600-2775dba6c6c4",
   "metadata": {
    "tags": []
   },
   "outputs": [],
   "source": [
    "with open (os.path.join(data_dir, 'motif.txt'), 'w') as f:\n",
    "    for motif in pred_m6a_gn['motif']:\n",
    "        f.write(motif.replace('T', 'U')+'\\n')"
   ]
  },
  {
   "cell_type": "code",
   "execution_count": null,
   "id": "16b82d7c-4a11-401a-9ec2-77d606ff9e2d",
   "metadata": {
    "tags": []
   },
   "outputs": [],
   "source": [
    "gt_dir = '/home/bo-yi/data/m6a_gt/hek293'"
   ]
  },
  {
   "cell_type": "code",
   "execution_count": null,
   "id": "93e5db35-a3a3-49c8-880f-3541677a448c",
   "metadata": {
    "tags": []
   },
   "outputs": [],
   "source": [
    "### m6A-SAC-seq\n",
    "sac_gt = pd.read_csv('/home/bo-yi/data/m6a_gt/hek293/sac/sac_sites_hek293.csv', header = 0, names = ['chr' , 'center', 'strand', 'ratio', 'kmer'])\n",
    "\n",
    "with open (os.path.join(gt_dir, 'motif_sac.txt'), 'w') as f:\n",
    "    for motif in sac_gt['kmer']:\n",
    "        f.write(motif.replace('T', 'U')+'\\n')"
   ]
  },
  {
   "cell_type": "code",
   "execution_count": null,
   "id": "132d8613-5f9b-44d6-9475-29db985fa9c2",
   "metadata": {
    "tags": []
   },
   "outputs": [],
   "source": [
    "### milclip\n",
    "miclip_cims_gt = pd.read_csv('/home/bo-yi/data/m6a_gt/hek293/miclip/GSE63753_hek293.abcam.CIMS.m6A.9536.bed.txt', sep = '\\t', header = None,\n",
    "                             names = ['chr' ,'prior', 'center', 'peak_info', 'count', 'strand', 'kmer', 'coverage', 'ratio'])\n",
    "\n",
    "with open (os.path.join(gt_dir, 'motif_miclip.txt'), 'w') as f:\n",
    "    for motif in miclip_cims_gt['kmer']:\n",
    "        f.write(motif.replace('T', 'U')+'\\n')"
   ]
  },
  {
   "cell_type": "code",
   "execution_count": null,
   "id": "01896d4c-056e-4513-9a54-07e63aa30b41",
   "metadata": {},
   "outputs": [],
   "source": []
  }
 ],
 "metadata": {
  "kernelspec": {
   "display_name": "Python 3 (ipykernel)",
   "language": "python",
   "name": "python3"
  },
  "language_info": {
   "codemirror_mode": {
    "name": "ipython",
    "version": 3
   },
   "file_extension": ".py",
   "mimetype": "text/x-python",
   "name": "python",
   "nbconvert_exporter": "python",
   "pygments_lexer": "ipython3",
   "version": "3.7.16"
  }
 },
 "nbformat": 4,
 "nbformat_minor": 5
}
