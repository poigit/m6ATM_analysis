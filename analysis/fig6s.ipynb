{
 "cells": [
  {
   "cell_type": "markdown",
   "id": "39042945",
   "metadata": {},
   "source": [
    "### Modules"
   ]
  },
  {
   "cell_type": "code",
   "execution_count": 1,
   "id": "721c7baf",
   "metadata": {
    "tags": []
   },
   "outputs": [],
   "source": [
    "# basic\n",
    "import os, sys, glob, pybedtools\n",
    "import numpy as np, pandas as pd\n",
    "from Bio import SeqIO\n",
    "import matplotlib.pyplot as plt, seaborn as sns\n",
    "from matplotlib.cm import ScalarMappable\n",
    "from matplotlib.ticker import FormatStrFormatter\n",
    "from scipy.stats import fisher_exact"
   ]
  },
  {
   "cell_type": "code",
   "execution_count": 2,
   "id": "f6f8d6ec",
   "metadata": {
    "tags": []
   },
   "outputs": [],
   "source": [
    "sys.path.insert(1, '/home/bo-yi/package/m6atm/m6atm/preprocess')\n",
    "from ReadClass import *"
   ]
  },
  {
   "cell_type": "code",
   "execution_count": 3,
   "id": "c2b8d0b3",
   "metadata": {
    "tags": []
   },
   "outputs": [],
   "source": [
    "sys.path.insert(1, '/home/bo-yi/package/m6atm/m6atm/train')\n",
    "from ModelData import *"
   ]
  },
  {
   "cell_type": "code",
   "execution_count": 4,
   "id": "3aacc8e8",
   "metadata": {
    "tags": []
   },
   "outputs": [],
   "source": [
    "out_dir = '/home/bo-yi/paper'\n",
    "data_dir = '/home/bo-yi/data/DRS/20211102_HepG2-WT/preprocessed'\n",
    "\n",
    "tx_file = '/home/bo-yi/data/ref/enst_hg38Tables.tsv'\n",
    "ref_tx = '/home/bo-yi/data/ref/GRCh38_rna_ensembl.fa'\n",
    "ref_gn = '/home/bo-yi/data/ref/hg38.fa'"
   ]
  },
  {
   "cell_type": "code",
   "execution_count": 5,
   "id": "4d526170",
   "metadata": {
    "tags": []
   },
   "outputs": [],
   "source": [
    "os.environ['CUDA_VISIBLE_DEVICES'] = '1'"
   ]
  },
  {
   "cell_type": "markdown",
   "id": "8df79d86",
   "metadata": {},
   "source": [
    "### Fig 6 supplementary"
   ]
  },
  {
   "cell_type": "markdown",
   "id": "d6bc0d06-c797-412f-abfd-d10bce3962c5",
   "metadata": {
    "tags": []
   },
   "source": [
    "#### m6A peaks "
   ]
  },
  {
   "cell_type": "code",
   "execution_count": 6,
   "id": "15bf6a91",
   "metadata": {
    "tags": []
   },
   "outputs": [],
   "source": [
    "tx_df = pd.read_csv(tx_file, sep = '\\t')\n",
    "tx_df['name'] = [i.split('.')[0] for i in tx_df['name']]\n",
    "ref_dict_gn = get_ref_dict(ref_gn)"
   ]
  },
  {
   "cell_type": "code",
   "execution_count": 7,
   "id": "5a948877-6dee-4fc8-b7e0-6bd2b413066c",
   "metadata": {
    "tags": []
   },
   "outputs": [],
   "source": [
    "all_table_tx = pd.read_csv(os.path.join(data_dir, 'results.csv'), index_col = 0)\n",
    "m6a_table_tx = all_table_tx[all_table_tx.m6a == 'yes']\n",
    "m6a_table_gn = tx_to_gn(m6a_table_tx, tx_df, ref_dict_gn)\n",
    "m6a_sites = m6a_table_gn.gn_site.tolist()"
   ]
  },
  {
   "cell_type": "code",
   "execution_count": 8,
   "id": "f247ce5c",
   "metadata": {
    "tags": []
   },
   "outputs": [],
   "source": [
    "all_table_tx = pd.read_csv(os.path.join(data_dir, 'results.csv'), index_col = 0)\n",
    "all_table_gn = tx_to_gn(all_table_tx, tx_df, ref_dict_gn)"
   ]
  },
  {
   "cell_type": "code",
   "execution_count": null,
   "id": "b76df1b4-da88-4817-a5e2-e3930618013f",
   "metadata": {},
   "outputs": [],
   "source": [
    "gene_list = ['CENPB', 'FOXA1', 'PAQR8', '']"
   ]
  },
  {
   "cell_type": "code",
   "execution_count": null,
   "id": "a33aba69-9ae4-4734-aa64-9485a3a568f3",
   "metadata": {},
   "outputs": [],
   "source": []
  },
  {
   "cell_type": "code",
   "execution_count": null,
   "id": "04ebcd39-ef27-486a-a635-a6622cd17da9",
   "metadata": {},
   "outputs": [],
   "source": []
  },
  {
   "cell_type": "code",
   "execution_count": null,
   "id": "86e13741-b5b1-42b7-a5cf-0a263288e56a",
   "metadata": {},
   "outputs": [],
   "source": []
  },
  {
   "cell_type": "code",
   "execution_count": null,
   "id": "237d0775",
   "metadata": {
    "tags": []
   },
   "outputs": [],
   "source": [
    "peg10_df = all_table_gn.loc[all_table_gn['name2'] == 'PEG10',['chrom', 'gn_site', 'gn_pos', 'gn_pos_1', 'name2', 'probability', 'strand']]\n",
    "peg10_df['m6a'] = peg10_df.gn_site.isin(m6a_sites)\n",
    "peg10_df = peg10_df.loc[:,['chrom', 'gn_pos', 'gn_pos_1', 'name2', 'probability', 'strand', 'm6a']]\n",
    "peg10_bedtools = pybedtools.BedTool.from_dataframe(df = peg10_df)"
   ]
  },
  {
   "cell_type": "markdown",
   "id": "43c081ce-4ede-49e7-b27d-4c3687092dd8",
   "metadata": {},
   "source": [
    "#### eCLIP data"
   ]
  },
  {
   "cell_type": "code",
   "execution_count": null,
   "id": "ea3b25f8",
   "metadata": {
    "tags": []
   },
   "outputs": [],
   "source": [
    "names = ['chrom', 'chromStart', 'chromEnd', 'id', 'strand', 'name', 'exp', 'sample','accession']\n",
    "rbp_bed = pd.read_csv('/home/bo-yi/data/ref/rbp38.txt', sep = '\\t', header = None, names = names)\n",
    "rbp_bed_hepg2_encode= rbp_bed[(rbp_bed['sample'].isin(['HepG2'])) & (rbp_bed['accession'].isin(['ENCODE']))]"
   ]
  },
  {
   "cell_type": "code",
   "execution_count": null,
   "id": "cc6359bd",
   "metadata": {
    "tags": []
   },
   "outputs": [],
   "source": [
    "rbp_list = sorted(list(set(rbp_bed_hepg2_encode.name)))\n",
    "\n",
    "pval_list = []\n",
    "or_list = []\n",
    "val_list = []\n",
    "for i in rbp_list:\n",
    "    \n",
    "    # eCLIP data\n",
    "    eclip_bed = rbp_bed_hepg2_encode[rbp_bed_hepg2_encode['name'].isin([i])]\n",
    "    eclip_bed = eclip_bed.loc[:,['chrom', 'chromStart', 'chromEnd', 'name']]\n",
    "    eclip_bedtools = pybedtools.BedTool.from_dataframe(df = eclip_bed)\n",
    "    \n",
    "    # overlapping\n",
    "    overlapping = peg10_bedtools.intersect(eclip_bedtools, wao = True)\n",
    "    overlapping = overlapping.to_dataframe()\n",
    "    overlapping = overlapping[~overlapping.loc[:,['chrom', 'start', 'end']].duplicated()]\n",
    "    \n",
    "    # frequency table\n",
    "    val1 = overlapping[(overlapping['thickStart'] == True) & (overlapping['blockSizes'] == i)].shape[0]\n",
    "    val2 = overlapping[(overlapping['thickStart'] == True) & (overlapping['blockSizes'] == '.')].shape[0]\n",
    "    val3 = overlapping[(overlapping['thickStart'] == False) & (overlapping['blockSizes'] == i)].shape[0]\n",
    "    val4 = overlapping[(overlapping['thickStart'] == False) & (overlapping['blockSizes'] == '.')].shape[0]\n",
    "    \n",
    "    # fisher test\n",
    "    table = np.array([[val1, val2], [val3, val4]])\n",
    "    res = fisher_exact(table, alternative = 'greater')\n",
    "    \n",
    "    pval_list.append(res[1])\n",
    "    or_list.append(res[0])\n",
    "    val_list.append([val1, val2, val3, val4])"
   ]
  },
  {
   "cell_type": "code",
   "execution_count": null,
   "id": "625c0b9e",
   "metadata": {
    "tags": []
   },
   "outputs": [],
   "source": [
    "val_list_zip = list(zip(*val_list))\n",
    "result_table = pd.DataFrame({'rbp': rbp_list,\n",
    "                             'odds': or_list,\n",
    "                             'p_val': pval_list,\n",
    "                             'val1': val_list_zip[0],\n",
    "                             'val2': val_list_zip[1],\n",
    "                             'val3': val_list_zip[2],\n",
    "                             'val4': val_list_zip[3]})"
   ]
  },
  {
   "cell_type": "code",
   "execution_count": null,
   "id": "425dde5c-0309-42ec-956a-047fa6979943",
   "metadata": {
    "tags": []
   },
   "outputs": [],
   "source": [
    "result_table.sort_values(by = 'p_val', ascending = True).iloc[0:10]"
   ]
  },
  {
   "cell_type": "code",
   "execution_count": null,
   "id": "fd903ce0-49be-4e8b-b127-a6b76252ddc2",
   "metadata": {
    "tags": []
   },
   "outputs": [],
   "source": [
    "##### main\n",
    "sns.set_theme(style = 'whitegrid') # theme\n",
    "tab_color = sns.color_palette() # color palette\n",
    "fig, ax = plt.subplots(figsize = (12, 4)) # figure size\n",
    "\n",
    "### plot\n",
    "scatter_table = result_table.dropna()\n",
    "scatter = plt.scatter(scatter_table['odds'], scatter_table['val1'], c = scatter_table['p_val'], s = 80, cmap = 'viridis_r', alpha = 0.8, \n",
    "                      linewidth = 1, edgecolors = 'black')\n",
    "\n",
    "# cmap\n",
    "pval = scatter_table['p_val']\n",
    "data_color = [x/max(pval) for x in pval]\n",
    "my_cmap = plt.cm.get_cmap('viridis_r')\n",
    "colors = my_cmap(data_color)\n",
    "\n",
    "sm = ScalarMappable(cmap = my_cmap, norm = plt.Normalize(vmin = min(pval), vmax = max(pval)))\n",
    "sm.set_array([])\n",
    "\n",
    "cbar = plt.colorbar(sm, pad = 0.01, format = FormatStrFormatter('%g'))\n",
    "cbar.ax.tick_params(labelsize = 12)\n",
    "cbar.set_label('$\\\\mathit{P}$ value', rotation = 270, labelpad = 30, fontsize = 20)\n",
    "cbar.set_ticks(ticks = [0.05, 0.1, 0.2, 0.5])\n",
    "\n",
    "# axis\n",
    "ax.set_xlabel('Odds ratio', fontsize = 16)\n",
    "ax.set_ylabel('Number of overlapping', fontsize = 16)\n",
    "ax.tick_params(labelsize = 14)\n",
    "\n",
    "plt.savefig(os.path.join(out_dir, 'fig5g.png'), dpi = 300, bbox_inches = 'tight')"
   ]
  },
  {
   "cell_type": "code",
   "execution_count": null,
   "id": "b67b4e10-84fb-4a23-a0ac-2bc68aed1886",
   "metadata": {},
   "outputs": [],
   "source": [
    "### pie chart\n",
    "sns.set_theme(style = 'white') # theme\n",
    "tab_color = sns.color_palette('Set2') # color palette\n",
    "fig, ax = plt.subplots(figsize = (8, 8)) # figure size\n",
    "\n",
    "y1 = result_table[result_table.isna().any(axis=1)].shape[0]\n",
    "y2 = scatter_table.shape[0]\n",
    "\n",
    "labels = ['No overlap', '≥1 overlap']\n",
    "sizes = [y1, y2]\n",
    "\n",
    "ax.pie(sizes, labels = labels, explode = [0, 0.05], autopct = lambda x: int(np.round(x/100*sum(sizes), 0)),\n",
    "       shadow = False, startangle = 80, labeldistance = None, colors = [tab_color[0], tab_color[6]], \n",
    "       textprops={'fontsize': 26, 'weight': 'bold'},\n",
    "       wedgeprops={'linewidth': 0.5})\n",
    "\n",
    "fig.legend(labels, loc = 'upper right', fontsize = 20)\n",
    "\n",
    "plt.savefig(os.path.join(out_dir, 'figS6.tif'), dpi = 300, bbox_inches = 'tight')"
   ]
  },
  {
   "cell_type": "markdown",
   "id": "843f1b4f-a22a-4860-bc94-45fdf9b2b530",
   "metadata": {},
   "source": [
    "#### Overlapping sites"
   ]
  },
  {
   "cell_type": "code",
   "execution_count": null,
   "id": "5eede8eb-a998-4035-a30d-baa1c2c03845",
   "metadata": {
    "tags": []
   },
   "outputs": [],
   "source": [
    "peg10_df = all_table_gn.loc[all_table_gn['name2'] == 'PEG10',['chrom', 'gn_site', 'gn_pos', 'gn_pos_1', 'name2', 'ratio', 'strand']]\n",
    "peg10_df['m6a'] = peg10_df.gn_site.isin(m6a_sites)\n",
    "peg10_df = peg10_df.loc[:,['chrom', 'gn_pos', 'gn_pos_1', 'name2', 'ratio', 'strand', 'm6a']]\n",
    "peg10_bedtools = pybedtools.BedTool.from_dataframe(df = peg10_df)"
   ]
  },
  {
   "cell_type": "code",
   "execution_count": null,
   "id": "bebba493-9841-415c-b198-05353ec940c3",
   "metadata": {
    "tags": []
   },
   "outputs": [],
   "source": [
    "table_list = []\n",
    "for i in ['IGF2BP1', 'IGF2BP3']:\n",
    "\n",
    "    # eCLIP data\n",
    "    eclip_bed = rbp_bed_hepg2_encode[rbp_bed_hepg2_encode['name'].isin([i])]\n",
    "    eclip_bed = eclip_bed.loc[:,['chrom', 'chromStart', 'chromEnd', 'name']]\n",
    "    eclip_bedtools = pybedtools.BedTool.from_dataframe(df = eclip_bed)\n",
    "\n",
    "    # overlapping\n",
    "    overlapping = peg10_bedtools.intersect(eclip_bedtools, wao = True)\n",
    "    overlapping = overlapping.to_dataframe()\n",
    "    overlapping = overlapping[~overlapping.loc[:,['chrom', 'start', 'end']].duplicated()]\n",
    "\n",
    "    # frequency table\n",
    "    site_table = overlapping[(overlapping['thickStart'] == True) & (overlapping['blockSizes'] == i)]\n",
    "    table_list.append(site_table)\n",
    "    \n",
    "site_table_i = table_list[0].merge(table_list[1], on = ['chrom', 'start', 'end', 'score'])"
   ]
  },
  {
   "cell_type": "code",
   "execution_count": null,
   "id": "0b67f83a-35a1-4ad7-96d2-f555db84b7c4",
   "metadata": {
    "tags": []
   },
   "outputs": [],
   "source": [
    "### to bedGraph\n",
    "bedgraph = site_table_i.loc[:,['chrom', 'start', 'end', 'score']]\n",
    "bedgraph.columns = ['chrom', 'chromStart', 'chromEnd', 'score']\n",
    "\n",
    "with open(os.path.join(out_dir, 'peg10_overlap.bedGraph'), 'w') as f:\n",
    "\n",
    "    f.write('track type=bedGraph name=\"ratio\" description=\"m6ATM\" color=238,31,137'+'\\n')\n",
    "    bedgraph.to_csv(f, sep = '\\t', index = None, header = None)"
   ]
  },
  {
   "cell_type": "code",
   "execution_count": null,
   "id": "55dd4938-bcd8-42ba-bd95-037aa50bb0dc",
   "metadata": {},
   "outputs": [],
   "source": []
  },
  {
   "cell_type": "code",
   "execution_count": null,
   "id": "4dde8ba5-cb4f-4f88-87b1-89203fbff1cc",
   "metadata": {},
   "outputs": [],
   "source": []
  },
  {
   "cell_type": "code",
   "execution_count": null,
   "id": "75f4e552-7ad4-415c-906e-df1bbeee2031",
   "metadata": {},
   "outputs": [],
   "source": []
  },
  {
   "cell_type": "code",
   "execution_count": null,
   "id": "6ad99c05-d9fc-4b7d-919a-faf519b05f7b",
   "metadata": {},
   "outputs": [],
   "source": []
  },
  {
   "cell_type": "code",
   "execution_count": null,
   "id": "4f2a0df1-029e-46f0-943f-35a2ebf13c95",
   "metadata": {},
   "outputs": [],
   "source": [
    "rbp_list = ['IGF2BP1', 'IGF2BP3']\n",
    "\n",
    "pval_list = []\n",
    "or_list = []\n",
    "val_list = []\n",
    "for i in rbp_list:\n",
    "    \n",
    "    # eCLIP data\n",
    "    eclip_bed = rbp_bed_hepg2_encode[rbp_bed_hepg2_encode['name'].isin([i])]\n",
    "    eclip_bed = eclip_bed.loc[:,['chrom', 'chromStart', 'chromEnd', 'name']]\n",
    "    eclip_bedtools = pybedtools.BedTool.from_dataframe(df = eclip_bed)\n",
    "    \n",
    "    # overlapping\n",
    "    overlapping = peg10_bedtools.intersect(eclip_bedtools, wao = True)\n",
    "    overlapping = overlapping.to_dataframe()\n",
    "    overlapping = overlapping[~overlapping.loc[:,['chrom', 'start', 'end']].duplicated()]\n",
    "    \n",
    "    # frequency table\n",
    "    val1 = overlapping[(overlapping['thickStart'] == True) & (overlapping['blockSizes'] == i)].shape[0]\n",
    "    val2 = overlapping[(overlapping['thickStart'] == True) & (overlapping['blockSizes'] == '.')].shape[0]\n",
    "    val3 = overlapping[(overlapping['thickStart'] == False) & (overlapping['blockSizes'] == i)].shape[0]\n",
    "    val4 = overlapping[(overlapping['thickStart'] == False) & (overlapping['blockSizes'] == '.')].shape[0]\n",
    "    \n",
    "    # fisher test\n",
    "    table = np.array([[val1, val2], [val3, val4]])\n",
    "    res = fisher_exact(table, alternative = 'greater')\n",
    "    \n",
    "    pval_list.append(res[1])\n",
    "    or_list.append(res[0])\n",
    "    val_list.append([val1, val2, val3, val4])"
   ]
  },
  {
   "cell_type": "code",
   "execution_count": null,
   "id": "e9b432c5-98c6-4e54-8f84-2db046051e86",
   "metadata": {},
   "outputs": [],
   "source": []
  },
  {
   "cell_type": "code",
   "execution_count": null,
   "id": "9c2b7a10-7d1b-4162-934a-44afbc77560b",
   "metadata": {},
   "outputs": [],
   "source": []
  },
  {
   "cell_type": "code",
   "execution_count": null,
   "id": "bd678a29-90a8-4f73-98ec-f7742f749b1b",
   "metadata": {},
   "outputs": [],
   "source": []
  },
  {
   "cell_type": "code",
   "execution_count": null,
   "id": "3491753a-9603-4964-acd9-11cd80384e93",
   "metadata": {},
   "outputs": [],
   "source": []
  },
  {
   "cell_type": "code",
   "execution_count": null,
   "id": "fb729816-3888-4342-818f-70aa76709dc7",
   "metadata": {
    "tags": []
   },
   "outputs": [],
   "source": [
    "##### main\n",
    "sns.set_theme(style = 'white') # theme\n",
    "tab_color = sns.color_palette('Set2') # color palette\n",
    "fig, ax = plt.subplots(figsize = (2, 6)) # figure size\n",
    "\n",
    "### plot\n",
    "scatter_table = result_table.dropna()\n",
    "x = ['RBPs']\n",
    "y1 = result_table[result_table.isna().any(axis=1)].shape[0]\n",
    "y2 = scatter_table.shape[0]\n",
    "\n",
    "\n",
    "ax.bar(x, y1, label = 'No overlapping', align = 'center', width = 0.6, color = tab_color[0])\n",
    "ax.bar(x, y2, bottom = y1, label = '≥1 DRACH site \\noverlapping', align = 'center', width = 0.6, color = tab_color[6])\n",
    "\n",
    "ax.legend(bbox_to_anchor = (1, 1), fontsize = 14)\n",
    "\n",
    "# text\n",
    "for bar in ax.patches:\n",
    "    ax.text(bar.get_x() + bar.get_width()/2,\n",
    "            bar.get_y() + bar.get_height()/2,\n",
    "            bar.get_height(),\n",
    "            ha = 'center',\n",
    "            color = 'black',\n",
    "            weight = 'bold',\n",
    "            size = 20)\n",
    "\n",
    "# axis\n",
    "ax.set_xlim(-0.5, 0.5)\n",
    "ax.set_ylabel('Count', fontsize = 20)\n",
    "ax.tick_params(labelsize = 16)\n",
    "\n",
    "plt.savefig(os.path.join(out_dir, 'fig5g_supp.png'), dpi = 300, bbox_inches = 'tight')"
   ]
  },
  {
   "cell_type": "code",
   "execution_count": null,
   "id": "191dcd1d",
   "metadata": {
    "tags": []
   },
   "outputs": [],
   "source": [
    "bed_rbp_hepg2 = bed_rbp[(bed_rbp['sample'].isin(['HepG2'])) & (bed_rbp['name'].isin(m6abp))]\n",
    "# bed_rbp_hepg2 = bed_rbp_hepg2.loc[:,['chrom', 'chromStart', 'chromEnd', 'name']]\n",
    "# bed_rbp_hepg2.to_csv(os.path.join(out_dir, 'rbp_class1_hepg2.bed'), sep = '\\t', index = None, header = None)"
   ]
  },
  {
   "cell_type": "code",
   "execution_count": null,
   "id": "9122c6aa",
   "metadata": {
    "tags": []
   },
   "outputs": [],
   "source": [
    "bed_rbp_igf2bp1 = bed_rbp[(bed_rbp['sample'].isin(['HepG2'])) & (bed_rbp['name'].isin(['IGF2BP1']))]\n",
    "bed_rbp_igf2bp1 = bed_rbp_igf2bp1.loc[:,['chrom', 'chromStart', 'chromEnd', 'name']]\n",
    "bed_rbp_igf2bp1.to_csv(os.path.join(out_dir, 'eclip_igf2bp1_hepg2.bed'), sep = '\\t', index = None, header = None)"
   ]
  },
  {
   "cell_type": "code",
   "execution_count": null,
   "id": "3633ad7f",
   "metadata": {
    "tags": []
   },
   "outputs": [],
   "source": [
    "bed_rbp_igf2bp3 = bed_rbp[(bed_rbp['sample'].isin(['HepG2'])) & (bed_rbp['name'].isin(['IGF2BP3']))]\n",
    "bed_rbp_igf2bp3 = bed_rbp_igf2bp3.loc[:,['chrom', 'chromStart', 'chromEnd', 'name']]\n",
    "bed_rbp_igf2bp3.to_csv(os.path.join(out_dir, 'eclip_igf2bp3_hepg2.bed'), sep = '\\t', index = None, header = None)"
   ]
  },
  {
   "cell_type": "code",
   "execution_count": null,
   "id": "0840a44d",
   "metadata": {
    "tags": []
   },
   "outputs": [],
   "source": [
    "bed_rbp_hnrnpc = bed_rbp[(bed_rbp['sample'].isin(['HepG2'])) & (bed_rbp['name'].isin(['HNRNPC']))]\n",
    "bed_rbp_hnrnpc = bed_rbp_hnrnpc.loc[:,['chrom', 'chromStart', 'chromEnd', 'name']]\n",
    "bed_rbp_hnrnpc.to_csv(os.path.join(out_dir, 'eclip_hnrnpc_hepg2.bed'), sep = '\\t', index = None, header = None)"
   ]
  },
  {
   "cell_type": "code",
   "execution_count": null,
   "id": "97525e95",
   "metadata": {},
   "outputs": [],
   "source": []
  },
  {
   "cell_type": "code",
   "execution_count": null,
   "id": "39a4ce97",
   "metadata": {},
   "outputs": [],
   "source": []
  },
  {
   "cell_type": "code",
   "execution_count": null,
   "id": "a939f56f",
   "metadata": {},
   "outputs": [],
   "source": []
  }
 ],
 "metadata": {
  "kernelspec": {
   "display_name": "Python 3 (ipykernel)",
   "language": "python",
   "name": "python3"
  },
  "language_info": {
   "codemirror_mode": {
    "name": "ipython",
    "version": 3
   },
   "file_extension": ".py",
   "mimetype": "text/x-python",
   "name": "python",
   "nbconvert_exporter": "python",
   "pygments_lexer": "ipython3",
   "version": "3.7.16"
  }
 },
 "nbformat": 4,
 "nbformat_minor": 5
}
