{
 "cells": [
  {
   "cell_type": "markdown",
   "id": "b04e6bc5-6168-422c-a225-905a8a9084cf",
   "metadata": {},
   "source": [
    "### Modules"
   ]
  },
  {
   "cell_type": "code",
   "execution_count": null,
   "id": "934bfcb7-64cf-4f4a-90c9-08ce09bf5722",
   "metadata": {},
   "outputs": [],
   "source": [
    "# basic\n",
    "import os, sys, glob, umap\n",
    "import numpy as np, pandas as pd\n",
    "import matplotlib.pyplot as plt, seaborn as sns\n",
    "from sklearn.metrics import confusion_matrix, roc_curve, precision_recall_curve, auc, silhouette_samples\n",
    "from matplotlib.lines import Line2D"
   ]
  },
  {
   "cell_type": "markdown",
   "id": "ec3e4371-fe3b-4936-94d9-b02bde0ac1db",
   "metadata": {},
   "source": [
    "### Figure 2A and 2B"
   ]
  },
  {
   "cell_type": "code",
   "execution_count": null,
   "id": "54c6ab36-899f-413a-a93e-84e02aadb6eb",
   "metadata": {
    "tags": []
   },
   "outputs": [],
   "source": [
    "def model_performance(pred_pos, pred_neg):\n",
    "    \n",
    "    pred_table = pd.concat([pred_pos, pred_neg], axis = 0)\n",
    "\n",
    "    y_pred = [1 if i>=0.5 else 0 for i in pred_table['probability']]\n",
    "    y_true = [1]*pred_pos.shape[0]+[0]*pred_neg.shape[0]\n",
    "    confusion = confusion_matrix(y_true, y_pred)\n",
    "\n",
    "    TP = confusion[1,1]\n",
    "    FP = confusion[0,1]\n",
    "    TN = confusion[0,0]\n",
    "    FN = confusion[1,0]\n",
    "\n",
    "    precision = round(TP/(TP+FP), 2)\n",
    "    recall = round(TP/(TP+FN), 2)\n",
    "    accuracy = round((TP+TN)/confusion.sum(), 2)\n",
    "\n",
    "    out = [accuracy, precision, recall]\n",
    "    \n",
    "    return out\n",
    "\n",
    "def roc_val(pred_pos, pred_neg):\n",
    "    \n",
    "    pred_table = pd.concat([pred_pos, pred_neg], axis = 0)\n",
    "\n",
    "    y_pred = pred_table['probability']\n",
    "    y_true = [1]*pred_pos.shape[0]+[0]*pred_neg.shape[0]\n",
    "\n",
    "    fpr, tpr, thersholds = roc_curve(y_true, y_pred, pos_label = 1)\n",
    "    roc_auc = auc(fpr, tpr)\n",
    "\n",
    "    out = [fpr, tpr, roc_auc]\n",
    "    \n",
    "    return out"
   ]
  },
  {
   "cell_type": "code",
   "execution_count": null,
   "id": "3e0167fa-cf07-45db-b34b-ff471e9b2d41",
   "metadata": {
    "tags": []
   },
   "outputs": [],
   "source": [
    "### m6ATM prediction results in IVT data\n",
    "file_list = ['../data/ivtmix20_valid.csv',\n",
    "             '../data/ivtmix40_valid.csv',\n",
    "             '../data/ivtmix60_valid.csv',\n",
    "             '../data/ivtmix80_valid.csv',\n",
    "             '../data/ivtmix100_valid.csv',]\n",
    "\n",
    "pred_pos_list = [pd.read_csv(file, index_col = 0) for file in file_list]\n",
    "pred_neg = pd.read_csv('../data/ivtmix0_valid.csv', index_col = 0)\n",
    "\n",
    "\n",
    "### Figure 2A: bar plot for performance evaluation \n",
    "# data\n",
    "results = [model_performance(pred, pred_neg) for pred in pred_pos_list]\n",
    "\n",
    "# plot\n",
    "sns.set_theme(style = 'white') # theme\n",
    "tab_color = sns.color_palette() # color palette\n",
    "fig, ax = plt.subplots(figsize = (22, 6)) # figure size\n",
    "\n",
    "x = np.array([0.4, 1, 1.6])  # the label locations\n",
    "width = 0.1  # the width of the bars\n",
    "\n",
    "rects1 = ax.bar(x-0.2, results[0], width, label = 'IVT-20%', alpha = 0.8)\n",
    "rects2 = ax.bar(x-0.1, results[1], width, label = 'IVT-40%', alpha = 0.8)\n",
    "rects3 = ax.bar(x, results[2], width, label = 'IVT-60%', alpha = 0.8)\n",
    "rects4 = ax.bar(x+0.1, results[3], width, label = 'IVT-80%', alpha = 0.8)\n",
    "rects5 = ax.bar(x+0.2, results[4], width, label = 'IVT-100%', alpha = 0.8)\n",
    "\n",
    "plt.xticks(x, ['Accuracy', 'Precision', 'Recall'])\n",
    "\n",
    "ax.bar_label(rects1, fmt = '%.2f', padding = 2, fontsize = 18, weight = 'bold')\n",
    "ax.bar_label(rects2, fmt = '%.2f', padding = 2, fontsize = 18, weight = 'bold')\n",
    "ax.bar_label(rects3, fmt = '%.2f', padding = 2, fontsize = 18, weight = 'bold')\n",
    "ax.bar_label(rects4, fmt = '%.2f', padding = 2, fontsize = 18, weight = 'bold')\n",
    "ax.bar_label(rects5, fmt = '%.2f', padding = 2, fontsize = 18, weight = 'bold')\n",
    "\n",
    "\n",
    "plt.legend(labels  = ['IVT-20%', 'IVT-40%', 'IVT-60%', 'IVT-80%', 'IVT-100%'],\n",
    "           fontsize = 20, loc = 'upper center', ncol = 5, bbox_to_anchor = (0.5, 1.25))\n",
    "\n",
    "ax.set(xlim = (0.0, 1.9))\n",
    "ax.set(ylim = (0.0, 1.0))\n",
    "ax.tick_params(labelsize = 30)\n",
    "sns.despine()"
   ]
  },
  {
   "cell_type": "code",
   "execution_count": null,
   "id": "afa662e6-b7ab-4ff8-bdd0-68a87601adbe",
   "metadata": {
    "tags": []
   },
   "outputs": [],
   "source": [
    "### roc plot\n",
    "# data\n",
    "results = [roc_val(pred, pred_neg) for pred in pred_pos_list]\n",
    "\n",
    "# plot\n",
    "sns.set_theme(style = 'white') # theme\n",
    "tab_color = sns.color_palette()\n",
    "\n",
    "plt.plot(results[0][0], results[0][1], color = tab_color[0], lw = 2, label = 'IVT-20% (area = {0:.3f})'.format(results[0][2]))\n",
    "plt.plot(results[1][0], results[1][1], color = tab_color[1], lw = 2, label = 'IVT-40% (area = {0:.3f})'.format(results[1][2]))\n",
    "plt.plot(results[2][0], results[2][1], color = tab_color[2], lw = 2, label = 'IVT-60% (area = {0:.3f})'.format(results[2][2]))\n",
    "plt.plot(results[3][0], results[3][1], color = tab_color[3], lw = 2, label = 'IVT-80% (area = {0:.3f})'.format(results[3][2]))\n",
    "plt.plot(results[4][0], results[4][1], color = tab_color[4], lw = 2, label = 'IVT-100% (area = {0:.3f})'.format(results[4][2]))\n",
    "\n",
    "plt.plot([0, 1], [0, 1], color = 'gray', lw = 2, linestyle = '--')\n",
    "plt.xlim([0.0, 1.0])\n",
    "plt.ylim([0.0, 1.05])\n",
    "\n",
    "plt.xlabel('False Positive Rate', fontsize = 25)\n",
    "plt.ylabel('True Positive Rate', fontsize = 25)  \n",
    "plt.legend(loc = 'lower right', fontsize = 12)\n",
    "\n",
    "plt.tick_params(labelsize = 16)"
   ]
  },
  {
   "cell_type": "markdown",
   "id": "22d1827b-c4bf-4a8d-bd40-d07b0847ffd6",
   "metadata": {},
   "source": [
    "### Figure 2C and 2D"
   ]
  },
  {
   "cell_type": "code",
   "execution_count": null,
   "id": "85b35be5-dbee-42b6-82e2-34941bb3e227",
   "metadata": {
    "tags": []
   },
   "outputs": [],
   "source": [
    "# 'umap_**.csv' files contain the UMAP-transformed site-level features for each group"
   ]
  },
  {
   "cell_type": "code",
   "execution_count": null,
   "id": "c32596cc-78e2-4fc6-b476-05ad95d358fa",
   "metadata": {
    "tags": []
   },
   "outputs": [],
   "source": [
    "def plot_umap(df, color_set2 = False):\n",
    "\n",
    "    ### plot\n",
    "    sns.set_theme(style = 'white') # theme\n",
    "    tab_color = sns.color_palette() # color palette\n",
    "    color_1 = tab_color[0] if color_set2 else tab_color[9]\n",
    "    color_2 = tab_color[1] if color_set2 else tab_color[6]\n",
    "     \n",
    "    fig, ax = plt.subplots(figsize = (10, 8)) # figure size\n",
    "\n",
    "    sns.kdeplot(data = df, x = 'x', y = 'y', hue = 'label', linewidths = 3, palette = [color_1, color_2], levels = 5, thresh = .3)\n",
    "\n",
    "    ### legned\n",
    "    custom_obj = [Line2D([0], [0], color = color_1), Line2D([0], [0], color = color_2)]\n",
    "    custom_legend = ax.legend(custom_obj, ['m6A', 'Unmodified'], fontsize = 20)\n",
    "\n",
    "    for i in custom_legend.legendHandles:\n",
    "        i.set_linewidth(6)\n",
    "\n",
    "    ### axis\n",
    "    ax.set_xlabel('UMAP1', fontsize = 30)\n",
    "    ax.set_ylabel('UMAP2', fontsize = 30)\n",
    "    ax.tick_params(labelsize = 25)\n",
    "\n",
    "    \n",
    "def silhouette_plot(ax, slh_vals, labels, color_list):\n",
    "\n",
    "    y_ticks = []\n",
    "    y_lower = 0\n",
    "    y_upper = 0\n",
    "    for i, (cluster, color) in enumerate(zip(np.unique(labels), color_list)):\n",
    "        slh_vals_k = slh_vals[labels == cluster]\n",
    "        slh_vals_k.sort()\n",
    "        y_upper += len(slh_vals_k)\n",
    "        ax.fill_betweenx(np.arange(y_lower, y_upper), 0, slh_vals_k, facecolor = color, edgecolor = color, alpha = 0.7)\n",
    "        y_lower += len(slh_vals_k)\n",
    "\n",
    "        # Get the average silhouette score \n",
    "        avg_score = np.mean(slh_vals)\n",
    "        ax.axvline(avg_score, linestyle = '--', linewidth = 2, color = '#81B900')\n",
    "        ax.text(avg_score+0.02, 1, str(round(avg_score, 2)), color = '#81B900', fontsize = 25)\n",
    "        ax.set_yticks([])\n",
    "        ax.set_xlim([-0.8, 0.8])\n",
    "        ax.set_xlabel('Silhouette coefficient values', fontsize = 25)\n",
    "        ax.set_ylabel('Cluster labels', fontsize = 30)\n",
    "        \n",
    "        ax.tick_params(labelsize = 20)\n",
    "        \n",
    "        \n",
    "def plot_silhouette(df, color_set2 = False):\n",
    "\n",
    "    ### plot\n",
    "    sns.set_theme(style = 'white') # theme\n",
    "    tab_color = sns.color_palette() # color palette\n",
    "    color_1 = tab_color[0] if color_set2 else tab_color[9]\n",
    "    color_2 = tab_color[1] if color_set2 else tab_color[6]\n",
    "    \n",
    "    fig, ax = plt.subplots(figsize = (12, 6)) # figure size\n",
    "\n",
    "    slh_vals = silhouette_samples(df.loc[:,['x', 'y']], df.loc[:,'label'])\n",
    "    label_list = df.loc[:,'label']\n",
    "    color_list = [color_1, color_2]\n",
    "\n",
    "    silhouette_plot(ax, slh_vals, label_list, color_list)\n",
    "\n",
    "    ### legned\n",
    "    custom_obj = [Line2D([0], [0], color = color_1), Line2D([0], [0], color = color_2)]\n",
    "    custom_legend = ax.legend(custom_obj, ['m6A', 'Unmodified'], fontsize = 20, loc = 'upper left')\n",
    "\n",
    "    for i in custom_legend.legendHandles:\n",
    "        i.set_linewidth(6)\n",
    "\n",
    "    ### axis\n",
    "    ax.set_xlim([-1, 1])\n",
    "    "
   ]
  },
  {
   "cell_type": "code",
   "execution_count": null,
   "id": "3b772539-c2fe-48f1-b801-88e1bb56cc16",
   "metadata": {
    "tags": []
   },
   "outputs": [],
   "source": [
    "### Figure 2C: 100% m6A-modified vs. 0% modified (signal+trace)\n",
    "df = pd.read_csv('../data/umap_ivtmix100.csv')\n",
    "\n",
    "# plots\n",
    "plot_umap(df) # UMAP analysis\n",
    "plot_silhouette(df) # Silhouette analysis"
   ]
  },
  {
   "cell_type": "code",
   "execution_count": null,
   "id": "69be113a-78e1-4dfa-93fb-46fd53a55dd2",
   "metadata": {
    "tags": []
   },
   "outputs": [],
   "source": [
    "### Figure S4: 60% m6A-modified vs. 0% modified (signal+trace)\n",
    "df = pd.read_csv('../data/umap_ivtmix60.csv')\n",
    "\n",
    "# plots\n",
    "plot_umap(df) # UMAP analysis\n",
    "plot_silhouette(df) # Silhouette analysis"
   ]
  },
  {
   "cell_type": "code",
   "execution_count": null,
   "id": "07ed5d9f-07d6-4392-a183-8f9d4ca86613",
   "metadata": {
    "tags": []
   },
   "outputs": [],
   "source": [
    "### Figure S4: 20% m6A-modified vs. 0% modified (signal+trace)\n",
    "df = pd.read_csv('../data/umap_ivtmix20.csv')\n",
    "\n",
    "# plots\n",
    "plot_umap(df) # UMAP analysis\n",
    "plot_silhouette(df) # Silhouette analysis"
   ]
  },
  {
   "cell_type": "code",
   "execution_count": null,
   "id": "8722fe5e-96ec-4550-a49b-4d4345c41a7c",
   "metadata": {
    "tags": []
   },
   "outputs": [],
   "source": [
    "### Figure S4: 100% m6A-modified vs. 0% modified (signal only)\n",
    "df = pd.read_csv('../data/umap_ivtmix100_s.csv')\n",
    "\n",
    "# plots\n",
    "plot_umap(df, color_set2 = True) # UMAP analysis\n",
    "plot_silhouette(df, color_set2 = True) # Silhouette analysis"
   ]
  },
  {
   "cell_type": "code",
   "execution_count": null,
   "id": "b045df85-b02d-454b-a318-da5c220f5e43",
   "metadata": {},
   "outputs": [],
   "source": []
  }
 ],
 "metadata": {
  "kernelspec": {
   "display_name": "Python 3 (ipykernel)",
   "language": "python",
   "name": "python3"
  },
  "language_info": {
   "codemirror_mode": {
    "name": "ipython",
    "version": 3
   },
   "file_extension": ".py",
   "mimetype": "text/x-python",
   "name": "python",
   "nbconvert_exporter": "python",
   "pygments_lexer": "ipython3",
   "version": "3.7.16"
  }
 },
 "nbformat": 4,
 "nbformat_minor": 5
}
